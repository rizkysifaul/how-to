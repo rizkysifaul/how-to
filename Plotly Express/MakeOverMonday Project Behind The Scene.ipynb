{
 "cells": [
  {
   "cell_type": "code",
   "execution_count": 1,
   "metadata": {
    "ExecuteTime": {
     "end_time": "2019-10-29T02:55:51.366418Z",
     "start_time": "2019-10-29T02:55:39.970801Z"
    }
   },
   "outputs": [],
   "source": [
    "import plotly.express as px\n",
    "import pandas as pd\n",
    "from plotly.offline import init_notebook_mode, plot, iplot"
   ]
  },
  {
   "cell_type": "code",
   "execution_count": 2,
   "metadata": {
    "ExecuteTime": {
     "end_time": "2019-10-29T02:56:02.409791Z",
     "start_time": "2019-10-29T02:56:02.026353Z"
    }
   },
   "outputs": [
    {
     "data": {
      "text/html": [
       "<div>\n",
       "<style scoped>\n",
       "    .dataframe tbody tr th:only-of-type {\n",
       "        vertical-align: middle;\n",
       "    }\n",
       "\n",
       "    .dataframe tbody tr th {\n",
       "        vertical-align: top;\n",
       "    }\n",
       "\n",
       "    .dataframe thead th {\n",
       "        text-align: right;\n",
       "    }\n",
       "</style>\n",
       "<table border=\"1\" class=\"dataframe\">\n",
       "  <thead>\n",
       "    <tr style=\"text-align: right;\">\n",
       "      <th></th>\n",
       "      <th>Continent</th>\n",
       "      <th>Country</th>\n",
       "      <th>City</th>\n",
       "      <th>Jan</th>\n",
       "      <th>Feb</th>\n",
       "      <th>Mar</th>\n",
       "      <th>Apr</th>\n",
       "      <th>May</th>\n",
       "      <th>Jun</th>\n",
       "      <th>Jul</th>\n",
       "      <th>Aug</th>\n",
       "      <th>Sep</th>\n",
       "      <th>Oct</th>\n",
       "      <th>Nov</th>\n",
       "      <th>Dec</th>\n",
       "      <th>Year</th>\n",
       "    </tr>\n",
       "  </thead>\n",
       "  <tbody>\n",
       "    <tr>\n",
       "      <th>0</th>\n",
       "      <td>Africa</td>\n",
       "      <td>Ivory Coast</td>\n",
       "      <td>Gagnoa</td>\n",
       "      <td>183.0</td>\n",
       "      <td>180.0</td>\n",
       "      <td>196.0</td>\n",
       "      <td>188.0</td>\n",
       "      <td>181.0</td>\n",
       "      <td>118.0</td>\n",
       "      <td>97.0</td>\n",
       "      <td>80.0</td>\n",
       "      <td>110.0</td>\n",
       "      <td>155.0</td>\n",
       "      <td>171.0</td>\n",
       "      <td>164.0</td>\n",
       "      <td>1823.0</td>\n",
       "    </tr>\n",
       "    <tr>\n",
       "      <th>1</th>\n",
       "      <td>Africa</td>\n",
       "      <td>Ivory Coast</td>\n",
       "      <td>Bouaké</td>\n",
       "      <td>242.0</td>\n",
       "      <td>224.0</td>\n",
       "      <td>219.0</td>\n",
       "      <td>194.0</td>\n",
       "      <td>208.0</td>\n",
       "      <td>145.0</td>\n",
       "      <td>104.0</td>\n",
       "      <td>82.0</td>\n",
       "      <td>115.0</td>\n",
       "      <td>170.0</td>\n",
       "      <td>191.0</td>\n",
       "      <td>198.0</td>\n",
       "      <td>2092.0</td>\n",
       "    </tr>\n",
       "    <tr>\n",
       "      <th>2</th>\n",
       "      <td>Africa</td>\n",
       "      <td>Ivory Coast</td>\n",
       "      <td>Abidjan</td>\n",
       "      <td>223.0</td>\n",
       "      <td>223.0</td>\n",
       "      <td>239.0</td>\n",
       "      <td>214.0</td>\n",
       "      <td>205.0</td>\n",
       "      <td>128.0</td>\n",
       "      <td>137.0</td>\n",
       "      <td>125.0</td>\n",
       "      <td>139.0</td>\n",
       "      <td>215.0</td>\n",
       "      <td>224.0</td>\n",
       "      <td>224.0</td>\n",
       "      <td>2296.0</td>\n",
       "    </tr>\n",
       "    <tr>\n",
       "      <th>3</th>\n",
       "      <td>Africa</td>\n",
       "      <td>Ivory Coast</td>\n",
       "      <td>Odienné</td>\n",
       "      <td>242.0</td>\n",
       "      <td>220.2</td>\n",
       "      <td>217.3</td>\n",
       "      <td>214.7</td>\n",
       "      <td>248.8</td>\n",
       "      <td>221.8</td>\n",
       "      <td>183.5</td>\n",
       "      <td>174.5</td>\n",
       "      <td>185.4</td>\n",
       "      <td>235.8</td>\n",
       "      <td>252.0</td>\n",
       "      <td>242.6</td>\n",
       "      <td>2638.6</td>\n",
       "    </tr>\n",
       "    <tr>\n",
       "      <th>4</th>\n",
       "      <td>Africa</td>\n",
       "      <td>Ivory Coast</td>\n",
       "      <td>Ferké</td>\n",
       "      <td>279.0</td>\n",
       "      <td>249.0</td>\n",
       "      <td>253.0</td>\n",
       "      <td>229.0</td>\n",
       "      <td>251.0</td>\n",
       "      <td>221.0</td>\n",
       "      <td>183.0</td>\n",
       "      <td>151.0</td>\n",
       "      <td>173.0</td>\n",
       "      <td>245.0</td>\n",
       "      <td>261.0</td>\n",
       "      <td>262.0</td>\n",
       "      <td>2757.0</td>\n",
       "    </tr>\n",
       "  </tbody>\n",
       "</table>\n",
       "</div>"
      ],
      "text/plain": [
       "  Continent      Country     City    Jan    Feb    Mar    Apr    May    Jun  \\\n",
       "0    Africa  Ivory Coast   Gagnoa  183.0  180.0  196.0  188.0  181.0  118.0   \n",
       "1    Africa  Ivory Coast   Bouaké  242.0  224.0  219.0  194.0  208.0  145.0   \n",
       "2    Africa  Ivory Coast  Abidjan  223.0  223.0  239.0  214.0  205.0  128.0   \n",
       "3    Africa  Ivory Coast  Odienné  242.0  220.2  217.3  214.7  248.8  221.8   \n",
       "4    Africa  Ivory Coast    Ferké  279.0  249.0  253.0  229.0  251.0  221.0   \n",
       "\n",
       "     Jul    Aug    Sep    Oct    Nov    Dec    Year  \n",
       "0   97.0   80.0  110.0  155.0  171.0  164.0  1823.0  \n",
       "1  104.0   82.0  115.0  170.0  191.0  198.0  2092.0  \n",
       "2  137.0  125.0  139.0  215.0  224.0  224.0  2296.0  \n",
       "3  183.5  174.5  185.4  235.8  252.0  242.6  2638.6  \n",
       "4  183.0  151.0  173.0  245.0  261.0  262.0  2757.0  "
      ]
     },
     "execution_count": 2,
     "metadata": {},
     "output_type": "execute_result"
    }
   ],
   "source": [
    "data = pd.read_excel(\"Copy of Cities by Sunshine Duration.xlsx\")\n",
    "data.head()"
   ]
  },
  {
   "cell_type": "code",
   "execution_count": 3,
   "metadata": {
    "ExecuteTime": {
     "end_time": "2019-10-29T03:02:41.450564Z",
     "start_time": "2019-10-29T03:02:41.445019Z"
    }
   },
   "outputs": [],
   "source": [
    "id_vars = ['Continent', 'Country', 'City']"
   ]
  },
  {
   "cell_type": "code",
   "execution_count": 4,
   "metadata": {
    "ExecuteTime": {
     "end_time": "2019-10-29T03:02:53.951009Z",
     "start_time": "2019-10-29T03:02:53.940694Z"
    }
   },
   "outputs": [
    {
     "data": {
      "text/plain": [
       "(338, 16)"
      ]
     },
     "execution_count": 4,
     "metadata": {},
     "output_type": "execute_result"
    }
   ],
   "source": [
    "data.shape"
   ]
  },
  {
   "cell_type": "code",
   "execution_count": 6,
   "metadata": {
    "ExecuteTime": {
     "end_time": "2019-10-29T03:06:45.241132Z",
     "start_time": "2019-10-29T03:06:45.195742Z"
    }
   },
   "outputs": [
    {
     "data": {
      "text/html": [
       "<div>\n",
       "<style scoped>\n",
       "    .dataframe tbody tr th:only-of-type {\n",
       "        vertical-align: middle;\n",
       "    }\n",
       "\n",
       "    .dataframe tbody tr th {\n",
       "        vertical-align: top;\n",
       "    }\n",
       "\n",
       "    .dataframe thead th {\n",
       "        text-align: right;\n",
       "    }\n",
       "</style>\n",
       "<table border=\"1\" class=\"dataframe\">\n",
       "  <thead>\n",
       "    <tr style=\"text-align: right;\">\n",
       "      <th></th>\n",
       "      <th>Continent</th>\n",
       "      <th>Country</th>\n",
       "      <th>City</th>\n",
       "      <th>Month</th>\n",
       "      <th>Value</th>\n",
       "    </tr>\n",
       "  </thead>\n",
       "  <tbody>\n",
       "    <tr>\n",
       "      <th>0</th>\n",
       "      <td>Africa</td>\n",
       "      <td>Ivory Coast</td>\n",
       "      <td>Gagnoa</td>\n",
       "      <td>Jan</td>\n",
       "      <td>183.0</td>\n",
       "    </tr>\n",
       "    <tr>\n",
       "      <th>1</th>\n",
       "      <td>Africa</td>\n",
       "      <td>Ivory Coast</td>\n",
       "      <td>Bouaké</td>\n",
       "      <td>Jan</td>\n",
       "      <td>242.0</td>\n",
       "    </tr>\n",
       "    <tr>\n",
       "      <th>2</th>\n",
       "      <td>Africa</td>\n",
       "      <td>Ivory Coast</td>\n",
       "      <td>Abidjan</td>\n",
       "      <td>Jan</td>\n",
       "      <td>223.0</td>\n",
       "    </tr>\n",
       "    <tr>\n",
       "      <th>3</th>\n",
       "      <td>Africa</td>\n",
       "      <td>Ivory Coast</td>\n",
       "      <td>Odienné</td>\n",
       "      <td>Jan</td>\n",
       "      <td>242.0</td>\n",
       "    </tr>\n",
       "    <tr>\n",
       "      <th>4</th>\n",
       "      <td>Africa</td>\n",
       "      <td>Ivory Coast</td>\n",
       "      <td>Ferké</td>\n",
       "      <td>Jan</td>\n",
       "      <td>279.0</td>\n",
       "    </tr>\n",
       "    <tr>\n",
       "      <th>5</th>\n",
       "      <td>Africa</td>\n",
       "      <td>Benin</td>\n",
       "      <td>Cotonou</td>\n",
       "      <td>Jan</td>\n",
       "      <td>213.9</td>\n",
       "    </tr>\n",
       "    <tr>\n",
       "      <th>6</th>\n",
       "      <td>Africa</td>\n",
       "      <td>Benin</td>\n",
       "      <td>Parakou</td>\n",
       "      <td>Jan</td>\n",
       "      <td>261.0</td>\n",
       "    </tr>\n",
       "    <tr>\n",
       "      <th>7</th>\n",
       "      <td>Africa</td>\n",
       "      <td>Benin</td>\n",
       "      <td>Kandi</td>\n",
       "      <td>Jan</td>\n",
       "      <td>279.0</td>\n",
       "    </tr>\n",
       "    <tr>\n",
       "      <th>8</th>\n",
       "      <td>Africa</td>\n",
       "      <td>Togo</td>\n",
       "      <td>Lomé</td>\n",
       "      <td>Jan</td>\n",
       "      <td>217.5</td>\n",
       "    </tr>\n",
       "    <tr>\n",
       "      <th>9</th>\n",
       "      <td>Africa</td>\n",
       "      <td>Togo</td>\n",
       "      <td>Mango</td>\n",
       "      <td>Jan</td>\n",
       "      <td>285.0</td>\n",
       "    </tr>\n",
       "    <tr>\n",
       "      <th>10</th>\n",
       "      <td>Africa</td>\n",
       "      <td>Ghana</td>\n",
       "      <td>Accra</td>\n",
       "      <td>Jan</td>\n",
       "      <td>217.0</td>\n",
       "    </tr>\n",
       "    <tr>\n",
       "      <th>11</th>\n",
       "      <td>Africa</td>\n",
       "      <td>Ghana</td>\n",
       "      <td>Tamale</td>\n",
       "      <td>Jan</td>\n",
       "      <td>265.6</td>\n",
       "    </tr>\n",
       "    <tr>\n",
       "      <th>12</th>\n",
       "      <td>Africa</td>\n",
       "      <td>Ghana</td>\n",
       "      <td>Kumasi</td>\n",
       "      <td>Jan</td>\n",
       "      <td>186.6</td>\n",
       "    </tr>\n",
       "    <tr>\n",
       "      <th>13</th>\n",
       "      <td>Africa</td>\n",
       "      <td>Cameroon</td>\n",
       "      <td>Garoua</td>\n",
       "      <td>Jan</td>\n",
       "      <td>275.0</td>\n",
       "    </tr>\n",
       "    <tr>\n",
       "      <th>14</th>\n",
       "      <td>Africa</td>\n",
       "      <td>Cameroon</td>\n",
       "      <td>N'Gaoundéré</td>\n",
       "      <td>Jan</td>\n",
       "      <td>286.4</td>\n",
       "    </tr>\n",
       "    <tr>\n",
       "      <th>15</th>\n",
       "      <td>Africa</td>\n",
       "      <td>Cameroon</td>\n",
       "      <td>Douala</td>\n",
       "      <td>Jan</td>\n",
       "      <td>184.0</td>\n",
       "    </tr>\n",
       "    <tr>\n",
       "      <th>16</th>\n",
       "      <td>Africa</td>\n",
       "      <td>Cameroon</td>\n",
       "      <td>Yaoundé</td>\n",
       "      <td>Jan</td>\n",
       "      <td>177.0</td>\n",
       "    </tr>\n",
       "    <tr>\n",
       "      <th>17</th>\n",
       "      <td>Africa</td>\n",
       "      <td>Gabon</td>\n",
       "      <td>Libreville</td>\n",
       "      <td>Jan</td>\n",
       "      <td>175.2</td>\n",
       "    </tr>\n",
       "    <tr>\n",
       "      <th>18</th>\n",
       "      <td>Africa</td>\n",
       "      <td>Gabon</td>\n",
       "      <td>Port-Gentil</td>\n",
       "      <td>Jan</td>\n",
       "      <td>150.4</td>\n",
       "    </tr>\n",
       "    <tr>\n",
       "      <th>19</th>\n",
       "      <td>Africa</td>\n",
       "      <td>Nigeria</td>\n",
       "      <td>Lagos</td>\n",
       "      <td>Jan</td>\n",
       "      <td>164.3</td>\n",
       "    </tr>\n",
       "    <tr>\n",
       "      <th>20</th>\n",
       "      <td>Africa</td>\n",
       "      <td>Nigeria</td>\n",
       "      <td>Makurdi</td>\n",
       "      <td>Jan</td>\n",
       "      <td>236.0</td>\n",
       "    </tr>\n",
       "    <tr>\n",
       "      <th>21</th>\n",
       "      <td>Africa</td>\n",
       "      <td>Nigeria</td>\n",
       "      <td>Jos</td>\n",
       "      <td>Jan</td>\n",
       "      <td>307.0</td>\n",
       "    </tr>\n",
       "    <tr>\n",
       "      <th>22</th>\n",
       "      <td>Africa</td>\n",
       "      <td>Nigeria</td>\n",
       "      <td>Kano</td>\n",
       "      <td>Jan</td>\n",
       "      <td>275.0</td>\n",
       "    </tr>\n",
       "    <tr>\n",
       "      <th>23</th>\n",
       "      <td>Africa</td>\n",
       "      <td>Nigeria</td>\n",
       "      <td>Sokoto</td>\n",
       "      <td>Jan</td>\n",
       "      <td>279.0</td>\n",
       "    </tr>\n",
       "    <tr>\n",
       "      <th>24</th>\n",
       "      <td>Africa</td>\n",
       "      <td>Sudan</td>\n",
       "      <td>Port Sudan</td>\n",
       "      <td>Jan</td>\n",
       "      <td>214.0</td>\n",
       "    </tr>\n",
       "    <tr>\n",
       "      <th>25</th>\n",
       "      <td>Africa</td>\n",
       "      <td>Sudan</td>\n",
       "      <td>Khartoum</td>\n",
       "      <td>Jan</td>\n",
       "      <td>341.0</td>\n",
       "    </tr>\n",
       "    <tr>\n",
       "      <th>26</th>\n",
       "      <td>Africa</td>\n",
       "      <td>Eritrea</td>\n",
       "      <td>Asmara</td>\n",
       "      <td>Jan</td>\n",
       "      <td>304.7</td>\n",
       "    </tr>\n",
       "    <tr>\n",
       "      <th>27</th>\n",
       "      <td>Africa</td>\n",
       "      <td>Burkina Faso</td>\n",
       "      <td>Ouagadougou</td>\n",
       "      <td>Jan</td>\n",
       "      <td>287.0</td>\n",
       "    </tr>\n",
       "    <tr>\n",
       "      <th>28</th>\n",
       "      <td>Africa</td>\n",
       "      <td>Burkina Faso</td>\n",
       "      <td>Ouahigouya</td>\n",
       "      <td>Jan</td>\n",
       "      <td>291.0</td>\n",
       "    </tr>\n",
       "    <tr>\n",
       "      <th>29</th>\n",
       "      <td>Africa</td>\n",
       "      <td>Niger</td>\n",
       "      <td>Niamey</td>\n",
       "      <td>Jan</td>\n",
       "      <td>297.6</td>\n",
       "    </tr>\n",
       "    <tr>\n",
       "      <th>30</th>\n",
       "      <td>Africa</td>\n",
       "      <td>Chad</td>\n",
       "      <td>N'Djamena</td>\n",
       "      <td>Jan</td>\n",
       "      <td>297.6</td>\n",
       "    </tr>\n",
       "    <tr>\n",
       "      <th>31</th>\n",
       "      <td>Africa</td>\n",
       "      <td>Chad</td>\n",
       "      <td>Abéché</td>\n",
       "      <td>Jan</td>\n",
       "      <td>316.2</td>\n",
       "    </tr>\n",
       "    <tr>\n",
       "      <th>32</th>\n",
       "      <td>Africa</td>\n",
       "      <td>Gambia</td>\n",
       "      <td>Banjul</td>\n",
       "      <td>Jan</td>\n",
       "      <td>279.0</td>\n",
       "    </tr>\n",
       "    <tr>\n",
       "      <th>33</th>\n",
       "      <td>Africa</td>\n",
       "      <td>Senegal</td>\n",
       "      <td>Dakar</td>\n",
       "      <td>Jan</td>\n",
       "      <td>253.0</td>\n",
       "    </tr>\n",
       "    <tr>\n",
       "      <th>34</th>\n",
       "      <td>Africa</td>\n",
       "      <td>Senegal</td>\n",
       "      <td>Thiès</td>\n",
       "      <td>Jan</td>\n",
       "      <td>267.0</td>\n",
       "    </tr>\n",
       "    <tr>\n",
       "      <th>35</th>\n",
       "      <td>Africa</td>\n",
       "      <td>Somalia</td>\n",
       "      <td>Mogadishu</td>\n",
       "      <td>Jan</td>\n",
       "      <td>268.0</td>\n",
       "    </tr>\n",
       "    <tr>\n",
       "      <th>36</th>\n",
       "      <td>Africa</td>\n",
       "      <td>Somalia</td>\n",
       "      <td>Buloburde</td>\n",
       "      <td>Jan</td>\n",
       "      <td>290.0</td>\n",
       "    </tr>\n",
       "    <tr>\n",
       "      <th>37</th>\n",
       "      <td>Africa</td>\n",
       "      <td>Djibouti</td>\n",
       "      <td>Djibouti City</td>\n",
       "      <td>Jan</td>\n",
       "      <td>254.0</td>\n",
       "    </tr>\n",
       "    <tr>\n",
       "      <th>38</th>\n",
       "      <td>Africa</td>\n",
       "      <td>Mali</td>\n",
       "      <td>Ségou</td>\n",
       "      <td>Jan</td>\n",
       "      <td>292.0</td>\n",
       "    </tr>\n",
       "    <tr>\n",
       "      <th>39</th>\n",
       "      <td>Africa</td>\n",
       "      <td>Mali</td>\n",
       "      <td>Timbuktu</td>\n",
       "      <td>Jan</td>\n",
       "      <td>283.0</td>\n",
       "    </tr>\n",
       "    <tr>\n",
       "      <th>40</th>\n",
       "      <td>Africa</td>\n",
       "      <td>Mali</td>\n",
       "      <td>Bamako</td>\n",
       "      <td>Jan</td>\n",
       "      <td>277.4</td>\n",
       "    </tr>\n",
       "    <tr>\n",
       "      <th>41</th>\n",
       "      <td>Africa</td>\n",
       "      <td>Algeria</td>\n",
       "      <td>Algiers</td>\n",
       "      <td>Jan</td>\n",
       "      <td>149.0</td>\n",
       "    </tr>\n",
       "    <tr>\n",
       "      <th>42</th>\n",
       "      <td>Africa</td>\n",
       "      <td>Algeria</td>\n",
       "      <td>Tamanrasset</td>\n",
       "      <td>Jan</td>\n",
       "      <td>297.6</td>\n",
       "    </tr>\n",
       "    <tr>\n",
       "      <th>43</th>\n",
       "      <td>Africa</td>\n",
       "      <td>Tunisia</td>\n",
       "      <td>Tunis</td>\n",
       "      <td>Jan</td>\n",
       "      <td>145.7</td>\n",
       "    </tr>\n",
       "    <tr>\n",
       "      <th>44</th>\n",
       "      <td>Africa</td>\n",
       "      <td>Tunisia</td>\n",
       "      <td>Gabes</td>\n",
       "      <td>Jan</td>\n",
       "      <td>220.1</td>\n",
       "    </tr>\n",
       "    <tr>\n",
       "      <th>45</th>\n",
       "      <td>Africa</td>\n",
       "      <td>Morocco</td>\n",
       "      <td>Rabat</td>\n",
       "      <td>Jan</td>\n",
       "      <td>179.8</td>\n",
       "    </tr>\n",
       "    <tr>\n",
       "      <th>46</th>\n",
       "      <td>Africa</td>\n",
       "      <td>Morocco</td>\n",
       "      <td>Marrakech</td>\n",
       "      <td>Jan</td>\n",
       "      <td>220.1</td>\n",
       "    </tr>\n",
       "    <tr>\n",
       "      <th>47</th>\n",
       "      <td>Africa</td>\n",
       "      <td>Morocco</td>\n",
       "      <td>Ouarzazate</td>\n",
       "      <td>Jan</td>\n",
       "      <td>251.8</td>\n",
       "    </tr>\n",
       "    <tr>\n",
       "      <th>48</th>\n",
       "      <td>Africa</td>\n",
       "      <td>Egypt</td>\n",
       "      <td>Cairo</td>\n",
       "      <td>Jan</td>\n",
       "      <td>229.4</td>\n",
       "    </tr>\n",
       "    <tr>\n",
       "      <th>49</th>\n",
       "      <td>Africa</td>\n",
       "      <td>Egypt</td>\n",
       "      <td>Alexandria</td>\n",
       "      <td>Jan</td>\n",
       "      <td>217.0</td>\n",
       "    </tr>\n",
       "  </tbody>\n",
       "</table>\n",
       "</div>"
      ],
      "text/plain": [
       "   Continent       Country           City Month  Value\n",
       "0     Africa   Ivory Coast         Gagnoa   Jan  183.0\n",
       "1     Africa   Ivory Coast         Bouaké   Jan  242.0\n",
       "2     Africa   Ivory Coast        Abidjan   Jan  223.0\n",
       "3     Africa   Ivory Coast        Odienné   Jan  242.0\n",
       "4     Africa   Ivory Coast          Ferké   Jan  279.0\n",
       "5     Africa         Benin        Cotonou   Jan  213.9\n",
       "6     Africa         Benin        Parakou   Jan  261.0\n",
       "7     Africa         Benin          Kandi   Jan  279.0\n",
       "8     Africa          Togo           Lomé   Jan  217.5\n",
       "9     Africa          Togo          Mango   Jan  285.0\n",
       "10    Africa         Ghana          Accra   Jan  217.0\n",
       "11    Africa         Ghana         Tamale   Jan  265.6\n",
       "12    Africa         Ghana         Kumasi   Jan  186.6\n",
       "13    Africa      Cameroon         Garoua   Jan  275.0\n",
       "14    Africa      Cameroon    N'Gaoundéré   Jan  286.4\n",
       "15    Africa      Cameroon         Douala   Jan  184.0\n",
       "16    Africa      Cameroon        Yaoundé   Jan  177.0\n",
       "17    Africa         Gabon     Libreville   Jan  175.2\n",
       "18    Africa         Gabon    Port-Gentil   Jan  150.4\n",
       "19    Africa       Nigeria          Lagos   Jan  164.3\n",
       "20    Africa       Nigeria        Makurdi   Jan  236.0\n",
       "21    Africa       Nigeria            Jos   Jan  307.0\n",
       "22    Africa       Nigeria           Kano   Jan  275.0\n",
       "23    Africa       Nigeria         Sokoto   Jan  279.0\n",
       "24    Africa         Sudan     Port Sudan   Jan  214.0\n",
       "25    Africa         Sudan       Khartoum   Jan  341.0\n",
       "26    Africa       Eritrea         Asmara   Jan  304.7\n",
       "27    Africa  Burkina Faso    Ouagadougou   Jan  287.0\n",
       "28    Africa  Burkina Faso     Ouahigouya   Jan  291.0\n",
       "29    Africa         Niger         Niamey   Jan  297.6\n",
       "30    Africa          Chad      N'Djamena   Jan  297.6\n",
       "31    Africa          Chad         Abéché   Jan  316.2\n",
       "32    Africa        Gambia         Banjul   Jan  279.0\n",
       "33    Africa       Senegal          Dakar   Jan  253.0\n",
       "34    Africa       Senegal          Thiès   Jan  267.0\n",
       "35    Africa       Somalia      Mogadishu   Jan  268.0\n",
       "36    Africa       Somalia      Buloburde   Jan  290.0\n",
       "37    Africa      Djibouti  Djibouti City   Jan  254.0\n",
       "38    Africa          Mali          Ségou   Jan  292.0\n",
       "39    Africa          Mali       Timbuktu   Jan  283.0\n",
       "40    Africa          Mali         Bamako   Jan  277.4\n",
       "41    Africa       Algeria        Algiers   Jan  149.0\n",
       "42    Africa       Algeria    Tamanrasset   Jan  297.6\n",
       "43    Africa       Tunisia          Tunis   Jan  145.7\n",
       "44    Africa       Tunisia          Gabes   Jan  220.1\n",
       "45    Africa       Morocco          Rabat   Jan  179.8\n",
       "46    Africa       Morocco      Marrakech   Jan  220.1\n",
       "47    Africa       Morocco     Ouarzazate   Jan  251.8\n",
       "48    Africa         Egypt          Cairo   Jan  229.4\n",
       "49    Africa         Egypt     Alexandria   Jan  217.0"
      ]
     },
     "execution_count": 6,
     "metadata": {},
     "output_type": "execute_result"
    }
   ],
   "source": [
    "format_df = pd.melt(frame=data, \n",
    "                    id_vars=id_vars, \n",
    "                   var_name='Month',\n",
    "                   value_name='Value')\n",
    "format_df.head(50)"
   ]
  },
  {
   "cell_type": "code",
   "execution_count": 7,
   "metadata": {
    "ExecuteTime": {
     "end_time": "2019-10-29T03:07:00.121391Z",
     "start_time": "2019-10-29T03:07:00.113162Z"
    }
   },
   "outputs": [
    {
     "data": {
      "text/plain": [
       "(4394, 5)"
      ]
     },
     "execution_count": 7,
     "metadata": {},
     "output_type": "execute_result"
    }
   ],
   "source": [
    "format_df.shape"
   ]
  },
  {
   "cell_type": "code",
   "execution_count": 8,
   "metadata": {
    "ExecuteTime": {
     "end_time": "2019-10-29T03:08:39.416382Z",
     "start_time": "2019-10-29T03:08:38.061121Z"
    }
   },
   "outputs": [],
   "source": [
    "format_df.to_excel(\"formatted_data.xlsx\", index=False)"
   ]
  },
  {
   "cell_type": "code",
   "execution_count": 9,
   "metadata": {
    "ExecuteTime": {
     "end_time": "2019-10-29T03:47:58.908063Z",
     "start_time": "2019-10-29T03:47:58.521236Z"
    }
   },
   "outputs": [
    {
     "data": {
      "text/html": [
       "<div>\n",
       "<style scoped>\n",
       "    .dataframe tbody tr th:only-of-type {\n",
       "        vertical-align: middle;\n",
       "    }\n",
       "\n",
       "    .dataframe tbody tr th {\n",
       "        vertical-align: top;\n",
       "    }\n",
       "\n",
       "    .dataframe thead th {\n",
       "        text-align: right;\n",
       "    }\n",
       "</style>\n",
       "<table border=\"1\" class=\"dataframe\">\n",
       "  <thead>\n",
       "    <tr style=\"text-align: right;\">\n",
       "      <th></th>\n",
       "      <th>Continent</th>\n",
       "      <th>Country</th>\n",
       "      <th>City</th>\n",
       "      <th>Month</th>\n",
       "      <th>Value</th>\n",
       "    </tr>\n",
       "  </thead>\n",
       "  <tbody>\n",
       "    <tr>\n",
       "      <th>113</th>\n",
       "      <td>Asia</td>\n",
       "      <td>Afghanistan</td>\n",
       "      <td>Kabul</td>\n",
       "      <td>Jan</td>\n",
       "      <td>177.2</td>\n",
       "    </tr>\n",
       "    <tr>\n",
       "      <th>114</th>\n",
       "      <td>Asia</td>\n",
       "      <td>Azerbaijan</td>\n",
       "      <td>Baku</td>\n",
       "      <td>Jan</td>\n",
       "      <td>89.9</td>\n",
       "    </tr>\n",
       "    <tr>\n",
       "      <th>115</th>\n",
       "      <td>Asia</td>\n",
       "      <td>Bangladesh</td>\n",
       "      <td>Dhaka</td>\n",
       "      <td>Jan</td>\n",
       "      <td>279.0</td>\n",
       "    </tr>\n",
       "    <tr>\n",
       "      <th>116</th>\n",
       "      <td>Asia</td>\n",
       "      <td>China</td>\n",
       "      <td>Beijing</td>\n",
       "      <td>Jan</td>\n",
       "      <td>194.1</td>\n",
       "    </tr>\n",
       "    <tr>\n",
       "      <th>117</th>\n",
       "      <td>Asia</td>\n",
       "      <td>China</td>\n",
       "      <td>Chongqing</td>\n",
       "      <td>Jan</td>\n",
       "      <td>20.6</td>\n",
       "    </tr>\n",
       "  </tbody>\n",
       "</table>\n",
       "</div>"
      ],
      "text/plain": [
       "    Continent      Country       City Month  Value\n",
       "113      Asia  Afghanistan      Kabul   Jan  177.2\n",
       "114      Asia   Azerbaijan       Baku   Jan   89.9\n",
       "115      Asia   Bangladesh      Dhaka   Jan  279.0\n",
       "116      Asia        China    Beijing   Jan  194.1\n",
       "117      Asia        China  Chongqing   Jan   20.6"
      ]
     },
     "execution_count": 9,
     "metadata": {},
     "output_type": "execute_result"
    }
   ],
   "source": [
    "data_asia = format_df[format_df['Continent'] == 'Asia']\n",
    "data_asia.head()"
   ]
  },
  {
   "cell_type": "code",
   "execution_count": 4,
   "metadata": {
    "ExecuteTime": {
     "end_time": "2019-10-28T13:24:38.908455Z",
     "start_time": "2019-10-28T13:24:35.691063Z"
    }
   },
   "outputs": [
    {
     "data": {
      "application/vnd.plotly.v1+json": {
       "config": {
        "plotlyServerURL": "https://plot.ly"
       },
       "data": [
        {
         "hoverlabel": {
          "namelength": 0
         },
         "hovertemplate": "Country=%{x}<br>Year=%{y}",
         "legendgroup": "",
         "line": {
          "color": "#636efa",
          "dash": "solid"
         },
         "mode": "lines",
         "name": "",
         "showlegend": false,
         "type": "scatter",
         "x": [
          "Afghanistan",
          "Azerbaijan",
          "Bangladesh",
          "China",
          "China",
          "China",
          "China",
          "China",
          "Hong Kong",
          "India",
          "India",
          "India",
          "India",
          "Indonesia",
          "Iran",
          "Iraq",
          "Israel",
          "Japan",
          "Japan",
          "Kazakhstan",
          "Kazakhstan",
          "Macau",
          "Mongolia",
          "North Korea",
          "Oman",
          "Pakistan",
          "Pakistan",
          "Philippines",
          "Russia",
          "Russia",
          "Russia",
          "Russia",
          "Russia",
          "Russia",
          "Saudi Arabia",
          "Saudi Arabia",
          "Singapore",
          "South Korea",
          "South Korea",
          "Taiwan",
          "Taiwan",
          "Taiwan",
          "Thailand",
          "Thailand",
          "Thailand",
          "Thailand",
          "Turkey",
          "United Arab Emirates",
          "Uzbekistan",
          "Vietnam",
          "Vietnam",
          "Vietnam",
          "Vietnam"
         ],
         "xaxis": "x",
         "y": [
          3175.1,
          2207.4,
          2066,
          2670.8,
          954.8,
          2990.2,
          1775.8,
          2523.3,
          1835.6,
          2684.6,
          2107.5,
          2583.5,
          2361,
          2983.3,
          2826.1,
          3240.8,
          3311,
          1740.4,
          1876.7,
          2356,
          2507,
          1773.9,
          2791.5,
          2492,
          3493.3,
          2950.3,
          3034,
          2103.1,
          1164.3,
          2142,
          2201,
          1872.4,
          2096,
          2227.6,
          3248.2,
          3224.8,
          2022.4,
          2327.3,
          2066,
          2212.2,
          2043.2,
          1405.2,
          2623.8,
          2512.2,
          1567.8,
          1996.3,
          2449.6,
          3508.7,
          2823.9,
          2238,
          2182,
          1585,
          2489
         ],
         "yaxis": "y"
        }
       ],
       "layout": {
        "height": 600,
        "legend": {
         "tracegroupgap": 0
        },
        "margin": {
         "t": 60
        },
        "template": {
         "data": {
          "bar": [
           {
            "error_x": {
             "color": "#2a3f5f"
            },
            "error_y": {
             "color": "#2a3f5f"
            },
            "marker": {
             "line": {
              "color": "#E5ECF6",
              "width": 0.5
             }
            },
            "type": "bar"
           }
          ],
          "barpolar": [
           {
            "marker": {
             "line": {
              "color": "#E5ECF6",
              "width": 0.5
             }
            },
            "type": "barpolar"
           }
          ],
          "carpet": [
           {
            "aaxis": {
             "endlinecolor": "#2a3f5f",
             "gridcolor": "white",
             "linecolor": "white",
             "minorgridcolor": "white",
             "startlinecolor": "#2a3f5f"
            },
            "baxis": {
             "endlinecolor": "#2a3f5f",
             "gridcolor": "white",
             "linecolor": "white",
             "minorgridcolor": "white",
             "startlinecolor": "#2a3f5f"
            },
            "type": "carpet"
           }
          ],
          "choropleth": [
           {
            "colorbar": {
             "outlinewidth": 0,
             "ticks": ""
            },
            "type": "choropleth"
           }
          ],
          "contour": [
           {
            "colorbar": {
             "outlinewidth": 0,
             "ticks": ""
            },
            "colorscale": [
             [
              0,
              "#0d0887"
             ],
             [
              0.1111111111111111,
              "#46039f"
             ],
             [
              0.2222222222222222,
              "#7201a8"
             ],
             [
              0.3333333333333333,
              "#9c179e"
             ],
             [
              0.4444444444444444,
              "#bd3786"
             ],
             [
              0.5555555555555556,
              "#d8576b"
             ],
             [
              0.6666666666666666,
              "#ed7953"
             ],
             [
              0.7777777777777778,
              "#fb9f3a"
             ],
             [
              0.8888888888888888,
              "#fdca26"
             ],
             [
              1,
              "#f0f921"
             ]
            ],
            "type": "contour"
           }
          ],
          "contourcarpet": [
           {
            "colorbar": {
             "outlinewidth": 0,
             "ticks": ""
            },
            "type": "contourcarpet"
           }
          ],
          "heatmap": [
           {
            "colorbar": {
             "outlinewidth": 0,
             "ticks": ""
            },
            "colorscale": [
             [
              0,
              "#0d0887"
             ],
             [
              0.1111111111111111,
              "#46039f"
             ],
             [
              0.2222222222222222,
              "#7201a8"
             ],
             [
              0.3333333333333333,
              "#9c179e"
             ],
             [
              0.4444444444444444,
              "#bd3786"
             ],
             [
              0.5555555555555556,
              "#d8576b"
             ],
             [
              0.6666666666666666,
              "#ed7953"
             ],
             [
              0.7777777777777778,
              "#fb9f3a"
             ],
             [
              0.8888888888888888,
              "#fdca26"
             ],
             [
              1,
              "#f0f921"
             ]
            ],
            "type": "heatmap"
           }
          ],
          "heatmapgl": [
           {
            "colorbar": {
             "outlinewidth": 0,
             "ticks": ""
            },
            "colorscale": [
             [
              0,
              "#0d0887"
             ],
             [
              0.1111111111111111,
              "#46039f"
             ],
             [
              0.2222222222222222,
              "#7201a8"
             ],
             [
              0.3333333333333333,
              "#9c179e"
             ],
             [
              0.4444444444444444,
              "#bd3786"
             ],
             [
              0.5555555555555556,
              "#d8576b"
             ],
             [
              0.6666666666666666,
              "#ed7953"
             ],
             [
              0.7777777777777778,
              "#fb9f3a"
             ],
             [
              0.8888888888888888,
              "#fdca26"
             ],
             [
              1,
              "#f0f921"
             ]
            ],
            "type": "heatmapgl"
           }
          ],
          "histogram": [
           {
            "marker": {
             "colorbar": {
              "outlinewidth": 0,
              "ticks": ""
             }
            },
            "type": "histogram"
           }
          ],
          "histogram2d": [
           {
            "colorbar": {
             "outlinewidth": 0,
             "ticks": ""
            },
            "colorscale": [
             [
              0,
              "#0d0887"
             ],
             [
              0.1111111111111111,
              "#46039f"
             ],
             [
              0.2222222222222222,
              "#7201a8"
             ],
             [
              0.3333333333333333,
              "#9c179e"
             ],
             [
              0.4444444444444444,
              "#bd3786"
             ],
             [
              0.5555555555555556,
              "#d8576b"
             ],
             [
              0.6666666666666666,
              "#ed7953"
             ],
             [
              0.7777777777777778,
              "#fb9f3a"
             ],
             [
              0.8888888888888888,
              "#fdca26"
             ],
             [
              1,
              "#f0f921"
             ]
            ],
            "type": "histogram2d"
           }
          ],
          "histogram2dcontour": [
           {
            "colorbar": {
             "outlinewidth": 0,
             "ticks": ""
            },
            "colorscale": [
             [
              0,
              "#0d0887"
             ],
             [
              0.1111111111111111,
              "#46039f"
             ],
             [
              0.2222222222222222,
              "#7201a8"
             ],
             [
              0.3333333333333333,
              "#9c179e"
             ],
             [
              0.4444444444444444,
              "#bd3786"
             ],
             [
              0.5555555555555556,
              "#d8576b"
             ],
             [
              0.6666666666666666,
              "#ed7953"
             ],
             [
              0.7777777777777778,
              "#fb9f3a"
             ],
             [
              0.8888888888888888,
              "#fdca26"
             ],
             [
              1,
              "#f0f921"
             ]
            ],
            "type": "histogram2dcontour"
           }
          ],
          "mesh3d": [
           {
            "colorbar": {
             "outlinewidth": 0,
             "ticks": ""
            },
            "type": "mesh3d"
           }
          ],
          "parcoords": [
           {
            "line": {
             "colorbar": {
              "outlinewidth": 0,
              "ticks": ""
             }
            },
            "type": "parcoords"
           }
          ],
          "scatter": [
           {
            "marker": {
             "colorbar": {
              "outlinewidth": 0,
              "ticks": ""
             }
            },
            "type": "scatter"
           }
          ],
          "scatter3d": [
           {
            "line": {
             "colorbar": {
              "outlinewidth": 0,
              "ticks": ""
             }
            },
            "marker": {
             "colorbar": {
              "outlinewidth": 0,
              "ticks": ""
             }
            },
            "type": "scatter3d"
           }
          ],
          "scattercarpet": [
           {
            "marker": {
             "colorbar": {
              "outlinewidth": 0,
              "ticks": ""
             }
            },
            "type": "scattercarpet"
           }
          ],
          "scattergeo": [
           {
            "marker": {
             "colorbar": {
              "outlinewidth": 0,
              "ticks": ""
             }
            },
            "type": "scattergeo"
           }
          ],
          "scattergl": [
           {
            "marker": {
             "colorbar": {
              "outlinewidth": 0,
              "ticks": ""
             }
            },
            "type": "scattergl"
           }
          ],
          "scattermapbox": [
           {
            "marker": {
             "colorbar": {
              "outlinewidth": 0,
              "ticks": ""
             }
            },
            "type": "scattermapbox"
           }
          ],
          "scatterpolar": [
           {
            "marker": {
             "colorbar": {
              "outlinewidth": 0,
              "ticks": ""
             }
            },
            "type": "scatterpolar"
           }
          ],
          "scatterpolargl": [
           {
            "marker": {
             "colorbar": {
              "outlinewidth": 0,
              "ticks": ""
             }
            },
            "type": "scatterpolargl"
           }
          ],
          "scatterternary": [
           {
            "marker": {
             "colorbar": {
              "outlinewidth": 0,
              "ticks": ""
             }
            },
            "type": "scatterternary"
           }
          ],
          "surface": [
           {
            "colorbar": {
             "outlinewidth": 0,
             "ticks": ""
            },
            "colorscale": [
             [
              0,
              "#0d0887"
             ],
             [
              0.1111111111111111,
              "#46039f"
             ],
             [
              0.2222222222222222,
              "#7201a8"
             ],
             [
              0.3333333333333333,
              "#9c179e"
             ],
             [
              0.4444444444444444,
              "#bd3786"
             ],
             [
              0.5555555555555556,
              "#d8576b"
             ],
             [
              0.6666666666666666,
              "#ed7953"
             ],
             [
              0.7777777777777778,
              "#fb9f3a"
             ],
             [
              0.8888888888888888,
              "#fdca26"
             ],
             [
              1,
              "#f0f921"
             ]
            ],
            "type": "surface"
           }
          ],
          "table": [
           {
            "cells": {
             "fill": {
              "color": "#EBF0F8"
             },
             "line": {
              "color": "white"
             }
            },
            "header": {
             "fill": {
              "color": "#C8D4E3"
             },
             "line": {
              "color": "white"
             }
            },
            "type": "table"
           }
          ]
         },
         "layout": {
          "annotationdefaults": {
           "arrowcolor": "#2a3f5f",
           "arrowhead": 0,
           "arrowwidth": 1
          },
          "colorscale": {
           "diverging": [
            [
             0,
             "#8e0152"
            ],
            [
             0.1,
             "#c51b7d"
            ],
            [
             0.2,
             "#de77ae"
            ],
            [
             0.3,
             "#f1b6da"
            ],
            [
             0.4,
             "#fde0ef"
            ],
            [
             0.5,
             "#f7f7f7"
            ],
            [
             0.6,
             "#e6f5d0"
            ],
            [
             0.7,
             "#b8e186"
            ],
            [
             0.8,
             "#7fbc41"
            ],
            [
             0.9,
             "#4d9221"
            ],
            [
             1,
             "#276419"
            ]
           ],
           "sequential": [
            [
             0,
             "#0d0887"
            ],
            [
             0.1111111111111111,
             "#46039f"
            ],
            [
             0.2222222222222222,
             "#7201a8"
            ],
            [
             0.3333333333333333,
             "#9c179e"
            ],
            [
             0.4444444444444444,
             "#bd3786"
            ],
            [
             0.5555555555555556,
             "#d8576b"
            ],
            [
             0.6666666666666666,
             "#ed7953"
            ],
            [
             0.7777777777777778,
             "#fb9f3a"
            ],
            [
             0.8888888888888888,
             "#fdca26"
            ],
            [
             1,
             "#f0f921"
            ]
           ],
           "sequentialminus": [
            [
             0,
             "#0d0887"
            ],
            [
             0.1111111111111111,
             "#46039f"
            ],
            [
             0.2222222222222222,
             "#7201a8"
            ],
            [
             0.3333333333333333,
             "#9c179e"
            ],
            [
             0.4444444444444444,
             "#bd3786"
            ],
            [
             0.5555555555555556,
             "#d8576b"
            ],
            [
             0.6666666666666666,
             "#ed7953"
            ],
            [
             0.7777777777777778,
             "#fb9f3a"
            ],
            [
             0.8888888888888888,
             "#fdca26"
            ],
            [
             1,
             "#f0f921"
            ]
           ]
          },
          "colorway": [
           "#636efa",
           "#EF553B",
           "#00cc96",
           "#ab63fa",
           "#FFA15A",
           "#19d3f3",
           "#FF6692",
           "#B6E880",
           "#FF97FF",
           "#FECB52"
          ],
          "font": {
           "color": "#2a3f5f"
          },
          "geo": {
           "bgcolor": "white",
           "lakecolor": "white",
           "landcolor": "#E5ECF6",
           "showlakes": true,
           "showland": true,
           "subunitcolor": "white"
          },
          "hoverlabel": {
           "align": "left"
          },
          "hovermode": "closest",
          "mapbox": {
           "style": "light"
          },
          "paper_bgcolor": "white",
          "plot_bgcolor": "#E5ECF6",
          "polar": {
           "angularaxis": {
            "gridcolor": "white",
            "linecolor": "white",
            "ticks": ""
           },
           "bgcolor": "#E5ECF6",
           "radialaxis": {
            "gridcolor": "white",
            "linecolor": "white",
            "ticks": ""
           }
          },
          "scene": {
           "xaxis": {
            "backgroundcolor": "#E5ECF6",
            "gridcolor": "white",
            "gridwidth": 2,
            "linecolor": "white",
            "showbackground": true,
            "ticks": "",
            "zerolinecolor": "white"
           },
           "yaxis": {
            "backgroundcolor": "#E5ECF6",
            "gridcolor": "white",
            "gridwidth": 2,
            "linecolor": "white",
            "showbackground": true,
            "ticks": "",
            "zerolinecolor": "white"
           },
           "zaxis": {
            "backgroundcolor": "#E5ECF6",
            "gridcolor": "white",
            "gridwidth": 2,
            "linecolor": "white",
            "showbackground": true,
            "ticks": "",
            "zerolinecolor": "white"
           }
          },
          "shapedefaults": {
           "line": {
            "color": "#2a3f5f"
           }
          },
          "ternary": {
           "aaxis": {
            "gridcolor": "white",
            "linecolor": "white",
            "ticks": ""
           },
           "baxis": {
            "gridcolor": "white",
            "linecolor": "white",
            "ticks": ""
           },
           "bgcolor": "#E5ECF6",
           "caxis": {
            "gridcolor": "white",
            "linecolor": "white",
            "ticks": ""
           }
          },
          "title": {
           "x": 0.05
          },
          "xaxis": {
           "automargin": true,
           "gridcolor": "white",
           "linecolor": "white",
           "ticks": "",
           "zerolinecolor": "white",
           "zerolinewidth": 2
          },
          "yaxis": {
           "automargin": true,
           "gridcolor": "white",
           "linecolor": "white",
           "ticks": "",
           "zerolinecolor": "white",
           "zerolinewidth": 2
          }
         }
        },
        "xaxis": {
         "anchor": "y",
         "domain": [
          0,
          0.98
         ],
         "title": {
          "text": "Country"
         }
        },
        "yaxis": {
         "anchor": "x",
         "domain": [
          0,
          1
         ],
         "title": {
          "text": "Year"
         }
        }
       }
      }
     },
     "metadata": {},
     "output_type": "display_data"
    }
   ],
   "source": [
    "px.line(data_asia, x=\"Country\", y=\"Year\")"
   ]
  },
  {
   "cell_type": "code",
   "execution_count": 10,
   "metadata": {
    "ExecuteTime": {
     "end_time": "2019-10-29T03:48:07.160109Z",
     "start_time": "2019-10-29T03:48:07.140071Z"
    }
   },
   "outputs": [
    {
     "data": {
      "text/html": [
       "        <script type=\"text/javascript\">\n",
       "        window.PlotlyConfig = {MathJaxConfig: 'local'};\n",
       "        if (window.MathJax) {MathJax.Hub.Config({SVG: {font: \"STIX-Web\"}});}\n",
       "        if (typeof require !== 'undefined') {\n",
       "        require.undef(\"plotly\");\n",
       "        requirejs.config({\n",
       "            paths: {\n",
       "                'plotly': ['https://cdn.plot.ly/plotly-latest.min']\n",
       "            }\n",
       "        });\n",
       "        require(['plotly'], function(Plotly) {\n",
       "            window._Plotly = Plotly;\n",
       "        });\n",
       "        }\n",
       "        </script>\n",
       "        "
      ]
     },
     "metadata": {},
     "output_type": "display_data"
    }
   ],
   "source": [
    "init_notebook_mode(connected=True)"
   ]
  },
  {
   "cell_type": "code",
   "execution_count": 14,
   "metadata": {
    "ExecuteTime": {
     "end_time": "2019-10-29T03:50:12.801933Z",
     "start_time": "2019-10-29T03:50:10.943405Z"
    }
   },
   "outputs": [
    {
     "data": {
      "application/vnd.plotly.v1+json": {
       "config": {
        "plotlyServerURL": "https://plot.ly"
       },
       "data": [
        {
         "hoverlabel": {
          "namelength": 0
         },
         "hovertemplate": "Country=Afghanistan<br>Month=%{x}<br>Value=%{y}",
         "legendgroup": "",
         "line": {
          "color": "#636efa",
          "dash": "solid"
         },
         "mode": "lines",
         "name": "",
         "showlegend": false,
         "type": "scatter",
         "x": [
          "Jan",
          "Feb",
          "Mar",
          "Apr",
          "May",
          "Jun",
          "Jul",
          "Aug",
          "Sep",
          "Oct",
          "Nov",
          "Dec",
          "Year"
         ],
         "xaxis": "x",
         "y": [
          177.2,
          178.6,
          204.5,
          232.5,
          310.3,
          353.4,
          356.8,
          339.7,
          303.9,
          282.6,
          253.2,
          182.4,
          3175.1
         ],
         "yaxis": "y"
        },
        {
         "hoverlabel": {
          "namelength": 0
         },
         "hovertemplate": "Country=Azerbaijan<br>Month=%{x}<br>Value=%{y}",
         "legendgroup": "",
         "line": {
          "color": "#636efa",
          "dash": "solid"
         },
         "mode": "lines",
         "name": "",
         "showlegend": false,
         "type": "scatter",
         "x": [
          "Jan",
          "Feb",
          "Mar",
          "Apr",
          "May",
          "Jun",
          "Jul",
          "Aug",
          "Sep",
          "Oct",
          "Nov",
          "Dec",
          "Year"
         ],
         "xaxis": "x",
         "y": [
          89.9,
          89,
          124,
          195,
          257.3,
          294,
          313.1,
          282.1,
          222,
          145.7,
          93,
          102.3,
          2207.4
         ],
         "yaxis": "y"
        },
        {
         "hoverlabel": {
          "namelength": 0
         },
         "hovertemplate": "Country=Bangladesh<br>Month=%{x}<br>Value=%{y}",
         "legendgroup": "",
         "line": {
          "color": "#636efa",
          "dash": "solid"
         },
         "mode": "lines",
         "name": "",
         "showlegend": false,
         "type": "scatter",
         "x": [
          "Jan",
          "Feb",
          "Mar",
          "Apr",
          "May",
          "Jun",
          "Jul",
          "Aug",
          "Sep",
          "Oct",
          "Nov",
          "Dec",
          "Year"
         ],
         "xaxis": "x",
         "y": [
          279,
          226,
          217,
          180,
          155,
          90,
          62,
          62,
          90,
          186,
          240,
          279,
          2066
         ],
         "yaxis": "y"
        },
        {
         "hoverlabel": {
          "namelength": 0
         },
         "hovertemplate": "Country=China<br>Month=%{x}<br>Value=%{y}",
         "legendgroup": "",
         "line": {
          "color": "#636efa",
          "dash": "solid"
         },
         "mode": "lines",
         "name": "",
         "showlegend": false,
         "type": "scatter",
         "x": [
          "Jan",
          "Jan",
          "Jan",
          "Jan",
          "Jan",
          "Feb",
          "Feb",
          "Feb",
          "Feb",
          "Feb",
          "Mar",
          "Mar",
          "Mar",
          "Mar",
          "Mar",
          "Apr",
          "Apr",
          "Apr",
          "Apr",
          "Apr",
          "May",
          "May",
          "May",
          "May",
          "May",
          "Jun",
          "Jun",
          "Jun",
          "Jun",
          "Jun",
          "Jul",
          "Jul",
          "Jul",
          "Jul",
          "Jul",
          "Aug",
          "Aug",
          "Aug",
          "Aug",
          "Aug",
          "Sep",
          "Sep",
          "Sep",
          "Sep",
          "Sep",
          "Oct",
          "Oct",
          "Oct",
          "Oct",
          "Oct",
          "Nov",
          "Nov",
          "Nov",
          "Nov",
          "Nov",
          "Dec",
          "Dec",
          "Dec",
          "Dec",
          "Dec",
          "Year",
          "Year",
          "Year",
          "Year",
          "Year"
         ],
         "xaxis": "x",
         "y": [
          194.1,
          20.6,
          250.9,
          114.3,
          101.6,
          194.7,
          29.7,
          226.7,
          119.9,
          128.8,
          231.8,
          64.9,
          246.1,
          128.5,
          180.5,
          251.9,
          93.6,
          248.9,
          148.5,
          248,
          283.4,
          109.4,
          276.6,
          169.8,
          283.3,
          261.4,
          97.7,
          257.3,
          130.9,
          282.7,
          212.4,
          158.6,
          227.4,
          190.8,
          298.7,
          220.9,
          167,
          219.6,
          185.7,
          301,
          232.1,
          106.6,
          229,
          167.5,
          262.6,
          222.1,
          50.4,
          281.7,
          161.4,
          224.4,
          185.3,
          35.9,
          267.4,
          131.1,
          127.4,
          180.7,
          20.4,
          258.6,
          127.4,
          84.3,
          2670.8,
          954.8,
          2990.2,
          1775.8,
          2523.3
         ],
         "yaxis": "y"
        },
        {
         "hoverlabel": {
          "namelength": 0
         },
         "hovertemplate": "Country=Hong Kong<br>Month=%{x}<br>Value=%{y}",
         "legendgroup": "",
         "line": {
          "color": "#636efa",
          "dash": "solid"
         },
         "mode": "lines",
         "name": "",
         "showlegend": false,
         "type": "scatter",
         "x": [
          "Jan",
          "Feb",
          "Mar",
          "Apr",
          "May",
          "Jun",
          "Jul",
          "Aug",
          "Sep",
          "Oct",
          "Nov",
          "Dec",
          "Year"
         ],
         "xaxis": "x",
         "y": [
          143,
          94.2,
          90.8,
          101.7,
          140.4,
          146.1,
          212,
          188.9,
          172.3,
          193.9,
          180.1,
          172.2,
          1835.6
         ],
         "yaxis": "y"
        },
        {
         "hoverlabel": {
          "namelength": 0
         },
         "hovertemplate": "Country=India<br>Month=%{x}<br>Value=%{y}",
         "legendgroup": "",
         "line": {
          "color": "#636efa",
          "dash": "solid"
         },
         "mode": "lines",
         "name": "",
         "showlegend": false,
         "type": "scatter",
         "x": [
          "Jan",
          "Jan",
          "Jan",
          "Jan",
          "Feb",
          "Feb",
          "Feb",
          "Feb",
          "Mar",
          "Mar",
          "Mar",
          "Mar",
          "Apr",
          "Apr",
          "Apr",
          "Apr",
          "May",
          "May",
          "May",
          "May",
          "Jun",
          "Jun",
          "Jun",
          "Jun",
          "Jul",
          "Jul",
          "Jul",
          "Jul",
          "Aug",
          "Aug",
          "Aug",
          "Aug",
          "Sep",
          "Sep",
          "Sep",
          "Sep",
          "Oct",
          "Oct",
          "Oct",
          "Oct",
          "Nov",
          "Nov",
          "Nov",
          "Nov",
          "Dec",
          "Dec",
          "Dec",
          "Dec",
          "Year",
          "Year",
          "Year",
          "Year"
         ],
         "xaxis": "x",
         "y": [
          214.6,
          203.9,
          269.5,
          262,
          216.1,
          201.2,
          257.6,
          248,
          239.1,
          225.8,
          274.3,
          271,
          261,
          235.4,
          283.7,
          257,
          263.1,
          227.1,
          296.2,
          241,
          196.5,
          123.1,
          148.6,
          137,
          165.9,
          93.1,
          73.4,
          112,
          177,
          104.9,
          75.9,
          114,
          219,
          116.2,
          165.1,
          144,
          269.3,
          182.6,
          240.2,
          173,
          247.2,
          190.8,
          245.8,
          190,
          215.8,
          203.4,
          253.2,
          212,
          2684.6,
          2107.5,
          2583.5,
          2361
         ],
         "yaxis": "y"
        },
        {
         "hoverlabel": {
          "namelength": 0
         },
         "hovertemplate": "Country=Indonesia<br>Month=%{x}<br>Value=%{y}",
         "legendgroup": "",
         "line": {
          "color": "#636efa",
          "dash": "solid"
         },
         "mode": "lines",
         "name": "",
         "showlegend": false,
         "type": "scatter",
         "x": [
          "Jan",
          "Feb",
          "Mar",
          "Apr",
          "May",
          "Jun",
          "Jul",
          "Aug",
          "Sep",
          "Oct",
          "Nov",
          "Dec",
          "Year"
         ],
         "xaxis": "x",
         "y": [
          189.1,
          180.8,
          238.7,
          255,
          260.4,
          255,
          282.1,
          294.5,
          300.7,
          279,
          231,
          217,
          2983.3
         ],
         "yaxis": "y"
        },
        {
         "hoverlabel": {
          "namelength": 0
         },
         "hovertemplate": "Country=Iran<br>Month=%{x}<br>Value=%{y}",
         "legendgroup": "",
         "line": {
          "color": "#636efa",
          "dash": "solid"
         },
         "mode": "lines",
         "name": "",
         "showlegend": false,
         "type": "scatter",
         "x": [
          "Jan",
          "Feb",
          "Mar",
          "Apr",
          "May",
          "Jun",
          "Jul",
          "Aug",
          "Sep",
          "Oct",
          "Nov",
          "Dec",
          "Year"
         ],
         "xaxis": "x",
         "y": [
          137.2,
          151.1,
          186,
          219.1,
          279.8,
          328.7,
          336.6,
          336.8,
          300.5,
          246.8,
          169.4,
          134.1,
          2826.1
         ],
         "yaxis": "y"
        },
        {
         "hoverlabel": {
          "namelength": 0
         },
         "hovertemplate": "Country=Iraq<br>Month=%{x}<br>Value=%{y}",
         "legendgroup": "",
         "line": {
          "color": "#636efa",
          "dash": "solid"
         },
         "mode": "lines",
         "name": "",
         "showlegend": false,
         "type": "scatter",
         "x": [
          "Jan",
          "Feb",
          "Mar",
          "Apr",
          "May",
          "Jun",
          "Jul",
          "Aug",
          "Sep",
          "Oct",
          "Nov",
          "Dec",
          "Year"
         ],
         "xaxis": "x",
         "y": [
          192.2,
          203.3,
          244.9,
          255,
          300.7,
          348,
          347.2,
          353.4,
          315,
          272.8,
          213,
          195.3,
          3240.8
         ],
         "yaxis": "y"
        },
        {
         "hoverlabel": {
          "namelength": 0
         },
         "hovertemplate": "Country=Israel<br>Month=%{x}<br>Value=%{y}",
         "legendgroup": "",
         "line": {
          "color": "#636efa",
          "dash": "solid"
         },
         "mode": "lines",
         "name": "",
         "showlegend": false,
         "type": "scatter",
         "x": [
          "Jan",
          "Feb",
          "Mar",
          "Apr",
          "May",
          "Jun",
          "Jul",
          "Aug",
          "Sep",
          "Oct",
          "Nov",
          "Dec",
          "Year"
         ],
         "xaxis": "x",
         "y": [
          192.2,
          200.1,
          235.6,
          270,
          328.6,
          357,
          368.9,
          356.5,
          300,
          279,
          234,
          189.1,
          3311
         ],
         "yaxis": "y"
        },
        {
         "hoverlabel": {
          "namelength": 0
         },
         "hovertemplate": "Country=Japan<br>Month=%{x}<br>Value=%{y}",
         "legendgroup": "",
         "line": {
          "color": "#636efa",
          "dash": "solid"
         },
         "mode": "lines",
         "name": "",
         "showlegend": false,
         "type": "scatter",
         "x": [
          "Jan",
          "Jan",
          "Feb",
          "Feb",
          "Mar",
          "Mar",
          "Apr",
          "Apr",
          "May",
          "May",
          "Jun",
          "Jun",
          "Jul",
          "Jul",
          "Aug",
          "Aug",
          "Sep",
          "Sep",
          "Oct",
          "Oct",
          "Nov",
          "Nov",
          "Dec",
          "Dec",
          "Year",
          "Year"
         ],
         "xaxis": "x",
         "y": [
          92.5,
          184.5,
          104,
          165.8,
          146.6,
          163.1,
          176.5,
          176.9,
          198.4,
          167.8,
          187.8,
          125.4,
          164.9,
          146.4,
          171,
          169,
          160.5,
          120.9,
          152.3,
          131,
          100,
          147.9,
          85.9,
          178,
          1740.4,
          1876.7
         ],
         "yaxis": "y"
        },
        {
         "hoverlabel": {
          "namelength": 0
         },
         "hovertemplate": "Country=Kazakhstan<br>Month=%{x}<br>Value=%{y}",
         "legendgroup": "",
         "line": {
          "color": "#636efa",
          "dash": "solid"
         },
         "mode": "lines",
         "name": "",
         "showlegend": false,
         "type": "scatter",
         "x": [
          "Jan",
          "Jan",
          "Feb",
          "Feb",
          "Mar",
          "Mar",
          "Apr",
          "Apr",
          "May",
          "May",
          "Jun",
          "Jun",
          "Jul",
          "Jul",
          "Aug",
          "Aug",
          "Sep",
          "Sep",
          "Oct",
          "Oct",
          "Nov",
          "Nov",
          "Dec",
          "Dec",
          "Year",
          "Year"
         ],
         "xaxis": "x",
         "y": [
          118,
          103,
          119,
          147,
          147,
          192,
          194,
          238,
          241,
          301,
          280,
          336,
          306,
          336,
          294,
          294,
          245,
          230,
          184,
          136,
          127,
          100,
          101,
          94,
          2356,
          2507
         ],
         "yaxis": "y"
        },
        {
         "hoverlabel": {
          "namelength": 0
         },
         "hovertemplate": "Country=Macau<br>Month=%{x}<br>Value=%{y}",
         "legendgroup": "",
         "line": {
          "color": "#636efa",
          "dash": "solid"
         },
         "mode": "lines",
         "name": "",
         "showlegend": false,
         "type": "scatter",
         "x": [
          "Jan",
          "Feb",
          "Mar",
          "Apr",
          "May",
          "Jun",
          "Jul",
          "Aug",
          "Sep",
          "Oct",
          "Nov",
          "Dec",
          "Year"
         ],
         "xaxis": "x",
         "y": [
          127.4,
          79.4,
          71.5,
          85.3,
          136.4,
          155.3,
          223.2,
          195.4,
          176.5,
          192.3,
          172.2,
          159.1,
          1773.9
         ],
         "yaxis": "y"
        },
        {
         "hoverlabel": {
          "namelength": 0
         },
         "hovertemplate": "Country=Mongolia<br>Month=%{x}<br>Value=%{y}",
         "legendgroup": "",
         "line": {
          "color": "#636efa",
          "dash": "solid"
         },
         "mode": "lines",
         "name": "",
         "showlegend": false,
         "type": "scatter",
         "x": [
          "Jan",
          "Feb",
          "Mar",
          "Apr",
          "May",
          "Jun",
          "Jul",
          "Aug",
          "Sep",
          "Oct",
          "Nov",
          "Dec",
          "Year"
         ],
         "xaxis": "x",
         "y": [
          179.1,
          204.8,
          265.2,
          262.5,
          299.3,
          269,
          249.3,
          258.3,
          245.7,
          227.5,
          177.4,
          156.4,
          2791.5
         ],
         "yaxis": "y"
        },
        {
         "hoverlabel": {
          "namelength": 0
         },
         "hovertemplate": "Country=North Korea<br>Month=%{x}<br>Value=%{y}",
         "legendgroup": "",
         "line": {
          "color": "#636efa",
          "dash": "solid"
         },
         "mode": "lines",
         "name": "",
         "showlegend": false,
         "type": "scatter",
         "x": [
          "Jan",
          "Feb",
          "Mar",
          "Apr",
          "May",
          "Jun",
          "Jul",
          "Aug",
          "Sep",
          "Oct",
          "Nov",
          "Dec",
          "Year"
         ],
         "xaxis": "x",
         "y": [
          184,
          197,
          231,
          237,
          263,
          229,
          181,
          204,
          222,
          214,
          165,
          165,
          2492
         ],
         "yaxis": "y"
        },
        {
         "hoverlabel": {
          "namelength": 0
         },
         "hovertemplate": "Country=Oman<br>Month=%{x}<br>Value=%{y}",
         "legendgroup": "",
         "line": {
          "color": "#636efa",
          "dash": "solid"
         },
         "mode": "lines",
         "name": "",
         "showlegend": false,
         "type": "scatter",
         "x": [
          "Jan",
          "Feb",
          "Mar",
          "Apr",
          "May",
          "Jun",
          "Jul",
          "Aug",
          "Sep",
          "Oct",
          "Nov",
          "Dec",
          "Year"
         ],
         "xaxis": "x",
         "y": [
          268.6,
          244.8,
          278.3,
          292.5,
          347.4,
          325.7,
          277.7,
          278.6,
          303.9,
          316.9,
          291.9,
          267,
          3493.3
         ],
         "yaxis": "y"
        },
        {
         "hoverlabel": {
          "namelength": 0
         },
         "hovertemplate": "Country=Pakistan<br>Month=%{x}<br>Value=%{y}",
         "legendgroup": "",
         "line": {
          "color": "#636efa",
          "dash": "solid"
         },
         "mode": "lines",
         "name": "",
         "showlegend": false,
         "type": "scatter",
         "x": [
          "Jan",
          "Jan",
          "Feb",
          "Feb",
          "Mar",
          "Mar",
          "Apr",
          "Apr",
          "May",
          "May",
          "Jun",
          "Jun",
          "Jul",
          "Jul",
          "Aug",
          "Aug",
          "Sep",
          "Sep",
          "Oct",
          "Oct",
          "Nov",
          "Nov",
          "Dec",
          "Dec",
          "Year",
          "Year"
         ],
         "xaxis": "x",
         "y": [
          270.7,
          218.8,
          249.4,
          215,
          271.6,
          245.8,
          277.4,
          276.6,
          299.1,
          308.3,
          231.8,
          269,
          155,
          227.5,
          147.7,
          234.9,
          218.8,
          265.6,
          283.5,
          290,
          273.3,
          259.6,
          272,
          222.9,
          2950.3,
          3034
         ],
         "yaxis": "y"
        },
        {
         "hoverlabel": {
          "namelength": 0
         },
         "hovertemplate": "Country=Philippines<br>Month=%{x}<br>Value=%{y}",
         "legendgroup": "",
         "line": {
          "color": "#636efa",
          "dash": "solid"
         },
         "mode": "lines",
         "name": "",
         "showlegend": false,
         "type": "scatter",
         "x": [
          "Jan",
          "Feb",
          "Mar",
          "Apr",
          "May",
          "Jun",
          "Jul",
          "Aug",
          "Sep",
          "Oct",
          "Nov",
          "Dec",
          "Year"
         ],
         "xaxis": "x",
         "y": [
          176.7,
          197.8,
          225.8,
          258,
          222.7,
          162,
          132.8,
          132.8,
          132,
          157.6,
          153,
          151.9,
          2103.1
         ],
         "yaxis": "y"
        },
        {
         "hoverlabel": {
          "namelength": 0
         },
         "hovertemplate": "Country=Russia<br>Month=%{x}<br>Value=%{y}",
         "legendgroup": "",
         "line": {
          "color": "#636efa",
          "dash": "solid"
         },
         "mode": "lines",
         "name": "",
         "showlegend": false,
         "type": "scatter",
         "x": [
          "Jan",
          "Jan",
          "Jan",
          "Jan",
          "Jan",
          "Jan",
          "Feb",
          "Feb",
          "Feb",
          "Feb",
          "Feb",
          "Feb",
          "Mar",
          "Mar",
          "Mar",
          "Mar",
          "Mar",
          "Mar",
          "Apr",
          "Apr",
          "Apr",
          "Apr",
          "Apr",
          "Apr",
          "May",
          "May",
          "May",
          "May",
          "May",
          "May",
          "Jun",
          "Jun",
          "Jun",
          "Jun",
          "Jun",
          "Jun",
          "Jul",
          "Jul",
          "Jul",
          "Jul",
          "Jul",
          "Jul",
          "Aug",
          "Aug",
          "Aug",
          "Aug",
          "Aug",
          "Aug",
          "Sep",
          "Sep",
          "Sep",
          "Sep",
          "Sep",
          "Sep",
          "Oct",
          "Oct",
          "Oct",
          "Oct",
          "Oct",
          "Oct",
          "Nov",
          "Nov",
          "Nov",
          "Nov",
          "Nov",
          "Nov",
          "Dec",
          "Dec",
          "Dec",
          "Dec",
          "Dec",
          "Dec",
          "Year",
          "Year",
          "Year",
          "Year",
          "Year",
          "Year"
         ],
         "xaxis": "x",
         "y": [
          0,
          93,
          68,
          105.4,
          178,
          18.6,
          22.6,
          149,
          125,
          115.8,
          184,
          98,
          127.1,
          207,
          184,
          176.7,
          216,
          232.5,
          237,
          223,
          235,
          192,
          192,
          273,
          189.1,
          266,
          284,
          192.2,
          199,
          303.8,
          141,
          264,
          319,
          192,
          130,
          333,
          223.2,
          243,
          321,
          170.5,
          122,
          347.2,
          139.5,
          218,
          248,
          176.7,
          149,
          272.8,
          60,
          182,
          180,
          177,
          197,
          174,
          24.8,
          152,
          105,
          158.1,
          205,
          105.4,
          0,
          93,
          71,
          123,
          168,
          60,
          0,
          62,
          61,
          93,
          156,
          9.3,
          1164.3,
          2142,
          2201,
          1872.4,
          2096,
          2227.6
         ],
         "yaxis": "y"
        },
        {
         "hoverlabel": {
          "namelength": 0
         },
         "hovertemplate": "Country=Saudi Arabia<br>Month=%{x}<br>Value=%{y}",
         "legendgroup": "",
         "line": {
          "color": "#636efa",
          "dash": "solid"
         },
         "mode": "lines",
         "name": "",
         "showlegend": false,
         "type": "scatter",
         "x": [
          "Jan",
          "Jan",
          "Feb",
          "Feb",
          "Mar",
          "Mar",
          "Apr",
          "Apr",
          "May",
          "May",
          "Jun",
          "Jun",
          "Jul",
          "Jul",
          "Aug",
          "Aug",
          "Sep",
          "Sep",
          "Oct",
          "Oct",
          "Nov",
          "Nov",
          "Dec",
          "Dec",
          "Year",
          "Year"
         ],
         "xaxis": "x",
         "y": [
          266.6,
          212.4,
          265.6,
          226.6,
          294.5,
          219.8,
          282,
          242.3,
          288.3,
          287.7,
          276,
          328.2,
          232.5,
          332.1,
          238.7,
          309.2,
          273,
          271.6,
          291.4,
          311.4,
          273,
          269.2,
          266.6,
          214.3,
          3248.2,
          3224.8
         ],
         "yaxis": "y"
        },
        {
         "hoverlabel": {
          "namelength": 0
         },
         "hovertemplate": "Country=Singapore<br>Month=%{x}<br>Value=%{y}",
         "legendgroup": "",
         "line": {
          "color": "#636efa",
          "dash": "solid"
         },
         "mode": "lines",
         "name": "",
         "showlegend": false,
         "type": "scatter",
         "x": [
          "Jan",
          "Feb",
          "Mar",
          "Apr",
          "May",
          "Jun",
          "Jul",
          "Aug",
          "Sep",
          "Oct",
          "Nov",
          "Dec",
          "Year"
         ],
         "xaxis": "x",
         "y": [
          172.4,
          183.2,
          192.7,
          173.6,
          179.8,
          177.7,
          187.9,
          180.6,
          156.2,
          155.2,
          129.6,
          133.5,
          2022.4
         ],
         "yaxis": "y"
        },
        {
         "hoverlabel": {
          "namelength": 0
         },
         "hovertemplate": "Country=South Korea<br>Month=%{x}<br>Value=%{y}",
         "legendgroup": "",
         "line": {
          "color": "#636efa",
          "dash": "solid"
         },
         "mode": "lines",
         "name": "",
         "showlegend": false,
         "type": "scatter",
         "x": [
          "Jan",
          "Jan",
          "Feb",
          "Feb",
          "Mar",
          "Mar",
          "Apr",
          "Apr",
          "May",
          "May",
          "Jun",
          "Jun",
          "Jul",
          "Jul",
          "Aug",
          "Aug",
          "Sep",
          "Sep",
          "Oct",
          "Oct",
          "Nov",
          "Nov",
          "Dec",
          "Dec",
          "Year",
          "Year"
         ],
         "xaxis": "x",
         "y": [
          199,
          160.3,
          182.5,
          163.3,
          193,
          189,
          210,
          205,
          221.7,
          213,
          179.7,
          182,
          165.8,
          120,
          200.9,
          152.5,
          167.2,
          176.2,
          208.9,
          198.8,
          194.4,
          153.2,
          204.3,
          152.6,
          2327.3,
          2066
         ],
         "yaxis": "y"
        },
        {
         "hoverlabel": {
          "namelength": 0
         },
         "hovertemplate": "Country=Taiwan<br>Month=%{x}<br>Value=%{y}",
         "legendgroup": "",
         "line": {
          "color": "#636efa",
          "dash": "solid"
         },
         "mode": "lines",
         "name": "",
         "showlegend": false,
         "type": "scatter",
         "x": [
          "Jan",
          "Jan",
          "Jan",
          "Feb",
          "Feb",
          "Feb",
          "Mar",
          "Mar",
          "Mar",
          "Apr",
          "Apr",
          "Apr",
          "May",
          "May",
          "May",
          "Jun",
          "Jun",
          "Jun",
          "Jul",
          "Jul",
          "Jul",
          "Aug",
          "Aug",
          "Aug",
          "Sep",
          "Sep",
          "Sep",
          "Oct",
          "Oct",
          "Oct",
          "Nov",
          "Nov",
          "Nov",
          "Dec",
          "Dec",
          "Dec",
          "Year",
          "Year",
          "Year"
         ],
         "xaxis": "x",
         "y": [
          174.7,
          176.6,
          80.6,
          165.8,
          140.6,
          71.3,
          187,
          149.9,
          89.6,
          189.1,
          137.8,
          92.6,
          198.5,
          158.7,
          113.7,
          199.9,
          160.1,
          121.7,
          221.4,
          199.6,
          179,
          193.7,
          178.7,
          188.9,
          175.7,
          175.8,
          153.7,
          182.4,
          203.7,
          124,
          162.2,
          179.4,
          99.4,
          161.8,
          182.3,
          90.7,
          2212.2,
          2043.2,
          1405.2
         ],
         "yaxis": "y"
        },
        {
         "hoverlabel": {
          "namelength": 0
         },
         "hovertemplate": "Country=Thailand<br>Month=%{x}<br>Value=%{y}",
         "legendgroup": "",
         "line": {
          "color": "#636efa",
          "dash": "solid"
         },
         "mode": "lines",
         "name": "",
         "showlegend": false,
         "type": "scatter",
         "x": [
          "Jan",
          "Jan",
          "Jan",
          "Jan",
          "Feb",
          "Feb",
          "Feb",
          "Feb",
          "Mar",
          "Mar",
          "Mar",
          "Mar",
          "Apr",
          "Apr",
          "Apr",
          "Apr",
          "May",
          "May",
          "May",
          "May",
          "Jun",
          "Jun",
          "Jun",
          "Jun",
          "Jul",
          "Jul",
          "Jul",
          "Jul",
          "Aug",
          "Aug",
          "Aug",
          "Aug",
          "Sep",
          "Sep",
          "Sep",
          "Sep",
          "Oct",
          "Oct",
          "Oct",
          "Oct",
          "Nov",
          "Nov",
          "Nov",
          "Nov",
          "Dec",
          "Dec",
          "Dec",
          "Dec",
          "Year",
          "Year",
          "Year",
          "Year"
         ],
         "xaxis": "x",
         "y": [
          272.5,
          272.8,
          182.9,
          226.3,
          249.9,
          257.1,
          166.7,
          211.9,
          269,
          294.5,
          186,
          201.5,
          256.7,
          279,
          144,
          186,
          216.4,
          198.4,
          114.7,
          155,
          178,
          156,
          111,
          114,
          171.8,
          120.9,
          114.7,
          117.8,
          160.3,
          117.8,
          114.7,
          117.8,
          154.9,
          144,
          108,
          108,
          198.1,
          201.5,
          111.6,
          145.7,
          234.2,
          216,
          105,
          186,
          262,
          254.2,
          108.5,
          226.3,
          2623.8,
          2512.2,
          1567.8,
          1996.3
         ],
         "yaxis": "y"
        },
        {
         "hoverlabel": {
          "namelength": 0
         },
         "hovertemplate": "Country=Turkey<br>Month=%{x}<br>Value=%{y}",
         "legendgroup": "",
         "line": {
          "color": "#636efa",
          "dash": "solid"
         },
         "mode": "lines",
         "name": "",
         "showlegend": false,
         "type": "scatter",
         "x": [
          "Jan",
          "Feb",
          "Mar",
          "Apr",
          "May",
          "Jun",
          "Jul",
          "Aug",
          "Sep",
          "Oct",
          "Nov",
          "Dec",
          "Year"
         ],
         "xaxis": "x",
         "y": [
          77.5,
          98.9,
          161.2,
          189,
          260.4,
          306,
          350.3,
          328.6,
          276,
          198.4,
          132,
          71.3,
          2449.6
         ],
         "yaxis": "y"
        },
        {
         "hoverlabel": {
          "namelength": 0
         },
         "hovertemplate": "Country=United Arab Emirates<br>Month=%{x}<br>Value=%{y}",
         "legendgroup": "",
         "line": {
          "color": "#636efa",
          "dash": "solid"
         },
         "mode": "lines",
         "name": "",
         "showlegend": false,
         "type": "scatter",
         "x": [
          "Jan",
          "Feb",
          "Mar",
          "Apr",
          "May",
          "Jun",
          "Jul",
          "Aug",
          "Sep",
          "Oct",
          "Nov",
          "Dec",
          "Year"
         ],
         "xaxis": "x",
         "y": [
          254.2,
          229.6,
          254.2,
          294,
          344.1,
          342,
          322.4,
          316.2,
          309,
          303.8,
          285,
          254.2,
          3508.7
         ],
         "yaxis": "y"
        },
        {
         "hoverlabel": {
          "namelength": 0
         },
         "hovertemplate": "Country=Uzbekistan<br>Month=%{x}<br>Value=%{y}",
         "legendgroup": "",
         "line": {
          "color": "#636efa",
          "dash": "solid"
         },
         "mode": "lines",
         "name": "",
         "showlegend": false,
         "type": "scatter",
         "x": [
          "Jan",
          "Feb",
          "Mar",
          "Apr",
          "May",
          "Jun",
          "Jul",
          "Aug",
          "Sep",
          "Oct",
          "Nov",
          "Dec",
          "Year"
         ],
         "xaxis": "x",
         "y": [
          117.8,
          127.1,
          164.3,
          216,
          303.8,
          363,
          384.4,
          365.8,
          300,
          226.3,
          150,
          105.4,
          2823.9
         ],
         "yaxis": "y"
        },
        {
         "hoverlabel": {
          "namelength": 0
         },
         "hovertemplate": "Country=Vietnam<br>Month=%{x}<br>Value=%{y}",
         "legendgroup": "",
         "line": {
          "color": "#636efa",
          "dash": "solid"
         },
         "mode": "lines",
         "name": "",
         "showlegend": false,
         "type": "scatter",
         "x": [
          "Jan",
          "Jan",
          "Jan",
          "Jan",
          "Feb",
          "Feb",
          "Feb",
          "Feb",
          "Mar",
          "Mar",
          "Mar",
          "Mar",
          "Apr",
          "Apr",
          "Apr",
          "Apr",
          "May",
          "May",
          "May",
          "May",
          "Jun",
          "Jun",
          "Jun",
          "Jun",
          "Jul",
          "Jul",
          "Jul",
          "Jul",
          "Aug",
          "Aug",
          "Aug",
          "Aug",
          "Sep",
          "Sep",
          "Sep",
          "Sep",
          "Oct",
          "Oct",
          "Oct",
          "Oct",
          "Nov",
          "Nov",
          "Nov",
          "Nov",
          "Dec",
          "Dec",
          "Dec",
          "Dec",
          "Year",
          "Year",
          "Year",
          "Year"
         ],
         "xaxis": "x",
         "y": [
          255,
          139,
          74,
          245,
          234,
          145,
          47,
          246,
          255,
          188,
          47,
          272,
          202,
          209,
          90,
          239,
          190,
          246,
          183,
          195,
          147,
          239,
          172,
          171,
          157,
          253,
          195,
          180,
          136,
          218,
          174,
          172,
          133,
          176,
          176,
          162,
          140,
          145,
          167,
          182,
          172,
          120,
          137,
          200,
          215,
          103,
          124,
          226,
          2238,
          2182,
          1585,
          2489
         ],
         "yaxis": "y"
        }
       ],
       "layout": {
        "height": 600,
        "legend": {
         "tracegroupgap": 0
        },
        "margin": {
         "t": 60
        },
        "template": {
         "data": {
          "bar": [
           {
            "error_x": {
             "color": "#2a3f5f"
            },
            "error_y": {
             "color": "#2a3f5f"
            },
            "marker": {
             "line": {
              "color": "#E5ECF6",
              "width": 0.5
             }
            },
            "type": "bar"
           }
          ],
          "barpolar": [
           {
            "marker": {
             "line": {
              "color": "#E5ECF6",
              "width": 0.5
             }
            },
            "type": "barpolar"
           }
          ],
          "carpet": [
           {
            "aaxis": {
             "endlinecolor": "#2a3f5f",
             "gridcolor": "white",
             "linecolor": "white",
             "minorgridcolor": "white",
             "startlinecolor": "#2a3f5f"
            },
            "baxis": {
             "endlinecolor": "#2a3f5f",
             "gridcolor": "white",
             "linecolor": "white",
             "minorgridcolor": "white",
             "startlinecolor": "#2a3f5f"
            },
            "type": "carpet"
           }
          ],
          "choropleth": [
           {
            "colorbar": {
             "outlinewidth": 0,
             "ticks": ""
            },
            "type": "choropleth"
           }
          ],
          "contour": [
           {
            "colorbar": {
             "outlinewidth": 0,
             "ticks": ""
            },
            "colorscale": [
             [
              0,
              "#0d0887"
             ],
             [
              0.1111111111111111,
              "#46039f"
             ],
             [
              0.2222222222222222,
              "#7201a8"
             ],
             [
              0.3333333333333333,
              "#9c179e"
             ],
             [
              0.4444444444444444,
              "#bd3786"
             ],
             [
              0.5555555555555556,
              "#d8576b"
             ],
             [
              0.6666666666666666,
              "#ed7953"
             ],
             [
              0.7777777777777778,
              "#fb9f3a"
             ],
             [
              0.8888888888888888,
              "#fdca26"
             ],
             [
              1,
              "#f0f921"
             ]
            ],
            "type": "contour"
           }
          ],
          "contourcarpet": [
           {
            "colorbar": {
             "outlinewidth": 0,
             "ticks": ""
            },
            "type": "contourcarpet"
           }
          ],
          "heatmap": [
           {
            "colorbar": {
             "outlinewidth": 0,
             "ticks": ""
            },
            "colorscale": [
             [
              0,
              "#0d0887"
             ],
             [
              0.1111111111111111,
              "#46039f"
             ],
             [
              0.2222222222222222,
              "#7201a8"
             ],
             [
              0.3333333333333333,
              "#9c179e"
             ],
             [
              0.4444444444444444,
              "#bd3786"
             ],
             [
              0.5555555555555556,
              "#d8576b"
             ],
             [
              0.6666666666666666,
              "#ed7953"
             ],
             [
              0.7777777777777778,
              "#fb9f3a"
             ],
             [
              0.8888888888888888,
              "#fdca26"
             ],
             [
              1,
              "#f0f921"
             ]
            ],
            "type": "heatmap"
           }
          ],
          "heatmapgl": [
           {
            "colorbar": {
             "outlinewidth": 0,
             "ticks": ""
            },
            "colorscale": [
             [
              0,
              "#0d0887"
             ],
             [
              0.1111111111111111,
              "#46039f"
             ],
             [
              0.2222222222222222,
              "#7201a8"
             ],
             [
              0.3333333333333333,
              "#9c179e"
             ],
             [
              0.4444444444444444,
              "#bd3786"
             ],
             [
              0.5555555555555556,
              "#d8576b"
             ],
             [
              0.6666666666666666,
              "#ed7953"
             ],
             [
              0.7777777777777778,
              "#fb9f3a"
             ],
             [
              0.8888888888888888,
              "#fdca26"
             ],
             [
              1,
              "#f0f921"
             ]
            ],
            "type": "heatmapgl"
           }
          ],
          "histogram": [
           {
            "marker": {
             "colorbar": {
              "outlinewidth": 0,
              "ticks": ""
             }
            },
            "type": "histogram"
           }
          ],
          "histogram2d": [
           {
            "colorbar": {
             "outlinewidth": 0,
             "ticks": ""
            },
            "colorscale": [
             [
              0,
              "#0d0887"
             ],
             [
              0.1111111111111111,
              "#46039f"
             ],
             [
              0.2222222222222222,
              "#7201a8"
             ],
             [
              0.3333333333333333,
              "#9c179e"
             ],
             [
              0.4444444444444444,
              "#bd3786"
             ],
             [
              0.5555555555555556,
              "#d8576b"
             ],
             [
              0.6666666666666666,
              "#ed7953"
             ],
             [
              0.7777777777777778,
              "#fb9f3a"
             ],
             [
              0.8888888888888888,
              "#fdca26"
             ],
             [
              1,
              "#f0f921"
             ]
            ],
            "type": "histogram2d"
           }
          ],
          "histogram2dcontour": [
           {
            "colorbar": {
             "outlinewidth": 0,
             "ticks": ""
            },
            "colorscale": [
             [
              0,
              "#0d0887"
             ],
             [
              0.1111111111111111,
              "#46039f"
             ],
             [
              0.2222222222222222,
              "#7201a8"
             ],
             [
              0.3333333333333333,
              "#9c179e"
             ],
             [
              0.4444444444444444,
              "#bd3786"
             ],
             [
              0.5555555555555556,
              "#d8576b"
             ],
             [
              0.6666666666666666,
              "#ed7953"
             ],
             [
              0.7777777777777778,
              "#fb9f3a"
             ],
             [
              0.8888888888888888,
              "#fdca26"
             ],
             [
              1,
              "#f0f921"
             ]
            ],
            "type": "histogram2dcontour"
           }
          ],
          "mesh3d": [
           {
            "colorbar": {
             "outlinewidth": 0,
             "ticks": ""
            },
            "type": "mesh3d"
           }
          ],
          "parcoords": [
           {
            "line": {
             "colorbar": {
              "outlinewidth": 0,
              "ticks": ""
             }
            },
            "type": "parcoords"
           }
          ],
          "scatter": [
           {
            "marker": {
             "colorbar": {
              "outlinewidth": 0,
              "ticks": ""
             }
            },
            "type": "scatter"
           }
          ],
          "scatter3d": [
           {
            "line": {
             "colorbar": {
              "outlinewidth": 0,
              "ticks": ""
             }
            },
            "marker": {
             "colorbar": {
              "outlinewidth": 0,
              "ticks": ""
             }
            },
            "type": "scatter3d"
           }
          ],
          "scattercarpet": [
           {
            "marker": {
             "colorbar": {
              "outlinewidth": 0,
              "ticks": ""
             }
            },
            "type": "scattercarpet"
           }
          ],
          "scattergeo": [
           {
            "marker": {
             "colorbar": {
              "outlinewidth": 0,
              "ticks": ""
             }
            },
            "type": "scattergeo"
           }
          ],
          "scattergl": [
           {
            "marker": {
             "colorbar": {
              "outlinewidth": 0,
              "ticks": ""
             }
            },
            "type": "scattergl"
           }
          ],
          "scattermapbox": [
           {
            "marker": {
             "colorbar": {
              "outlinewidth": 0,
              "ticks": ""
             }
            },
            "type": "scattermapbox"
           }
          ],
          "scatterpolar": [
           {
            "marker": {
             "colorbar": {
              "outlinewidth": 0,
              "ticks": ""
             }
            },
            "type": "scatterpolar"
           }
          ],
          "scatterpolargl": [
           {
            "marker": {
             "colorbar": {
              "outlinewidth": 0,
              "ticks": ""
             }
            },
            "type": "scatterpolargl"
           }
          ],
          "scatterternary": [
           {
            "marker": {
             "colorbar": {
              "outlinewidth": 0,
              "ticks": ""
             }
            },
            "type": "scatterternary"
           }
          ],
          "surface": [
           {
            "colorbar": {
             "outlinewidth": 0,
             "ticks": ""
            },
            "colorscale": [
             [
              0,
              "#0d0887"
             ],
             [
              0.1111111111111111,
              "#46039f"
             ],
             [
              0.2222222222222222,
              "#7201a8"
             ],
             [
              0.3333333333333333,
              "#9c179e"
             ],
             [
              0.4444444444444444,
              "#bd3786"
             ],
             [
              0.5555555555555556,
              "#d8576b"
             ],
             [
              0.6666666666666666,
              "#ed7953"
             ],
             [
              0.7777777777777778,
              "#fb9f3a"
             ],
             [
              0.8888888888888888,
              "#fdca26"
             ],
             [
              1,
              "#f0f921"
             ]
            ],
            "type": "surface"
           }
          ],
          "table": [
           {
            "cells": {
             "fill": {
              "color": "#EBF0F8"
             },
             "line": {
              "color": "white"
             }
            },
            "header": {
             "fill": {
              "color": "#C8D4E3"
             },
             "line": {
              "color": "white"
             }
            },
            "type": "table"
           }
          ]
         },
         "layout": {
          "annotationdefaults": {
           "arrowcolor": "#2a3f5f",
           "arrowhead": 0,
           "arrowwidth": 1
          },
          "colorscale": {
           "diverging": [
            [
             0,
             "#8e0152"
            ],
            [
             0.1,
             "#c51b7d"
            ],
            [
             0.2,
             "#de77ae"
            ],
            [
             0.3,
             "#f1b6da"
            ],
            [
             0.4,
             "#fde0ef"
            ],
            [
             0.5,
             "#f7f7f7"
            ],
            [
             0.6,
             "#e6f5d0"
            ],
            [
             0.7,
             "#b8e186"
            ],
            [
             0.8,
             "#7fbc41"
            ],
            [
             0.9,
             "#4d9221"
            ],
            [
             1,
             "#276419"
            ]
           ],
           "sequential": [
            [
             0,
             "#0d0887"
            ],
            [
             0.1111111111111111,
             "#46039f"
            ],
            [
             0.2222222222222222,
             "#7201a8"
            ],
            [
             0.3333333333333333,
             "#9c179e"
            ],
            [
             0.4444444444444444,
             "#bd3786"
            ],
            [
             0.5555555555555556,
             "#d8576b"
            ],
            [
             0.6666666666666666,
             "#ed7953"
            ],
            [
             0.7777777777777778,
             "#fb9f3a"
            ],
            [
             0.8888888888888888,
             "#fdca26"
            ],
            [
             1,
             "#f0f921"
            ]
           ],
           "sequentialminus": [
            [
             0,
             "#0d0887"
            ],
            [
             0.1111111111111111,
             "#46039f"
            ],
            [
             0.2222222222222222,
             "#7201a8"
            ],
            [
             0.3333333333333333,
             "#9c179e"
            ],
            [
             0.4444444444444444,
             "#bd3786"
            ],
            [
             0.5555555555555556,
             "#d8576b"
            ],
            [
             0.6666666666666666,
             "#ed7953"
            ],
            [
             0.7777777777777778,
             "#fb9f3a"
            ],
            [
             0.8888888888888888,
             "#fdca26"
            ],
            [
             1,
             "#f0f921"
            ]
           ]
          },
          "colorway": [
           "#636efa",
           "#EF553B",
           "#00cc96",
           "#ab63fa",
           "#FFA15A",
           "#19d3f3",
           "#FF6692",
           "#B6E880",
           "#FF97FF",
           "#FECB52"
          ],
          "font": {
           "color": "#2a3f5f"
          },
          "geo": {
           "bgcolor": "white",
           "lakecolor": "white",
           "landcolor": "#E5ECF6",
           "showlakes": true,
           "showland": true,
           "subunitcolor": "white"
          },
          "hoverlabel": {
           "align": "left"
          },
          "hovermode": "closest",
          "mapbox": {
           "style": "light"
          },
          "paper_bgcolor": "white",
          "plot_bgcolor": "#E5ECF6",
          "polar": {
           "angularaxis": {
            "gridcolor": "white",
            "linecolor": "white",
            "ticks": ""
           },
           "bgcolor": "#E5ECF6",
           "radialaxis": {
            "gridcolor": "white",
            "linecolor": "white",
            "ticks": ""
           }
          },
          "scene": {
           "xaxis": {
            "backgroundcolor": "#E5ECF6",
            "gridcolor": "white",
            "gridwidth": 2,
            "linecolor": "white",
            "showbackground": true,
            "ticks": "",
            "zerolinecolor": "white"
           },
           "yaxis": {
            "backgroundcolor": "#E5ECF6",
            "gridcolor": "white",
            "gridwidth": 2,
            "linecolor": "white",
            "showbackground": true,
            "ticks": "",
            "zerolinecolor": "white"
           },
           "zaxis": {
            "backgroundcolor": "#E5ECF6",
            "gridcolor": "white",
            "gridwidth": 2,
            "linecolor": "white",
            "showbackground": true,
            "ticks": "",
            "zerolinecolor": "white"
           }
          },
          "shapedefaults": {
           "line": {
            "color": "#2a3f5f"
           }
          },
          "ternary": {
           "aaxis": {
            "gridcolor": "white",
            "linecolor": "white",
            "ticks": ""
           },
           "baxis": {
            "gridcolor": "white",
            "linecolor": "white",
            "ticks": ""
           },
           "bgcolor": "#E5ECF6",
           "caxis": {
            "gridcolor": "white",
            "linecolor": "white",
            "ticks": ""
           }
          },
          "title": {
           "x": 0.05
          },
          "xaxis": {
           "automargin": true,
           "gridcolor": "white",
           "linecolor": "white",
           "ticks": "",
           "zerolinecolor": "white",
           "zerolinewidth": 2
          },
          "yaxis": {
           "automargin": true,
           "gridcolor": "white",
           "linecolor": "white",
           "ticks": "",
           "zerolinecolor": "white",
           "zerolinewidth": 2
          }
         }
        },
        "xaxis": {
         "anchor": "y",
         "domain": [
          0,
          0.98
         ],
         "title": {
          "text": "Month"
         }
        },
        "yaxis": {
         "anchor": "x",
         "domain": [
          0,
          1
         ],
         "title": {
          "text": "Value"
         }
        }
       }
      },
      "text/html": [
       "<div>\n",
       "        \n",
       "        \n",
       "            <div id=\"b4e5f0e6-01eb-46d2-952b-5cfb66fff632\" class=\"plotly-graph-div\" style=\"height:600px; width:100%;\"></div>\n",
       "            <script type=\"text/javascript\">\n",
       "                require([\"plotly\"], function(Plotly) {\n",
       "                    window.PLOTLYENV=window.PLOTLYENV || {};\n",
       "                    \n",
       "                if (document.getElementById(\"b4e5f0e6-01eb-46d2-952b-5cfb66fff632\")) {\n",
       "                    Plotly.newPlot(\n",
       "                        'b4e5f0e6-01eb-46d2-952b-5cfb66fff632',\n",
       "                        [{\"hoverlabel\": {\"namelength\": 0}, \"hovertemplate\": \"Country=Afghanistan<br>Month=%{x}<br>Value=%{y}\", \"legendgroup\": \"\", \"line\": {\"color\": \"#636efa\", \"dash\": \"solid\"}, \"mode\": \"lines\", \"name\": \"\", \"showlegend\": false, \"type\": \"scatter\", \"x\": [\"Jan\", \"Feb\", \"Mar\", \"Apr\", \"May\", \"Jun\", \"Jul\", \"Aug\", \"Sep\", \"Oct\", \"Nov\", \"Dec\", \"Year\"], \"xaxis\": \"x\", \"y\": [177.2, 178.6, 204.5, 232.5, 310.3, 353.4, 356.8, 339.7, 303.9, 282.6, 253.2, 182.4, 3175.1], \"yaxis\": \"y\"}, {\"hoverlabel\": {\"namelength\": 0}, \"hovertemplate\": \"Country=Azerbaijan<br>Month=%{x}<br>Value=%{y}\", \"legendgroup\": \"\", \"line\": {\"color\": \"#636efa\", \"dash\": \"solid\"}, \"mode\": \"lines\", \"name\": \"\", \"showlegend\": false, \"type\": \"scatter\", \"x\": [\"Jan\", \"Feb\", \"Mar\", \"Apr\", \"May\", \"Jun\", \"Jul\", \"Aug\", \"Sep\", \"Oct\", \"Nov\", \"Dec\", \"Year\"], \"xaxis\": \"x\", \"y\": [89.9, 89.0, 124.0, 195.0, 257.3, 294.0, 313.1, 282.1, 222.0, 145.7, 93.0, 102.3, 2207.4], \"yaxis\": \"y\"}, {\"hoverlabel\": {\"namelength\": 0}, \"hovertemplate\": \"Country=Bangladesh<br>Month=%{x}<br>Value=%{y}\", \"legendgroup\": \"\", \"line\": {\"color\": \"#636efa\", \"dash\": \"solid\"}, \"mode\": \"lines\", \"name\": \"\", \"showlegend\": false, \"type\": \"scatter\", \"x\": [\"Jan\", \"Feb\", \"Mar\", \"Apr\", \"May\", \"Jun\", \"Jul\", \"Aug\", \"Sep\", \"Oct\", \"Nov\", \"Dec\", \"Year\"], \"xaxis\": \"x\", \"y\": [279.0, 226.0, 217.0, 180.0, 155.0, 90.0, 62.0, 62.0, 90.0, 186.0, 240.0, 279.0, 2066.0], \"yaxis\": \"y\"}, {\"hoverlabel\": {\"namelength\": 0}, \"hovertemplate\": \"Country=China<br>Month=%{x}<br>Value=%{y}\", \"legendgroup\": \"\", \"line\": {\"color\": \"#636efa\", \"dash\": \"solid\"}, \"mode\": \"lines\", \"name\": \"\", \"showlegend\": false, \"type\": \"scatter\", \"x\": [\"Jan\", \"Jan\", \"Jan\", \"Jan\", \"Jan\", \"Feb\", \"Feb\", \"Feb\", \"Feb\", \"Feb\", \"Mar\", \"Mar\", \"Mar\", \"Mar\", \"Mar\", \"Apr\", \"Apr\", \"Apr\", \"Apr\", \"Apr\", \"May\", \"May\", \"May\", \"May\", \"May\", \"Jun\", \"Jun\", \"Jun\", \"Jun\", \"Jun\", \"Jul\", \"Jul\", \"Jul\", \"Jul\", \"Jul\", \"Aug\", \"Aug\", \"Aug\", \"Aug\", \"Aug\", \"Sep\", \"Sep\", \"Sep\", \"Sep\", \"Sep\", \"Oct\", \"Oct\", \"Oct\", \"Oct\", \"Oct\", \"Nov\", \"Nov\", \"Nov\", \"Nov\", \"Nov\", \"Dec\", \"Dec\", \"Dec\", \"Dec\", \"Dec\", \"Year\", \"Year\", \"Year\", \"Year\", \"Year\"], \"xaxis\": \"x\", \"y\": [194.1, 20.6, 250.9, 114.3, 101.6, 194.7, 29.7, 226.7, 119.9, 128.8, 231.8, 64.9, 246.1, 128.5, 180.5, 251.9, 93.6, 248.9, 148.5, 248.0, 283.4, 109.4, 276.6, 169.8, 283.3, 261.4, 97.7, 257.3, 130.9, 282.7, 212.4, 158.6, 227.4, 190.8, 298.7, 220.9, 167.0, 219.6, 185.7, 301.0, 232.1, 106.6, 229.0, 167.5, 262.6, 222.1, 50.4, 281.7, 161.4, 224.4, 185.3, 35.9, 267.4, 131.1, 127.4, 180.7, 20.4, 258.6, 127.4, 84.3, 2670.8, 954.8, 2990.2, 1775.8, 2523.3], \"yaxis\": \"y\"}, {\"hoverlabel\": {\"namelength\": 0}, \"hovertemplate\": \"Country=Hong Kong<br>Month=%{x}<br>Value=%{y}\", \"legendgroup\": \"\", \"line\": {\"color\": \"#636efa\", \"dash\": \"solid\"}, \"mode\": \"lines\", \"name\": \"\", \"showlegend\": false, \"type\": \"scatter\", \"x\": [\"Jan\", \"Feb\", \"Mar\", \"Apr\", \"May\", \"Jun\", \"Jul\", \"Aug\", \"Sep\", \"Oct\", \"Nov\", \"Dec\", \"Year\"], \"xaxis\": \"x\", \"y\": [143.0, 94.2, 90.8, 101.7, 140.4, 146.1, 212.0, 188.9, 172.3, 193.9, 180.1, 172.2, 1835.6], \"yaxis\": \"y\"}, {\"hoverlabel\": {\"namelength\": 0}, \"hovertemplate\": \"Country=India<br>Month=%{x}<br>Value=%{y}\", \"legendgroup\": \"\", \"line\": {\"color\": \"#636efa\", \"dash\": \"solid\"}, \"mode\": \"lines\", \"name\": \"\", \"showlegend\": false, \"type\": \"scatter\", \"x\": [\"Jan\", \"Jan\", \"Jan\", \"Jan\", \"Feb\", \"Feb\", \"Feb\", \"Feb\", \"Mar\", \"Mar\", \"Mar\", \"Mar\", \"Apr\", \"Apr\", \"Apr\", \"Apr\", \"May\", \"May\", \"May\", \"May\", \"Jun\", \"Jun\", \"Jun\", \"Jun\", \"Jul\", \"Jul\", \"Jul\", \"Jul\", \"Aug\", \"Aug\", \"Aug\", \"Aug\", \"Sep\", \"Sep\", \"Sep\", \"Sep\", \"Oct\", \"Oct\", \"Oct\", \"Oct\", \"Nov\", \"Nov\", \"Nov\", \"Nov\", \"Dec\", \"Dec\", \"Dec\", \"Dec\", \"Year\", \"Year\", \"Year\", \"Year\"], \"xaxis\": \"x\", \"y\": [214.6, 203.9, 269.5, 262.0, 216.1, 201.2, 257.6, 248.0, 239.1, 225.8, 274.3, 271.0, 261.0, 235.4, 283.7, 257.0, 263.1, 227.1, 296.2, 241.0, 196.5, 123.1, 148.6, 137.0, 165.9, 93.1, 73.4, 112.0, 177.0, 104.9, 75.9, 114.0, 219.0, 116.2, 165.1, 144.0, 269.3, 182.6, 240.2, 173.0, 247.2, 190.8, 245.8, 190.0, 215.8, 203.4, 253.2, 212.0, 2684.6, 2107.5, 2583.5, 2361.0], \"yaxis\": \"y\"}, {\"hoverlabel\": {\"namelength\": 0}, \"hovertemplate\": \"Country=Indonesia<br>Month=%{x}<br>Value=%{y}\", \"legendgroup\": \"\", \"line\": {\"color\": \"#636efa\", \"dash\": \"solid\"}, \"mode\": \"lines\", \"name\": \"\", \"showlegend\": false, \"type\": \"scatter\", \"x\": [\"Jan\", \"Feb\", \"Mar\", \"Apr\", \"May\", \"Jun\", \"Jul\", \"Aug\", \"Sep\", \"Oct\", \"Nov\", \"Dec\", \"Year\"], \"xaxis\": \"x\", \"y\": [189.1, 180.8, 238.7, 255.0, 260.4, 255.0, 282.1, 294.5, 300.7, 279.0, 231.0, 217.0, 2983.3], \"yaxis\": \"y\"}, {\"hoverlabel\": {\"namelength\": 0}, \"hovertemplate\": \"Country=Iran<br>Month=%{x}<br>Value=%{y}\", \"legendgroup\": \"\", \"line\": {\"color\": \"#636efa\", \"dash\": \"solid\"}, \"mode\": \"lines\", \"name\": \"\", \"showlegend\": false, \"type\": \"scatter\", \"x\": [\"Jan\", \"Feb\", \"Mar\", \"Apr\", \"May\", \"Jun\", \"Jul\", \"Aug\", \"Sep\", \"Oct\", \"Nov\", \"Dec\", \"Year\"], \"xaxis\": \"x\", \"y\": [137.2, 151.1, 186.0, 219.1, 279.8, 328.7, 336.6, 336.8, 300.5, 246.8, 169.4, 134.1, 2826.1], \"yaxis\": \"y\"}, {\"hoverlabel\": {\"namelength\": 0}, \"hovertemplate\": \"Country=Iraq<br>Month=%{x}<br>Value=%{y}\", \"legendgroup\": \"\", \"line\": {\"color\": \"#636efa\", \"dash\": \"solid\"}, \"mode\": \"lines\", \"name\": \"\", \"showlegend\": false, \"type\": \"scatter\", \"x\": [\"Jan\", \"Feb\", \"Mar\", \"Apr\", \"May\", \"Jun\", \"Jul\", \"Aug\", \"Sep\", \"Oct\", \"Nov\", \"Dec\", \"Year\"], \"xaxis\": \"x\", \"y\": [192.2, 203.3, 244.9, 255.0, 300.7, 348.0, 347.2, 353.4, 315.0, 272.8, 213.0, 195.3, 3240.8], \"yaxis\": \"y\"}, {\"hoverlabel\": {\"namelength\": 0}, \"hovertemplate\": \"Country=Israel<br>Month=%{x}<br>Value=%{y}\", \"legendgroup\": \"\", \"line\": {\"color\": \"#636efa\", \"dash\": \"solid\"}, \"mode\": \"lines\", \"name\": \"\", \"showlegend\": false, \"type\": \"scatter\", \"x\": [\"Jan\", \"Feb\", \"Mar\", \"Apr\", \"May\", \"Jun\", \"Jul\", \"Aug\", \"Sep\", \"Oct\", \"Nov\", \"Dec\", \"Year\"], \"xaxis\": \"x\", \"y\": [192.2, 200.1, 235.6, 270.0, 328.6, 357.0, 368.9, 356.5, 300.0, 279.0, 234.0, 189.1, 3311.0], \"yaxis\": \"y\"}, {\"hoverlabel\": {\"namelength\": 0}, \"hovertemplate\": \"Country=Japan<br>Month=%{x}<br>Value=%{y}\", \"legendgroup\": \"\", \"line\": {\"color\": \"#636efa\", \"dash\": \"solid\"}, \"mode\": \"lines\", \"name\": \"\", \"showlegend\": false, \"type\": \"scatter\", \"x\": [\"Jan\", \"Jan\", \"Feb\", \"Feb\", \"Mar\", \"Mar\", \"Apr\", \"Apr\", \"May\", \"May\", \"Jun\", \"Jun\", \"Jul\", \"Jul\", \"Aug\", \"Aug\", \"Sep\", \"Sep\", \"Oct\", \"Oct\", \"Nov\", \"Nov\", \"Dec\", \"Dec\", \"Year\", \"Year\"], \"xaxis\": \"x\", \"y\": [92.5, 184.5, 104.0, 165.8, 146.6, 163.1, 176.5, 176.9, 198.4, 167.8, 187.8, 125.4, 164.9, 146.4, 171.0, 169.0, 160.5, 120.9, 152.3, 131.0, 100.0, 147.9, 85.9, 178.0, 1740.4, 1876.7], \"yaxis\": \"y\"}, {\"hoverlabel\": {\"namelength\": 0}, \"hovertemplate\": \"Country=Kazakhstan<br>Month=%{x}<br>Value=%{y}\", \"legendgroup\": \"\", \"line\": {\"color\": \"#636efa\", \"dash\": \"solid\"}, \"mode\": \"lines\", \"name\": \"\", \"showlegend\": false, \"type\": \"scatter\", \"x\": [\"Jan\", \"Jan\", \"Feb\", \"Feb\", \"Mar\", \"Mar\", \"Apr\", \"Apr\", \"May\", \"May\", \"Jun\", \"Jun\", \"Jul\", \"Jul\", \"Aug\", \"Aug\", \"Sep\", \"Sep\", \"Oct\", \"Oct\", \"Nov\", \"Nov\", \"Dec\", \"Dec\", \"Year\", \"Year\"], \"xaxis\": \"x\", \"y\": [118.0, 103.0, 119.0, 147.0, 147.0, 192.0, 194.0, 238.0, 241.0, 301.0, 280.0, 336.0, 306.0, 336.0, 294.0, 294.0, 245.0, 230.0, 184.0, 136.0, 127.0, 100.0, 101.0, 94.0, 2356.0, 2507.0], \"yaxis\": \"y\"}, {\"hoverlabel\": {\"namelength\": 0}, \"hovertemplate\": \"Country=Macau<br>Month=%{x}<br>Value=%{y}\", \"legendgroup\": \"\", \"line\": {\"color\": \"#636efa\", \"dash\": \"solid\"}, \"mode\": \"lines\", \"name\": \"\", \"showlegend\": false, \"type\": \"scatter\", \"x\": [\"Jan\", \"Feb\", \"Mar\", \"Apr\", \"May\", \"Jun\", \"Jul\", \"Aug\", \"Sep\", \"Oct\", \"Nov\", \"Dec\", \"Year\"], \"xaxis\": \"x\", \"y\": [127.4, 79.4, 71.5, 85.3, 136.4, 155.3, 223.2, 195.4, 176.5, 192.3, 172.2, 159.1, 1773.9], \"yaxis\": \"y\"}, {\"hoverlabel\": {\"namelength\": 0}, \"hovertemplate\": \"Country=Mongolia<br>Month=%{x}<br>Value=%{y}\", \"legendgroup\": \"\", \"line\": {\"color\": \"#636efa\", \"dash\": \"solid\"}, \"mode\": \"lines\", \"name\": \"\", \"showlegend\": false, \"type\": \"scatter\", \"x\": [\"Jan\", \"Feb\", \"Mar\", \"Apr\", \"May\", \"Jun\", \"Jul\", \"Aug\", \"Sep\", \"Oct\", \"Nov\", \"Dec\", \"Year\"], \"xaxis\": \"x\", \"y\": [179.1, 204.8, 265.2, 262.5, 299.3, 269.0, 249.3, 258.3, 245.7, 227.5, 177.4, 156.4, 2791.5], \"yaxis\": \"y\"}, {\"hoverlabel\": {\"namelength\": 0}, \"hovertemplate\": \"Country=North Korea<br>Month=%{x}<br>Value=%{y}\", \"legendgroup\": \"\", \"line\": {\"color\": \"#636efa\", \"dash\": \"solid\"}, \"mode\": \"lines\", \"name\": \"\", \"showlegend\": false, \"type\": \"scatter\", \"x\": [\"Jan\", \"Feb\", \"Mar\", \"Apr\", \"May\", \"Jun\", \"Jul\", \"Aug\", \"Sep\", \"Oct\", \"Nov\", \"Dec\", \"Year\"], \"xaxis\": \"x\", \"y\": [184.0, 197.0, 231.0, 237.0, 263.0, 229.0, 181.0, 204.0, 222.0, 214.0, 165.0, 165.0, 2492.0], \"yaxis\": \"y\"}, {\"hoverlabel\": {\"namelength\": 0}, \"hovertemplate\": \"Country=Oman<br>Month=%{x}<br>Value=%{y}\", \"legendgroup\": \"\", \"line\": {\"color\": \"#636efa\", \"dash\": \"solid\"}, \"mode\": \"lines\", \"name\": \"\", \"showlegend\": false, \"type\": \"scatter\", \"x\": [\"Jan\", \"Feb\", \"Mar\", \"Apr\", \"May\", \"Jun\", \"Jul\", \"Aug\", \"Sep\", \"Oct\", \"Nov\", \"Dec\", \"Year\"], \"xaxis\": \"x\", \"y\": [268.6, 244.8, 278.3, 292.5, 347.4, 325.7, 277.7, 278.6, 303.9, 316.9, 291.9, 267.0, 3493.3], \"yaxis\": \"y\"}, {\"hoverlabel\": {\"namelength\": 0}, \"hovertemplate\": \"Country=Pakistan<br>Month=%{x}<br>Value=%{y}\", \"legendgroup\": \"\", \"line\": {\"color\": \"#636efa\", \"dash\": \"solid\"}, \"mode\": \"lines\", \"name\": \"\", \"showlegend\": false, \"type\": \"scatter\", \"x\": [\"Jan\", \"Jan\", \"Feb\", \"Feb\", \"Mar\", \"Mar\", \"Apr\", \"Apr\", \"May\", \"May\", \"Jun\", \"Jun\", \"Jul\", \"Jul\", \"Aug\", \"Aug\", \"Sep\", \"Sep\", \"Oct\", \"Oct\", \"Nov\", \"Nov\", \"Dec\", \"Dec\", \"Year\", \"Year\"], \"xaxis\": \"x\", \"y\": [270.7, 218.8, 249.4, 215.0, 271.6, 245.8, 277.4, 276.6, 299.1, 308.3, 231.8, 269.0, 155.0, 227.5, 147.7, 234.9, 218.8, 265.6, 283.5, 290.0, 273.3, 259.6, 272.0, 222.9, 2950.3, 3034.0], \"yaxis\": \"y\"}, {\"hoverlabel\": {\"namelength\": 0}, \"hovertemplate\": \"Country=Philippines<br>Month=%{x}<br>Value=%{y}\", \"legendgroup\": \"\", \"line\": {\"color\": \"#636efa\", \"dash\": \"solid\"}, \"mode\": \"lines\", \"name\": \"\", \"showlegend\": false, \"type\": \"scatter\", \"x\": [\"Jan\", \"Feb\", \"Mar\", \"Apr\", \"May\", \"Jun\", \"Jul\", \"Aug\", \"Sep\", \"Oct\", \"Nov\", \"Dec\", \"Year\"], \"xaxis\": \"x\", \"y\": [176.7, 197.8, 225.8, 258.0, 222.7, 162.0, 132.8, 132.8, 132.0, 157.6, 153.0, 151.9, 2103.1], \"yaxis\": \"y\"}, {\"hoverlabel\": {\"namelength\": 0}, \"hovertemplate\": \"Country=Russia<br>Month=%{x}<br>Value=%{y}\", \"legendgroup\": \"\", \"line\": {\"color\": \"#636efa\", \"dash\": \"solid\"}, \"mode\": \"lines\", \"name\": \"\", \"showlegend\": false, \"type\": \"scatter\", \"x\": [\"Jan\", \"Jan\", \"Jan\", \"Jan\", \"Jan\", \"Jan\", \"Feb\", \"Feb\", \"Feb\", \"Feb\", \"Feb\", \"Feb\", \"Mar\", \"Mar\", \"Mar\", \"Mar\", \"Mar\", \"Mar\", \"Apr\", \"Apr\", \"Apr\", \"Apr\", \"Apr\", \"Apr\", \"May\", \"May\", \"May\", \"May\", \"May\", \"May\", \"Jun\", \"Jun\", \"Jun\", \"Jun\", \"Jun\", \"Jun\", \"Jul\", \"Jul\", \"Jul\", \"Jul\", \"Jul\", \"Jul\", \"Aug\", \"Aug\", \"Aug\", \"Aug\", \"Aug\", \"Aug\", \"Sep\", \"Sep\", \"Sep\", \"Sep\", \"Sep\", \"Sep\", \"Oct\", \"Oct\", \"Oct\", \"Oct\", \"Oct\", \"Oct\", \"Nov\", \"Nov\", \"Nov\", \"Nov\", \"Nov\", \"Nov\", \"Dec\", \"Dec\", \"Dec\", \"Dec\", \"Dec\", \"Dec\", \"Year\", \"Year\", \"Year\", \"Year\", \"Year\", \"Year\"], \"xaxis\": \"x\", \"y\": [0.0, 93.0, 68.0, 105.4, 178.0, 18.6, 22.6, 149.0, 125.0, 115.8, 184.0, 98.0, 127.1, 207.0, 184.0, 176.7, 216.0, 232.5, 237.0, 223.0, 235.0, 192.0, 192.0, 273.0, 189.1, 266.0, 284.0, 192.2, 199.0, 303.8, 141.0, 264.0, 319.0, 192.0, 130.0, 333.0, 223.2, 243.0, 321.0, 170.5, 122.0, 347.2, 139.5, 218.0, 248.0, 176.7, 149.0, 272.8, 60.0, 182.0, 180.0, 177.0, 197.0, 174.0, 24.8, 152.0, 105.0, 158.1, 205.0, 105.4, 0.0, 93.0, 71.0, 123.0, 168.0, 60.0, 0.0, 62.0, 61.0, 93.0, 156.0, 9.3, 1164.3, 2142.0, 2201.0, 1872.4, 2096.0, 2227.6], \"yaxis\": \"y\"}, {\"hoverlabel\": {\"namelength\": 0}, \"hovertemplate\": \"Country=Saudi Arabia<br>Month=%{x}<br>Value=%{y}\", \"legendgroup\": \"\", \"line\": {\"color\": \"#636efa\", \"dash\": \"solid\"}, \"mode\": \"lines\", \"name\": \"\", \"showlegend\": false, \"type\": \"scatter\", \"x\": [\"Jan\", \"Jan\", \"Feb\", \"Feb\", \"Mar\", \"Mar\", \"Apr\", \"Apr\", \"May\", \"May\", \"Jun\", \"Jun\", \"Jul\", \"Jul\", \"Aug\", \"Aug\", \"Sep\", \"Sep\", \"Oct\", \"Oct\", \"Nov\", \"Nov\", \"Dec\", \"Dec\", \"Year\", \"Year\"], \"xaxis\": \"x\", \"y\": [266.6, 212.4, 265.6, 226.6, 294.5, 219.8, 282.0, 242.3, 288.3, 287.7, 276.0, 328.2, 232.5, 332.1, 238.7, 309.2, 273.0, 271.6, 291.4, 311.4, 273.0, 269.2, 266.6, 214.3, 3248.2, 3224.8], \"yaxis\": \"y\"}, {\"hoverlabel\": {\"namelength\": 0}, \"hovertemplate\": \"Country=Singapore<br>Month=%{x}<br>Value=%{y}\", \"legendgroup\": \"\", \"line\": {\"color\": \"#636efa\", \"dash\": \"solid\"}, \"mode\": \"lines\", \"name\": \"\", \"showlegend\": false, \"type\": \"scatter\", \"x\": [\"Jan\", \"Feb\", \"Mar\", \"Apr\", \"May\", \"Jun\", \"Jul\", \"Aug\", \"Sep\", \"Oct\", \"Nov\", \"Dec\", \"Year\"], \"xaxis\": \"x\", \"y\": [172.4, 183.2, 192.7, 173.6, 179.8, 177.7, 187.9, 180.6, 156.2, 155.2, 129.6, 133.5, 2022.4], \"yaxis\": \"y\"}, {\"hoverlabel\": {\"namelength\": 0}, \"hovertemplate\": \"Country=South Korea<br>Month=%{x}<br>Value=%{y}\", \"legendgroup\": \"\", \"line\": {\"color\": \"#636efa\", \"dash\": \"solid\"}, \"mode\": \"lines\", \"name\": \"\", \"showlegend\": false, \"type\": \"scatter\", \"x\": [\"Jan\", \"Jan\", \"Feb\", \"Feb\", \"Mar\", \"Mar\", \"Apr\", \"Apr\", \"May\", \"May\", \"Jun\", \"Jun\", \"Jul\", \"Jul\", \"Aug\", \"Aug\", \"Sep\", \"Sep\", \"Oct\", \"Oct\", \"Nov\", \"Nov\", \"Dec\", \"Dec\", \"Year\", \"Year\"], \"xaxis\": \"x\", \"y\": [199.0, 160.3, 182.5, 163.3, 193.0, 189.0, 210.0, 205.0, 221.7, 213.0, 179.7, 182.0, 165.8, 120.0, 200.9, 152.5, 167.2, 176.2, 208.9, 198.8, 194.4, 153.2, 204.3, 152.6, 2327.3, 2066.0], \"yaxis\": \"y\"}, {\"hoverlabel\": {\"namelength\": 0}, \"hovertemplate\": \"Country=Taiwan<br>Month=%{x}<br>Value=%{y}\", \"legendgroup\": \"\", \"line\": {\"color\": \"#636efa\", \"dash\": \"solid\"}, \"mode\": \"lines\", \"name\": \"\", \"showlegend\": false, \"type\": \"scatter\", \"x\": [\"Jan\", \"Jan\", \"Jan\", \"Feb\", \"Feb\", \"Feb\", \"Mar\", \"Mar\", \"Mar\", \"Apr\", \"Apr\", \"Apr\", \"May\", \"May\", \"May\", \"Jun\", \"Jun\", \"Jun\", \"Jul\", \"Jul\", \"Jul\", \"Aug\", \"Aug\", \"Aug\", \"Sep\", \"Sep\", \"Sep\", \"Oct\", \"Oct\", \"Oct\", \"Nov\", \"Nov\", \"Nov\", \"Dec\", \"Dec\", \"Dec\", \"Year\", \"Year\", \"Year\"], \"xaxis\": \"x\", \"y\": [174.7, 176.6, 80.6, 165.8, 140.6, 71.3, 187.0, 149.9, 89.6, 189.1, 137.8, 92.6, 198.5, 158.7, 113.7, 199.9, 160.1, 121.7, 221.4, 199.6, 179.0, 193.7, 178.7, 188.9, 175.7, 175.8, 153.7, 182.4, 203.7, 124.0, 162.2, 179.4, 99.4, 161.8, 182.3, 90.7, 2212.2, 2043.2, 1405.2], \"yaxis\": \"y\"}, {\"hoverlabel\": {\"namelength\": 0}, \"hovertemplate\": \"Country=Thailand<br>Month=%{x}<br>Value=%{y}\", \"legendgroup\": \"\", \"line\": {\"color\": \"#636efa\", \"dash\": \"solid\"}, \"mode\": \"lines\", \"name\": \"\", \"showlegend\": false, \"type\": \"scatter\", \"x\": [\"Jan\", \"Jan\", \"Jan\", \"Jan\", \"Feb\", \"Feb\", \"Feb\", \"Feb\", \"Mar\", \"Mar\", \"Mar\", \"Mar\", \"Apr\", \"Apr\", \"Apr\", \"Apr\", \"May\", \"May\", \"May\", \"May\", \"Jun\", \"Jun\", \"Jun\", \"Jun\", \"Jul\", \"Jul\", \"Jul\", \"Jul\", \"Aug\", \"Aug\", \"Aug\", \"Aug\", \"Sep\", \"Sep\", \"Sep\", \"Sep\", \"Oct\", \"Oct\", \"Oct\", \"Oct\", \"Nov\", \"Nov\", \"Nov\", \"Nov\", \"Dec\", \"Dec\", \"Dec\", \"Dec\", \"Year\", \"Year\", \"Year\", \"Year\"], \"xaxis\": \"x\", \"y\": [272.5, 272.8, 182.9, 226.3, 249.9, 257.1, 166.7, 211.9, 269.0, 294.5, 186.0, 201.5, 256.7, 279.0, 144.0, 186.0, 216.4, 198.4, 114.7, 155.0, 178.0, 156.0, 111.0, 114.0, 171.8, 120.9, 114.7, 117.8, 160.3, 117.8, 114.7, 117.8, 154.9, 144.0, 108.0, 108.0, 198.1, 201.5, 111.6, 145.7, 234.2, 216.0, 105.0, 186.0, 262.0, 254.2, 108.5, 226.3, 2623.8, 2512.2, 1567.8, 1996.3], \"yaxis\": \"y\"}, {\"hoverlabel\": {\"namelength\": 0}, \"hovertemplate\": \"Country=Turkey<br>Month=%{x}<br>Value=%{y}\", \"legendgroup\": \"\", \"line\": {\"color\": \"#636efa\", \"dash\": \"solid\"}, \"mode\": \"lines\", \"name\": \"\", \"showlegend\": false, \"type\": \"scatter\", \"x\": [\"Jan\", \"Feb\", \"Mar\", \"Apr\", \"May\", \"Jun\", \"Jul\", \"Aug\", \"Sep\", \"Oct\", \"Nov\", \"Dec\", \"Year\"], \"xaxis\": \"x\", \"y\": [77.5, 98.9, 161.2, 189.0, 260.4, 306.0, 350.3, 328.6, 276.0, 198.4, 132.0, 71.3, 2449.6], \"yaxis\": \"y\"}, {\"hoverlabel\": {\"namelength\": 0}, \"hovertemplate\": \"Country=United Arab Emirates<br>Month=%{x}<br>Value=%{y}\", \"legendgroup\": \"\", \"line\": {\"color\": \"#636efa\", \"dash\": \"solid\"}, \"mode\": \"lines\", \"name\": \"\", \"showlegend\": false, \"type\": \"scatter\", \"x\": [\"Jan\", \"Feb\", \"Mar\", \"Apr\", \"May\", \"Jun\", \"Jul\", \"Aug\", \"Sep\", \"Oct\", \"Nov\", \"Dec\", \"Year\"], \"xaxis\": \"x\", \"y\": [254.2, 229.6, 254.2, 294.0, 344.1, 342.0, 322.4, 316.2, 309.0, 303.8, 285.0, 254.2, 3508.7], \"yaxis\": \"y\"}, {\"hoverlabel\": {\"namelength\": 0}, \"hovertemplate\": \"Country=Uzbekistan<br>Month=%{x}<br>Value=%{y}\", \"legendgroup\": \"\", \"line\": {\"color\": \"#636efa\", \"dash\": \"solid\"}, \"mode\": \"lines\", \"name\": \"\", \"showlegend\": false, \"type\": \"scatter\", \"x\": [\"Jan\", \"Feb\", \"Mar\", \"Apr\", \"May\", \"Jun\", \"Jul\", \"Aug\", \"Sep\", \"Oct\", \"Nov\", \"Dec\", \"Year\"], \"xaxis\": \"x\", \"y\": [117.8, 127.1, 164.3, 216.0, 303.8, 363.0, 384.4, 365.8, 300.0, 226.3, 150.0, 105.4, 2823.9], \"yaxis\": \"y\"}, {\"hoverlabel\": {\"namelength\": 0}, \"hovertemplate\": \"Country=Vietnam<br>Month=%{x}<br>Value=%{y}\", \"legendgroup\": \"\", \"line\": {\"color\": \"#636efa\", \"dash\": \"solid\"}, \"mode\": \"lines\", \"name\": \"\", \"showlegend\": false, \"type\": \"scatter\", \"x\": [\"Jan\", \"Jan\", \"Jan\", \"Jan\", \"Feb\", \"Feb\", \"Feb\", \"Feb\", \"Mar\", \"Mar\", \"Mar\", \"Mar\", \"Apr\", \"Apr\", \"Apr\", \"Apr\", \"May\", \"May\", \"May\", \"May\", \"Jun\", \"Jun\", \"Jun\", \"Jun\", \"Jul\", \"Jul\", \"Jul\", \"Jul\", \"Aug\", \"Aug\", \"Aug\", \"Aug\", \"Sep\", \"Sep\", \"Sep\", \"Sep\", \"Oct\", \"Oct\", \"Oct\", \"Oct\", \"Nov\", \"Nov\", \"Nov\", \"Nov\", \"Dec\", \"Dec\", \"Dec\", \"Dec\", \"Year\", \"Year\", \"Year\", \"Year\"], \"xaxis\": \"x\", \"y\": [255.0, 139.0, 74.0, 245.0, 234.0, 145.0, 47.0, 246.0, 255.0, 188.0, 47.0, 272.0, 202.0, 209.0, 90.0, 239.0, 190.0, 246.0, 183.0, 195.0, 147.0, 239.0, 172.0, 171.0, 157.0, 253.0, 195.0, 180.0, 136.0, 218.0, 174.0, 172.0, 133.0, 176.0, 176.0, 162.0, 140.0, 145.0, 167.0, 182.0, 172.0, 120.0, 137.0, 200.0, 215.0, 103.0, 124.0, 226.0, 2238.0, 2182.0, 1585.0, 2489.0], \"yaxis\": \"y\"}],\n",
       "                        {\"height\": 600, \"legend\": {\"tracegroupgap\": 0}, \"margin\": {\"t\": 60}, \"template\": {\"data\": {\"bar\": [{\"error_x\": {\"color\": \"#2a3f5f\"}, \"error_y\": {\"color\": \"#2a3f5f\"}, \"marker\": {\"line\": {\"color\": \"#E5ECF6\", \"width\": 0.5}}, \"type\": \"bar\"}], \"barpolar\": [{\"marker\": {\"line\": {\"color\": \"#E5ECF6\", \"width\": 0.5}}, \"type\": \"barpolar\"}], \"carpet\": [{\"aaxis\": {\"endlinecolor\": \"#2a3f5f\", \"gridcolor\": \"white\", \"linecolor\": \"white\", \"minorgridcolor\": \"white\", \"startlinecolor\": \"#2a3f5f\"}, \"baxis\": {\"endlinecolor\": \"#2a3f5f\", \"gridcolor\": \"white\", \"linecolor\": \"white\", \"minorgridcolor\": \"white\", \"startlinecolor\": \"#2a3f5f\"}, \"type\": \"carpet\"}], \"choropleth\": [{\"colorbar\": {\"outlinewidth\": 0, \"ticks\": \"\"}, \"type\": \"choropleth\"}], \"contour\": [{\"colorbar\": {\"outlinewidth\": 0, \"ticks\": \"\"}, \"colorscale\": [[0.0, \"#0d0887\"], [0.1111111111111111, \"#46039f\"], [0.2222222222222222, \"#7201a8\"], [0.3333333333333333, \"#9c179e\"], [0.4444444444444444, \"#bd3786\"], [0.5555555555555556, \"#d8576b\"], [0.6666666666666666, \"#ed7953\"], [0.7777777777777778, \"#fb9f3a\"], [0.8888888888888888, \"#fdca26\"], [1.0, \"#f0f921\"]], \"type\": \"contour\"}], \"contourcarpet\": [{\"colorbar\": {\"outlinewidth\": 0, \"ticks\": \"\"}, \"type\": \"contourcarpet\"}], \"heatmap\": [{\"colorbar\": {\"outlinewidth\": 0, \"ticks\": \"\"}, \"colorscale\": [[0.0, \"#0d0887\"], [0.1111111111111111, \"#46039f\"], [0.2222222222222222, \"#7201a8\"], [0.3333333333333333, \"#9c179e\"], [0.4444444444444444, \"#bd3786\"], [0.5555555555555556, \"#d8576b\"], [0.6666666666666666, \"#ed7953\"], [0.7777777777777778, \"#fb9f3a\"], [0.8888888888888888, \"#fdca26\"], [1.0, \"#f0f921\"]], \"type\": \"heatmap\"}], \"heatmapgl\": [{\"colorbar\": {\"outlinewidth\": 0, \"ticks\": \"\"}, \"colorscale\": [[0.0, \"#0d0887\"], [0.1111111111111111, \"#46039f\"], [0.2222222222222222, \"#7201a8\"], [0.3333333333333333, \"#9c179e\"], [0.4444444444444444, \"#bd3786\"], [0.5555555555555556, \"#d8576b\"], [0.6666666666666666, \"#ed7953\"], [0.7777777777777778, \"#fb9f3a\"], [0.8888888888888888, \"#fdca26\"], [1.0, \"#f0f921\"]], \"type\": \"heatmapgl\"}], \"histogram\": [{\"marker\": {\"colorbar\": {\"outlinewidth\": 0, \"ticks\": \"\"}}, \"type\": \"histogram\"}], \"histogram2d\": [{\"colorbar\": {\"outlinewidth\": 0, \"ticks\": \"\"}, \"colorscale\": [[0.0, \"#0d0887\"], [0.1111111111111111, \"#46039f\"], [0.2222222222222222, \"#7201a8\"], [0.3333333333333333, \"#9c179e\"], [0.4444444444444444, \"#bd3786\"], [0.5555555555555556, \"#d8576b\"], [0.6666666666666666, \"#ed7953\"], [0.7777777777777778, \"#fb9f3a\"], [0.8888888888888888, \"#fdca26\"], [1.0, \"#f0f921\"]], \"type\": \"histogram2d\"}], \"histogram2dcontour\": [{\"colorbar\": {\"outlinewidth\": 0, \"ticks\": \"\"}, \"colorscale\": [[0.0, \"#0d0887\"], [0.1111111111111111, \"#46039f\"], [0.2222222222222222, \"#7201a8\"], [0.3333333333333333, \"#9c179e\"], [0.4444444444444444, \"#bd3786\"], [0.5555555555555556, \"#d8576b\"], [0.6666666666666666, \"#ed7953\"], [0.7777777777777778, \"#fb9f3a\"], [0.8888888888888888, \"#fdca26\"], [1.0, \"#f0f921\"]], \"type\": \"histogram2dcontour\"}], \"mesh3d\": [{\"colorbar\": {\"outlinewidth\": 0, \"ticks\": \"\"}, \"type\": \"mesh3d\"}], \"parcoords\": [{\"line\": {\"colorbar\": {\"outlinewidth\": 0, \"ticks\": \"\"}}, \"type\": \"parcoords\"}], \"scatter\": [{\"marker\": {\"colorbar\": {\"outlinewidth\": 0, \"ticks\": \"\"}}, \"type\": \"scatter\"}], \"scatter3d\": [{\"line\": {\"colorbar\": {\"outlinewidth\": 0, \"ticks\": \"\"}}, \"marker\": {\"colorbar\": {\"outlinewidth\": 0, \"ticks\": \"\"}}, \"type\": \"scatter3d\"}], \"scattercarpet\": [{\"marker\": {\"colorbar\": {\"outlinewidth\": 0, \"ticks\": \"\"}}, \"type\": \"scattercarpet\"}], \"scattergeo\": [{\"marker\": {\"colorbar\": {\"outlinewidth\": 0, \"ticks\": \"\"}}, \"type\": \"scattergeo\"}], \"scattergl\": [{\"marker\": {\"colorbar\": {\"outlinewidth\": 0, \"ticks\": \"\"}}, \"type\": \"scattergl\"}], \"scattermapbox\": [{\"marker\": {\"colorbar\": {\"outlinewidth\": 0, \"ticks\": \"\"}}, \"type\": \"scattermapbox\"}], \"scatterpolar\": [{\"marker\": {\"colorbar\": {\"outlinewidth\": 0, \"ticks\": \"\"}}, \"type\": \"scatterpolar\"}], \"scatterpolargl\": [{\"marker\": {\"colorbar\": {\"outlinewidth\": 0, \"ticks\": \"\"}}, \"type\": \"scatterpolargl\"}], \"scatterternary\": [{\"marker\": {\"colorbar\": {\"outlinewidth\": 0, \"ticks\": \"\"}}, \"type\": \"scatterternary\"}], \"surface\": [{\"colorbar\": {\"outlinewidth\": 0, \"ticks\": \"\"}, \"colorscale\": [[0.0, \"#0d0887\"], [0.1111111111111111, \"#46039f\"], [0.2222222222222222, \"#7201a8\"], [0.3333333333333333, \"#9c179e\"], [0.4444444444444444, \"#bd3786\"], [0.5555555555555556, \"#d8576b\"], [0.6666666666666666, \"#ed7953\"], [0.7777777777777778, \"#fb9f3a\"], [0.8888888888888888, \"#fdca26\"], [1.0, \"#f0f921\"]], \"type\": \"surface\"}], \"table\": [{\"cells\": {\"fill\": {\"color\": \"#EBF0F8\"}, \"line\": {\"color\": \"white\"}}, \"header\": {\"fill\": {\"color\": \"#C8D4E3\"}, \"line\": {\"color\": \"white\"}}, \"type\": \"table\"}]}, \"layout\": {\"annotationdefaults\": {\"arrowcolor\": \"#2a3f5f\", \"arrowhead\": 0, \"arrowwidth\": 1}, \"colorscale\": {\"diverging\": [[0, \"#8e0152\"], [0.1, \"#c51b7d\"], [0.2, \"#de77ae\"], [0.3, \"#f1b6da\"], [0.4, \"#fde0ef\"], [0.5, \"#f7f7f7\"], [0.6, \"#e6f5d0\"], [0.7, \"#b8e186\"], [0.8, \"#7fbc41\"], [0.9, \"#4d9221\"], [1, \"#276419\"]], \"sequential\": [[0.0, \"#0d0887\"], [0.1111111111111111, \"#46039f\"], [0.2222222222222222, \"#7201a8\"], [0.3333333333333333, \"#9c179e\"], [0.4444444444444444, \"#bd3786\"], [0.5555555555555556, \"#d8576b\"], [0.6666666666666666, \"#ed7953\"], [0.7777777777777778, \"#fb9f3a\"], [0.8888888888888888, \"#fdca26\"], [1.0, \"#f0f921\"]], \"sequentialminus\": [[0.0, \"#0d0887\"], [0.1111111111111111, \"#46039f\"], [0.2222222222222222, \"#7201a8\"], [0.3333333333333333, \"#9c179e\"], [0.4444444444444444, \"#bd3786\"], [0.5555555555555556, \"#d8576b\"], [0.6666666666666666, \"#ed7953\"], [0.7777777777777778, \"#fb9f3a\"], [0.8888888888888888, \"#fdca26\"], [1.0, \"#f0f921\"]]}, \"colorway\": [\"#636efa\", \"#EF553B\", \"#00cc96\", \"#ab63fa\", \"#FFA15A\", \"#19d3f3\", \"#FF6692\", \"#B6E880\", \"#FF97FF\", \"#FECB52\"], \"font\": {\"color\": \"#2a3f5f\"}, \"geo\": {\"bgcolor\": \"white\", \"lakecolor\": \"white\", \"landcolor\": \"#E5ECF6\", \"showlakes\": true, \"showland\": true, \"subunitcolor\": \"white\"}, \"hoverlabel\": {\"align\": \"left\"}, \"hovermode\": \"closest\", \"mapbox\": {\"style\": \"light\"}, \"paper_bgcolor\": \"white\", \"plot_bgcolor\": \"#E5ECF6\", \"polar\": {\"angularaxis\": {\"gridcolor\": \"white\", \"linecolor\": \"white\", \"ticks\": \"\"}, \"bgcolor\": \"#E5ECF6\", \"radialaxis\": {\"gridcolor\": \"white\", \"linecolor\": \"white\", \"ticks\": \"\"}}, \"scene\": {\"xaxis\": {\"backgroundcolor\": \"#E5ECF6\", \"gridcolor\": \"white\", \"gridwidth\": 2, \"linecolor\": \"white\", \"showbackground\": true, \"ticks\": \"\", \"zerolinecolor\": \"white\"}, \"yaxis\": {\"backgroundcolor\": \"#E5ECF6\", \"gridcolor\": \"white\", \"gridwidth\": 2, \"linecolor\": \"white\", \"showbackground\": true, \"ticks\": \"\", \"zerolinecolor\": \"white\"}, \"zaxis\": {\"backgroundcolor\": \"#E5ECF6\", \"gridcolor\": \"white\", \"gridwidth\": 2, \"linecolor\": \"white\", \"showbackground\": true, \"ticks\": \"\", \"zerolinecolor\": \"white\"}}, \"shapedefaults\": {\"line\": {\"color\": \"#2a3f5f\"}}, \"ternary\": {\"aaxis\": {\"gridcolor\": \"white\", \"linecolor\": \"white\", \"ticks\": \"\"}, \"baxis\": {\"gridcolor\": \"white\", \"linecolor\": \"white\", \"ticks\": \"\"}, \"bgcolor\": \"#E5ECF6\", \"caxis\": {\"gridcolor\": \"white\", \"linecolor\": \"white\", \"ticks\": \"\"}}, \"title\": {\"x\": 0.05}, \"xaxis\": {\"automargin\": true, \"gridcolor\": \"white\", \"linecolor\": \"white\", \"ticks\": \"\", \"zerolinecolor\": \"white\", \"zerolinewidth\": 2}, \"yaxis\": {\"automargin\": true, \"gridcolor\": \"white\", \"linecolor\": \"white\", \"ticks\": \"\", \"zerolinecolor\": \"white\", \"zerolinewidth\": 2}}}, \"xaxis\": {\"anchor\": \"y\", \"domain\": [0.0, 0.98], \"title\": {\"text\": \"Month\"}}, \"yaxis\": {\"anchor\": \"x\", \"domain\": [0.0, 1.0], \"title\": {\"text\": \"Value\"}}},\n",
       "                        {\"responsive\": true}\n",
       "                    ).then(function(){\n",
       "                            \n",
       "var gd = document.getElementById('b4e5f0e6-01eb-46d2-952b-5cfb66fff632');\n",
       "var x = new MutationObserver(function (mutations, observer) {{\n",
       "        var display = window.getComputedStyle(gd).display;\n",
       "        if (!display || display === 'none') {{\n",
       "            console.log([gd, 'removed!']);\n",
       "            Plotly.purge(gd);\n",
       "            observer.disconnect();\n",
       "        }}\n",
       "}});\n",
       "\n",
       "// Listen for the removal of the full notebook cells\n",
       "var notebookContainer = gd.closest('#notebook-container');\n",
       "if (notebookContainer) {{\n",
       "    x.observe(notebookContainer, {childList: true});\n",
       "}}\n",
       "\n",
       "// Listen for the clearing of the current output cell\n",
       "var outputEl = gd.closest('.output');\n",
       "if (outputEl) {{\n",
       "    x.observe(outputEl, {childList: true});\n",
       "}}\n",
       "\n",
       "                        })\n",
       "                };\n",
       "                });\n",
       "            </script>\n",
       "        </div>"
      ]
     },
     "metadata": {},
     "output_type": "display_data"
    }
   ],
   "source": [
    "px.line(data_asia, x=\"Month\", y=\"Value\", line_group='Country')"
   ]
  },
  {
   "cell_type": "code",
   "execution_count": 15,
   "metadata": {
    "ExecuteTime": {
     "end_time": "2019-10-29T03:51:06.920710Z",
     "start_time": "2019-10-29T03:51:00.810206Z"
    }
   },
   "outputs": [],
   "source": [
    "import seaborn as sns"
   ]
  },
  {
   "cell_type": "code",
   "execution_count": 21,
   "metadata": {
    "ExecuteTime": {
     "end_time": "2019-10-29T03:53:13.943287Z",
     "start_time": "2019-10-29T03:53:08.328041Z"
    }
   },
   "outputs": [
    {
     "data": {
      "text/plain": [
       "<matplotlib.axes._subplots.AxesSubplot at 0x2629bdb33c8>"
      ]
     },
     "execution_count": 21,
     "metadata": {},
     "output_type": "execute_result"
    },
    {
     "data": {
      "image/png": "[encoded data removed]",
      "text/plain": [
       "<Figure size 432x288 with 1 Axes>"
      ]
     },
     "metadata": {
      "needs_background": "light"
     },
     "output_type": "display_data"
    }
   ],
   "source": [
    "sns.lineplot(x=\"Month\", y=\"Value\", hue='Country', data=data_asia)"
   ]
  },
  {
   "cell_type": "code",
   "execution_count": 20,
   "metadata": {
    "ExecuteTime": {
     "end_time": "2019-10-29T03:53:04.733692Z",
     "start_time": "2019-10-29T03:53:04.722202Z"
    }
   },
   "outputs": [],
   "source": [
    "data_asia = data_asia[data_asia['Month']!='Year']"
   ]
  },
  {
   "cell_type": "code",
   "execution_count": 22,
   "metadata": {
    "ExecuteTime": {
     "end_time": "2019-10-29T03:55:36.467995Z",
     "start_time": "2019-10-29T03:55:36.445876Z"
    }
   },
   "outputs": [
    {
     "data": {
      "text/html": [
       "<div>\n",
       "<style scoped>\n",
       "    .dataframe tbody tr th:only-of-type {\n",
       "        vertical-align: middle;\n",
       "    }\n",
       "\n",
       "    .dataframe tbody tr th {\n",
       "        vertical-align: top;\n",
       "    }\n",
       "\n",
       "    .dataframe thead th {\n",
       "        text-align: right;\n",
       "    }\n",
       "</style>\n",
       "<table border=\"1\" class=\"dataframe\">\n",
       "  <thead>\n",
       "    <tr style=\"text-align: right;\">\n",
       "      <th></th>\n",
       "      <th>Continent</th>\n",
       "      <th>Country</th>\n",
       "      <th>City</th>\n",
       "      <th>Month</th>\n",
       "      <th>Value</th>\n",
       "    </tr>\n",
       "  </thead>\n",
       "  <tbody>\n",
       "    <tr>\n",
       "      <th>113</th>\n",
       "      <td>Asia</td>\n",
       "      <td>Afghanistan</td>\n",
       "      <td>Kabul</td>\n",
       "      <td>Jan</td>\n",
       "      <td>177.2</td>\n",
       "    </tr>\n",
       "    <tr>\n",
       "      <th>114</th>\n",
       "      <td>Asia</td>\n",
       "      <td>Azerbaijan</td>\n",
       "      <td>Baku</td>\n",
       "      <td>Jan</td>\n",
       "      <td>89.9</td>\n",
       "    </tr>\n",
       "    <tr>\n",
       "      <th>115</th>\n",
       "      <td>Asia</td>\n",
       "      <td>Bangladesh</td>\n",
       "      <td>Dhaka</td>\n",
       "      <td>Jan</td>\n",
       "      <td>279.0</td>\n",
       "    </tr>\n",
       "    <tr>\n",
       "      <th>116</th>\n",
       "      <td>Asia</td>\n",
       "      <td>China</td>\n",
       "      <td>Beijing</td>\n",
       "      <td>Jan</td>\n",
       "      <td>194.1</td>\n",
       "    </tr>\n",
       "    <tr>\n",
       "      <th>117</th>\n",
       "      <td>Asia</td>\n",
       "      <td>China</td>\n",
       "      <td>Chongqing</td>\n",
       "      <td>Jan</td>\n",
       "      <td>20.6</td>\n",
       "    </tr>\n",
       "  </tbody>\n",
       "</table>\n",
       "</div>"
      ],
      "text/plain": [
       "    Continent      Country       City Month  Value\n",
       "113      Asia  Afghanistan      Kabul   Jan  177.2\n",
       "114      Asia   Azerbaijan       Baku   Jan   89.9\n",
       "115      Asia   Bangladesh      Dhaka   Jan  279.0\n",
       "116      Asia        China    Beijing   Jan  194.1\n",
       "117      Asia        China  Chongqing   Jan   20.6"
      ]
     },
     "execution_count": 22,
     "metadata": {},
     "output_type": "execute_result"
    }
   ],
   "source": [
    "data_asia.head()"
   ]
  },
  {
   "cell_type": "code",
   "execution_count": 27,
   "metadata": {
    "ExecuteTime": {
     "end_time": "2019-10-29T04:08:47.930777Z",
     "start_time": "2019-10-29T04:08:47.915458Z"
    }
   },
   "outputs": [
    {
     "data": {
      "text/plain": [
       "array(['Afghanistan', 'Azerbaijan', 'Bangladesh', 'China', 'Hong Kong',\n",
       "       'India', 'Indonesia', 'Iran', 'Iraq', 'Israel', 'Japan',\n",
       "       'Kazakhstan', 'Macau', 'Mongolia', 'North Korea', 'Oman',\n",
       "       'Pakistan', 'Philippines', 'Russia', 'Saudi Arabia', 'Singapore',\n",
       "       'South Korea', 'Taiwan', 'Thailand', 'Turkey',\n",
       "       'United Arab Emirates', 'Uzbekistan', 'Vietnam'], dtype=object)"
      ]
     },
     "execution_count": 27,
     "metadata": {},
     "output_type": "execute_result"
    }
   ],
   "source": [
    "data_asia.Country.unique()"
   ]
  },
  {
   "cell_type": "code",
   "execution_count": 64,
   "metadata": {
    "ExecuteTime": {
     "end_time": "2019-10-29T06:16:03.776829Z",
     "start_time": "2019-10-29T06:16:03.709787Z"
    }
   },
   "outputs": [],
   "source": [
    "data_asean = data_asia[(data_asia[\"Country\"] == \"Indonesia\") | (data_asia[\"Country\"] == \"Thailand\") | (data_asia[\"Country\"] == \"Singapore\") |\n",
    "                      (data_asia[\"Country\"] == \"Phillipines\") | (data_asia[\"Country\"] == \"Vietnam\")]"
   ]
  },
  {
   "cell_type": "code",
   "execution_count": 66,
   "metadata": {
    "ExecuteTime": {
     "end_time": "2019-10-29T06:27:22.665754Z",
     "start_time": "2019-10-29T06:27:22.645807Z"
    }
   },
   "outputs": [
    {
     "data": {
      "text/html": [
       "<div>\n",
       "<style scoped>\n",
       "    .dataframe tbody tr th:only-of-type {\n",
       "        vertical-align: middle;\n",
       "    }\n",
       "\n",
       "    .dataframe tbody tr th {\n",
       "        vertical-align: top;\n",
       "    }\n",
       "\n",
       "    .dataframe thead th {\n",
       "        text-align: right;\n",
       "    }\n",
       "</style>\n",
       "<table border=\"1\" class=\"dataframe\">\n",
       "  <thead>\n",
       "    <tr style=\"text-align: right;\">\n",
       "      <th></th>\n",
       "      <th>Continent</th>\n",
       "      <th>Country</th>\n",
       "      <th>City</th>\n",
       "      <th>Month</th>\n",
       "      <th>Value</th>\n",
       "    </tr>\n",
       "  </thead>\n",
       "  <tbody>\n",
       "    <tr>\n",
       "      <th>126</th>\n",
       "      <td>Asia</td>\n",
       "      <td>Indonesia</td>\n",
       "      <td>Jakarta</td>\n",
       "      <td>Jan</td>\n",
       "      <td>189.1</td>\n",
       "    </tr>\n",
       "    <tr>\n",
       "      <th>149</th>\n",
       "      <td>Asia</td>\n",
       "      <td>Singapore</td>\n",
       "      <td>Singapore</td>\n",
       "      <td>Jan</td>\n",
       "      <td>172.4</td>\n",
       "    </tr>\n",
       "    <tr>\n",
       "      <th>155</th>\n",
       "      <td>Asia</td>\n",
       "      <td>Thailand</td>\n",
       "      <td>Bangkok</td>\n",
       "      <td>Jan</td>\n",
       "      <td>272.5</td>\n",
       "    </tr>\n",
       "    <tr>\n",
       "      <th>156</th>\n",
       "      <td>Asia</td>\n",
       "      <td>Thailand</td>\n",
       "      <td>Chiang Mai</td>\n",
       "      <td>Jan</td>\n",
       "      <td>272.8</td>\n",
       "    </tr>\n",
       "    <tr>\n",
       "      <th>157</th>\n",
       "      <td>Asia</td>\n",
       "      <td>Thailand</td>\n",
       "      <td>Hat Yai</td>\n",
       "      <td>Jan</td>\n",
       "      <td>182.9</td>\n",
       "    </tr>\n",
       "  </tbody>\n",
       "</table>\n",
       "</div>"
      ],
      "text/plain": [
       "    Continent    Country        City Month  Value\n",
       "126      Asia  Indonesia     Jakarta   Jan  189.1\n",
       "149      Asia  Singapore   Singapore   Jan  172.4\n",
       "155      Asia   Thailand     Bangkok   Jan  272.5\n",
       "156      Asia   Thailand  Chiang Mai   Jan  272.8\n",
       "157      Asia   Thailand     Hat Yai   Jan  182.9"
      ]
     },
     "execution_count": 66,
     "metadata": {},
     "output_type": "execute_result"
    }
   ],
   "source": [
    "data_asean.head()"
   ]
  },
  {
   "cell_type": "code",
   "execution_count": 67,
   "metadata": {
    "ExecuteTime": {
     "end_time": "2019-10-29T06:27:27.259561Z",
     "start_time": "2019-10-29T06:27:27.157835Z"
    }
   },
   "outputs": [
    {
     "data": {
      "text/plain": [
       "count    636.000000\n",
       "mean     197.572327\n",
       "std       72.893339\n",
       "min        0.000000\n",
       "25%      148.575000\n",
       "50%      192.250000\n",
       "75%      253.450000\n",
       "max      384.400000\n",
       "Name: Value, dtype: float64"
      ]
     },
     "execution_count": 67,
     "metadata": {},
     "output_type": "execute_result"
    }
   ],
   "source": [
    "data_asia.Value.describe()"
   ]
  },
  {
   "cell_type": "code",
   "execution_count": 32,
   "metadata": {
    "ExecuteTime": {
     "end_time": "2019-10-29T04:15:15.205219Z",
     "start_time": "2019-10-29T04:15:15.199199Z"
    }
   },
   "outputs": [],
   "source": [
    "import numpy as np"
   ]
  },
  {
   "cell_type": "code",
   "execution_count": 68,
   "metadata": {
    "ExecuteTime": {
     "end_time": "2019-10-29T06:27:43.395472Z",
     "start_time": "2019-10-29T06:27:35.603300Z"
    }
   },
   "outputs": [
    {
     "name": "stderr",
     "output_type": "stream",
     "text": [
      "C:\\Users\\User\\Anaconda3\\lib\\site-packages\\ipykernel_launcher.py:3: SettingWithCopyWarning:\n",
      "\n",
      "\n",
      "A value is trying to be set on a copy of a slice from a DataFrame.\n",
      "Try using .loc[row_indexer,col_indexer] = value instead\n",
      "\n",
      "See the caveats in the documentation: http://pandas.pydata.org/pandas-docs/stable/indexing.html#indexing-view-versus-copy\n",
      "\n"
     ]
    }
   ],
   "source": [
    "data_asean['Position'] = np.where(data_asean['Value'] < 148.6, \"Less Warm\", \n",
    "                                        np.where(data_asean['Value'] < 192.25, \"Warm\",\n",
    "                                        np.where(data_asean['Value'] < 253.45, \"More Warm\", \"Very Warm\")))"
   ]
  },
  {
   "cell_type": "code",
   "execution_count": 69,
   "metadata": {
    "ExecuteTime": {
     "end_time": "2019-10-29T06:27:44.693002Z",
     "start_time": "2019-10-29T06:27:44.673055Z"
    }
   },
   "outputs": [
    {
     "data": {
      "text/html": [
       "<div>\n",
       "<style scoped>\n",
       "    .dataframe tbody tr th:only-of-type {\n",
       "        vertical-align: middle;\n",
       "    }\n",
       "\n",
       "    .dataframe tbody tr th {\n",
       "        vertical-align: top;\n",
       "    }\n",
       "\n",
       "    .dataframe thead th {\n",
       "        text-align: right;\n",
       "    }\n",
       "</style>\n",
       "<table border=\"1\" class=\"dataframe\">\n",
       "  <thead>\n",
       "    <tr style=\"text-align: right;\">\n",
       "      <th></th>\n",
       "      <th>Continent</th>\n",
       "      <th>Country</th>\n",
       "      <th>City</th>\n",
       "      <th>Month</th>\n",
       "      <th>Value</th>\n",
       "      <th>Position</th>\n",
       "    </tr>\n",
       "  </thead>\n",
       "  <tbody>\n",
       "    <tr>\n",
       "      <th>126</th>\n",
       "      <td>Asia</td>\n",
       "      <td>Indonesia</td>\n",
       "      <td>Jakarta</td>\n",
       "      <td>Jan</td>\n",
       "      <td>189.1</td>\n",
       "      <td>Warm</td>\n",
       "    </tr>\n",
       "    <tr>\n",
       "      <th>149</th>\n",
       "      <td>Asia</td>\n",
       "      <td>Singapore</td>\n",
       "      <td>Singapore</td>\n",
       "      <td>Jan</td>\n",
       "      <td>172.4</td>\n",
       "      <td>Warm</td>\n",
       "    </tr>\n",
       "    <tr>\n",
       "      <th>155</th>\n",
       "      <td>Asia</td>\n",
       "      <td>Thailand</td>\n",
       "      <td>Bangkok</td>\n",
       "      <td>Jan</td>\n",
       "      <td>272.5</td>\n",
       "      <td>Very Warm</td>\n",
       "    </tr>\n",
       "    <tr>\n",
       "      <th>156</th>\n",
       "      <td>Asia</td>\n",
       "      <td>Thailand</td>\n",
       "      <td>Chiang Mai</td>\n",
       "      <td>Jan</td>\n",
       "      <td>272.8</td>\n",
       "      <td>Very Warm</td>\n",
       "    </tr>\n",
       "    <tr>\n",
       "      <th>157</th>\n",
       "      <td>Asia</td>\n",
       "      <td>Thailand</td>\n",
       "      <td>Hat Yai</td>\n",
       "      <td>Jan</td>\n",
       "      <td>182.9</td>\n",
       "      <td>Warm</td>\n",
       "    </tr>\n",
       "  </tbody>\n",
       "</table>\n",
       "</div>"
      ],
      "text/plain": [
       "    Continent    Country        City Month  Value   Position\n",
       "126      Asia  Indonesia     Jakarta   Jan  189.1       Warm\n",
       "149      Asia  Singapore   Singapore   Jan  172.4       Warm\n",
       "155      Asia   Thailand     Bangkok   Jan  272.5  Very Warm\n",
       "156      Asia   Thailand  Chiang Mai   Jan  272.8  Very Warm\n",
       "157      Asia   Thailand     Hat Yai   Jan  182.9       Warm"
      ]
     },
     "execution_count": 69,
     "metadata": {},
     "output_type": "execute_result"
    }
   ],
   "source": [
    "data_asean.head()"
   ]
  },
  {
   "cell_type": "code",
   "execution_count": 80,
   "metadata": {
    "ExecuteTime": {
     "end_time": "2019-10-29T06:34:14.604122Z",
     "start_time": "2019-10-29T06:34:14.590162Z"
    }
   },
   "outputs": [
    {
     "data": {
      "text/plain": [
       "['#fdca26',\n",
       " '#fb9f3a',\n",
       " '#ed7953',\n",
       " '#d8576b',\n",
       " '#bd3786',\n",
       " '#9c179e',\n",
       " '#7201a8',\n",
       " '#46039f',\n",
       " '#0d0887']"
      ]
     },
     "execution_count": 80,
     "metadata": {},
     "output_type": "execute_result"
    }
   ],
   "source": [
    "px.colors.sequential.Plasma[-2::-1]"
   ]
  },
  {
   "cell_type": "code",
   "execution_count": 122,
   "metadata": {
    "ExecuteTime": {
     "end_time": "2019-10-29T07:11:27.124154Z",
     "start_time": "2019-10-29T07:11:26.587559Z"
    }
   },
   "outputs": [],
   "source": [
    "ax = px.line_polar(data_asean, r=\"Value\", theta='Month' ,color=\"City\",line_group='Country',start_angle=75,\n",
    "              color_discrete_sequence=['#f0f0f0',\n",
    " '#ed7953',\n",
    " '#ed7953',\n",
    " '#ed7953',\n",
    "'#ed7953',\n",
    " '#ed7953',\n",
    "'#ed7953',\n",
    " '#ed7953',\n",
    "                                      '#ed7953',\n",
    "                                      '#ed7953'],\n",
    "                title=\"Visualization of ASEAN Cities Ranked by Annual Sunshine Hours, \",\n",
    "             template=\"plotly_dark\")\n",
    "\n"
   ]
  },
  {
   "cell_type": "code",
   "execution_count": 123,
   "metadata": {
    "ExecuteTime": {
     "end_time": "2019-10-29T07:11:31.638434Z",
     "start_time": "2019-10-29T07:11:31.614542Z"
    }
   },
   "outputs": [
    {
     "data": {
      "application/vnd.plotly.v1+json": {
       "config": {
        "plotlyServerURL": "https://plot.ly"
       },
       "data": [
        {
         "hoverlabel": {
          "namelength": 0
         },
         "hovertemplate": "City=Jakarta<br>Country=Indonesia<br>Value=%{r}<br>Month=%{theta}",
         "legendgroup": "City=Jakarta",
         "line": {
          "color": "#f0f0f0",
          "dash": "solid"
         },
         "mode": "lines",
         "name": "City=Jakarta",
         "r": [
          189.1,
          180.8,
          238.7,
          255,
          260.4,
          255,
          282.1,
          294.5,
          300.7,
          279,
          231,
          217
         ],
         "showlegend": true,
         "subplot": "polar",
         "theta": [
          "Jan",
          "Feb",
          "Mar",
          "Apr",
          "May",
          "Jun",
          "Jul",
          "Aug",
          "Sep",
          "Oct",
          "Nov",
          "Dec"
         ],
         "type": "scatterpolar"
        },
        {
         "hoverlabel": {
          "namelength": 0
         },
         "hovertemplate": "City=Singapore<br>Country=Singapore<br>Value=%{r}<br>Month=%{theta}",
         "legendgroup": "City=Singapore",
         "line": {
          "color": "#ed7953",
          "dash": "solid"
         },
         "mode": "lines",
         "name": "City=Singapore",
         "r": [
          172.4,
          183.2,
          192.7,
          173.6,
          179.8,
          177.7,
          187.9,
          180.6,
          156.2,
          155.2,
          129.6,
          133.5
         ],
         "showlegend": true,
         "subplot": "polar",
         "theta": [
          "Jan",
          "Feb",
          "Mar",
          "Apr",
          "May",
          "Jun",
          "Jul",
          "Aug",
          "Sep",
          "Oct",
          "Nov",
          "Dec"
         ],
         "type": "scatterpolar"
        },
        {
         "hoverlabel": {
          "namelength": 0
         },
         "hovertemplate": "City=Bangkok<br>Country=Thailand<br>Value=%{r}<br>Month=%{theta}",
         "legendgroup": "City=Bangkok",
         "line": {
          "color": "#ed7953",
          "dash": "solid"
         },
         "mode": "lines",
         "name": "City=Bangkok",
         "r": [
          272.5,
          249.9,
          269,
          256.7,
          216.4,
          178,
          171.8,
          160.3,
          154.9,
          198.1,
          234.2,
          262
         ],
         "showlegend": true,
         "subplot": "polar",
         "theta": [
          "Jan",
          "Feb",
          "Mar",
          "Apr",
          "May",
          "Jun",
          "Jul",
          "Aug",
          "Sep",
          "Oct",
          "Nov",
          "Dec"
         ],
         "type": "scatterpolar"
        },
        {
         "hoverlabel": {
          "namelength": 0
         },
         "hovertemplate": "City=Chiang Mai<br>Country=Thailand<br>Value=%{r}<br>Month=%{theta}",
         "legendgroup": "City=Chiang Mai",
         "line": {
          "color": "#ed7953",
          "dash": "solid"
         },
         "mode": "lines",
         "name": "City=Chiang Mai",
         "r": [
          272.8,
          257.1,
          294.5,
          279,
          198.4,
          156,
          120.9,
          117.8,
          144,
          201.5,
          216,
          254.2
         ],
         "showlegend": true,
         "subplot": "polar",
         "theta": [
          "Jan",
          "Feb",
          "Mar",
          "Apr",
          "May",
          "Jun",
          "Jul",
          "Aug",
          "Sep",
          "Oct",
          "Nov",
          "Dec"
         ],
         "type": "scatterpolar"
        },
        {
         "hoverlabel": {
          "namelength": 0
         },
         "hovertemplate": "City=Hat Yai<br>Country=Thailand<br>Value=%{r}<br>Month=%{theta}",
         "legendgroup": "City=Hat Yai",
         "line": {
          "color": "#ed7953",
          "dash": "solid"
         },
         "mode": "lines",
         "name": "City=Hat Yai",
         "r": [
          182.9,
          166.7,
          186,
          144,
          114.7,
          111,
          114.7,
          114.7,
          108,
          111.6,
          105,
          108.5
         ],
         "showlegend": true,
         "subplot": "polar",
         "theta": [
          "Jan",
          "Feb",
          "Mar",
          "Apr",
          "May",
          "Jun",
          "Jul",
          "Aug",
          "Sep",
          "Oct",
          "Nov",
          "Dec"
         ],
         "type": "scatterpolar"
        },
        {
         "hoverlabel": {
          "namelength": 0
         },
         "hovertemplate": "City=Nakhon Ratchasima<br>Country=Thailand<br>Value=%{r}<br>Month=%{theta}",
         "legendgroup": "City=Nakhon Ratchasima",
         "line": {
          "color": "#ed7953",
          "dash": "solid"
         },
         "mode": "lines",
         "name": "City=Nakhon Ratchasima",
         "r": [
          226.3,
          211.9,
          201.5,
          186,
          155,
          114,
          117.8,
          117.8,
          108,
          145.7,
          186,
          226.3
         ],
         "showlegend": true,
         "subplot": "polar",
         "theta": [
          "Jan",
          "Feb",
          "Mar",
          "Apr",
          "May",
          "Jun",
          "Jul",
          "Aug",
          "Sep",
          "Oct",
          "Nov",
          "Dec"
         ],
         "type": "scatterpolar"
        },
        {
         "hoverlabel": {
          "namelength": 0
         },
         "hovertemplate": "City=Da Lat<br>Country=Vietnam<br>Value=%{r}<br>Month=%{theta}",
         "legendgroup": "City=Da Lat",
         "line": {
          "color": "#ed7953",
          "dash": "solid"
         },
         "mode": "lines",
         "name": "City=Da Lat",
         "r": [
          255,
          234,
          255,
          202,
          190,
          147,
          157,
          136,
          133,
          140,
          172,
          215
         ],
         "showlegend": true,
         "subplot": "polar",
         "theta": [
          "Jan",
          "Feb",
          "Mar",
          "Apr",
          "May",
          "Jun",
          "Jul",
          "Aug",
          "Sep",
          "Oct",
          "Nov",
          "Dec"
         ],
         "type": "scatterpolar"
        },
        {
         "hoverlabel": {
          "namelength": 0
         },
         "hovertemplate": "City=Da Nang<br>Country=Vietnam<br>Value=%{r}<br>Month=%{theta}",
         "legendgroup": "City=Da Nang",
         "line": {
          "color": "#ed7953",
          "dash": "solid"
         },
         "mode": "lines",
         "name": "City=Da Nang",
         "r": [
          139,
          145,
          188,
          209,
          246,
          239,
          253,
          218,
          176,
          145,
          120,
          103
         ],
         "showlegend": true,
         "subplot": "polar",
         "theta": [
          "Jan",
          "Feb",
          "Mar",
          "Apr",
          "May",
          "Jun",
          "Jul",
          "Aug",
          "Sep",
          "Oct",
          "Nov",
          "Dec"
         ],
         "type": "scatterpolar"
        },
        {
         "hoverlabel": {
          "namelength": 0
         },
         "hovertemplate": "City=Hanoi<br>Country=Vietnam<br>Value=%{r}<br>Month=%{theta}",
         "legendgroup": "City=Hanoi",
         "line": {
          "color": "#ed7953",
          "dash": "solid"
         },
         "mode": "lines",
         "name": "City=Hanoi",
         "r": [
          74,
          47,
          47,
          90,
          183,
          172,
          195,
          174,
          176,
          167,
          137,
          124
         ],
         "showlegend": true,
         "subplot": "polar",
         "theta": [
          "Jan",
          "Feb",
          "Mar",
          "Apr",
          "May",
          "Jun",
          "Jul",
          "Aug",
          "Sep",
          "Oct",
          "Nov",
          "Dec"
         ],
         "type": "scatterpolar"
        },
        {
         "hoverlabel": {
          "namelength": 0
         },
         "hovertemplate": "City=Ho Chi Minh City<br>Country=Vietnam<br>Value=%{r}<br>Month=%{theta}",
         "legendgroup": "City=Ho Chi Minh City",
         "line": {
          "color": "#ed7953",
          "dash": "solid"
         },
         "mode": "lines",
         "name": "City=Ho Chi Minh City",
         "r": [
          245,
          246,
          272,
          239,
          195,
          171,
          180,
          172,
          162,
          182,
          200,
          226
         ],
         "showlegend": true,
         "subplot": "polar",
         "theta": [
          "Jan",
          "Feb",
          "Mar",
          "Apr",
          "May",
          "Jun",
          "Jul",
          "Aug",
          "Sep",
          "Oct",
          "Nov",
          "Dec"
         ],
         "type": "scatterpolar"
        }
       ],
       "layout": {
        "height": 600,
        "legend": {
         "tracegroupgap": 0
        },
        "polar": {
         "angularaxis": {
          "direction": "clockwise",
          "rotation": 75
         },
         "domain": {
          "x": [
           0,
           0.98
          ],
          "y": [
           0,
           1
          ]
         }
        },
        "template": {
         "data": {
          "bar": [
           {
            "error_x": {
             "color": "#f2f5fa"
            },
            "error_y": {
             "color": "#f2f5fa"
            },
            "marker": {
             "line": {
              "color": "rgb(17,17,17)",
              "width": 0.5
             }
            },
            "type": "bar"
           }
          ],
          "barpolar": [
           {
            "marker": {
             "line": {
              "color": "rgb(17,17,17)",
              "width": 0.5
             }
            },
            "type": "barpolar"
           }
          ],
          "carpet": [
           {
            "aaxis": {
             "endlinecolor": "#A2B1C6",
             "gridcolor": "#506784",
             "linecolor": "#506784",
             "minorgridcolor": "#506784",
             "startlinecolor": "#A2B1C6"
            },
            "baxis": {
             "endlinecolor": "#A2B1C6",
             "gridcolor": "#506784",
             "linecolor": "#506784",
             "minorgridcolor": "#506784",
             "startlinecolor": "#A2B1C6"
            },
            "type": "carpet"
           }
          ],
          "choropleth": [
           {
            "colorbar": {
             "outlinewidth": 0,
             "ticks": ""
            },
            "type": "choropleth"
           }
          ],
          "contour": [
           {
            "colorbar": {
             "outlinewidth": 0,
             "ticks": ""
            },
            "colorscale": [
             [
              0,
              "#0d0887"
             ],
             [
              0.1111111111111111,
              "#46039f"
             ],
             [
              0.2222222222222222,
              "#7201a8"
             ],
             [
              0.3333333333333333,
              "#9c179e"
             ],
             [
              0.4444444444444444,
              "#bd3786"
             ],
             [
              0.5555555555555556,
              "#d8576b"
             ],
             [
              0.6666666666666666,
              "#ed7953"
             ],
             [
              0.7777777777777778,
              "#fb9f3a"
             ],
             [
              0.8888888888888888,
              "#fdca26"
             ],
             [
              1,
              "#f0f921"
             ]
            ],
            "type": "contour"
           }
          ],
          "contourcarpet": [
           {
            "colorbar": {
             "outlinewidth": 0,
             "ticks": ""
            },
            "type": "contourcarpet"
           }
          ],
          "heatmap": [
           {
            "colorbar": {
             "outlinewidth": 0,
             "ticks": ""
            },
            "colorscale": [
             [
              0,
              "#0d0887"
             ],
             [
              0.1111111111111111,
              "#46039f"
             ],
             [
              0.2222222222222222,
              "#7201a8"
             ],
             [
              0.3333333333333333,
              "#9c179e"
             ],
             [
              0.4444444444444444,
              "#bd3786"
             ],
             [
              0.5555555555555556,
              "#d8576b"
             ],
             [
              0.6666666666666666,
              "#ed7953"
             ],
             [
              0.7777777777777778,
              "#fb9f3a"
             ],
             [
              0.8888888888888888,
              "#fdca26"
             ],
             [
              1,
              "#f0f921"
             ]
            ],
            "type": "heatmap"
           }
          ],
          "heatmapgl": [
           {
            "colorbar": {
             "outlinewidth": 0,
             "ticks": ""
            },
            "colorscale": [
             [
              0,
              "#0d0887"
             ],
             [
              0.1111111111111111,
              "#46039f"
             ],
             [
              0.2222222222222222,
              "#7201a8"
             ],
             [
              0.3333333333333333,
              "#9c179e"
             ],
             [
              0.4444444444444444,
              "#bd3786"
             ],
             [
              0.5555555555555556,
              "#d8576b"
             ],
             [
              0.6666666666666666,
              "#ed7953"
             ],
             [
              0.7777777777777778,
              "#fb9f3a"
             ],
             [
              0.8888888888888888,
              "#fdca26"
             ],
             [
              1,
              "#f0f921"
             ]
            ],
            "type": "heatmapgl"
           }
          ],
          "histogram": [
           {
            "marker": {
             "colorbar": {
              "outlinewidth": 0,
              "ticks": ""
             }
            },
            "type": "histogram"
           }
          ],
          "histogram2d": [
           {
            "colorbar": {
             "outlinewidth": 0,
             "ticks": ""
            },
            "colorscale": [
             [
              0,
              "#0d0887"
             ],
             [
              0.1111111111111111,
              "#46039f"
             ],
             [
              0.2222222222222222,
              "#7201a8"
             ],
             [
              0.3333333333333333,
              "#9c179e"
             ],
             [
              0.4444444444444444,
              "#bd3786"
             ],
             [
              0.5555555555555556,
              "#d8576b"
             ],
             [
              0.6666666666666666,
              "#ed7953"
             ],
             [
              0.7777777777777778,
              "#fb9f3a"
             ],
             [
              0.8888888888888888,
              "#fdca26"
             ],
             [
              1,
              "#f0f921"
             ]
            ],
            "type": "histogram2d"
           }
          ],
          "histogram2dcontour": [
           {
            "colorbar": {
             "outlinewidth": 0,
             "ticks": ""
            },
            "colorscale": [
             [
              0,
              "#0d0887"
             ],
             [
              0.1111111111111111,
              "#46039f"
             ],
             [
              0.2222222222222222,
              "#7201a8"
             ],
             [
              0.3333333333333333,
              "#9c179e"
             ],
             [
              0.4444444444444444,
              "#bd3786"
             ],
             [
              0.5555555555555556,
              "#d8576b"
             ],
             [
              0.6666666666666666,
              "#ed7953"
             ],
             [
              0.7777777777777778,
              "#fb9f3a"
             ],
             [
              0.8888888888888888,
              "#fdca26"
             ],
             [
              1,
              "#f0f921"
             ]
            ],
            "type": "histogram2dcontour"
           }
          ],
          "mesh3d": [
           {
            "colorbar": {
             "outlinewidth": 0,
             "ticks": ""
            },
            "type": "mesh3d"
           }
          ],
          "parcoords": [
           {
            "line": {
             "colorbar": {
              "outlinewidth": 0,
              "ticks": ""
             }
            },
            "type": "parcoords"
           }
          ],
          "scatter": [
           {
            "marker": {
             "line": {
              "color": "#283442"
             }
            },
            "type": "scatter"
           }
          ],
          "scatter3d": [
           {
            "line": {
             "colorbar": {
              "outlinewidth": 0,
              "ticks": ""
             }
            },
            "marker": {
             "colorbar": {
              "outlinewidth": 0,
              "ticks": ""
             }
            },
            "type": "scatter3d"
           }
          ],
          "scattercarpet": [
           {
            "marker": {
             "colorbar": {
              "outlinewidth": 0,
              "ticks": ""
             }
            },
            "type": "scattercarpet"
           }
          ],
          "scattergeo": [
           {
            "marker": {
             "colorbar": {
              "outlinewidth": 0,
              "ticks": ""
             }
            },
            "type": "scattergeo"
           }
          ],
          "scattergl": [
           {
            "marker": {
             "line": {
              "color": "#283442"
             }
            },
            "type": "scattergl"
           }
          ],
          "scattermapbox": [
           {
            "marker": {
             "colorbar": {
              "outlinewidth": 0,
              "ticks": ""
             }
            },
            "type": "scattermapbox"
           }
          ],
          "scatterpolar": [
           {
            "marker": {
             "colorbar": {
              "outlinewidth": 0,
              "ticks": ""
             }
            },
            "type": "scatterpolar"
           }
          ],
          "scatterpolargl": [
           {
            "marker": {
             "colorbar": {
              "outlinewidth": 0,
              "ticks": ""
             }
            },
            "type": "scatterpolargl"
           }
          ],
          "scatterternary": [
           {
            "marker": {
             "colorbar": {
              "outlinewidth": 0,
              "ticks": ""
             }
            },
            "type": "scatterternary"
           }
          ],
          "surface": [
           {
            "colorbar": {
             "outlinewidth": 0,
             "ticks": ""
            },
            "colorscale": [
             [
              0,
              "#0d0887"
             ],
             [
              0.1111111111111111,
              "#46039f"
             ],
             [
              0.2222222222222222,
              "#7201a8"
             ],
             [
              0.3333333333333333,
              "#9c179e"
             ],
             [
              0.4444444444444444,
              "#bd3786"
             ],
             [
              0.5555555555555556,
              "#d8576b"
             ],
             [
              0.6666666666666666,
              "#ed7953"
             ],
             [
              0.7777777777777778,
              "#fb9f3a"
             ],
             [
              0.8888888888888888,
              "#fdca26"
             ],
             [
              1,
              "#f0f921"
             ]
            ],
            "type": "surface"
           }
          ],
          "table": [
           {
            "cells": {
             "fill": {
              "color": "#506784"
             },
             "line": {
              "color": "rgb(17,17,17)"
             }
            },
            "header": {
             "fill": {
              "color": "#2a3f5f"
             },
             "line": {
              "color": "rgb(17,17,17)"
             }
            },
            "type": "table"
           }
          ]
         },
         "layout": {
          "annotationdefaults": {
           "arrowcolor": "#f2f5fa",
           "arrowhead": 0,
           "arrowwidth": 1
          },
          "colorscale": {
           "diverging": [
            [
             0,
             "#8e0152"
            ],
            [
             0.1,
             "#c51b7d"
            ],
            [
             0.2,
             "#de77ae"
            ],
            [
             0.3,
             "#f1b6da"
            ],
            [
             0.4,
             "#fde0ef"
            ],
            [
             0.5,
             "#f7f7f7"
            ],
            [
             0.6,
             "#e6f5d0"
            ],
            [
             0.7,
             "#b8e186"
            ],
            [
             0.8,
             "#7fbc41"
            ],
            [
             0.9,
             "#4d9221"
            ],
            [
             1,
             "#276419"
            ]
           ],
           "sequential": [
            [
             0,
             "#0d0887"
            ],
            [
             0.1111111111111111,
             "#46039f"
            ],
            [
             0.2222222222222222,
             "#7201a8"
            ],
            [
             0.3333333333333333,
             "#9c179e"
            ],
            [
             0.4444444444444444,
             "#bd3786"
            ],
            [
             0.5555555555555556,
             "#d8576b"
            ],
            [
             0.6666666666666666,
             "#ed7953"
            ],
            [
             0.7777777777777778,
             "#fb9f3a"
            ],
            [
             0.8888888888888888,
             "#fdca26"
            ],
            [
             1,
             "#f0f921"
            ]
           ],
           "sequentialminus": [
            [
             0,
             "#0d0887"
            ],
            [
             0.1111111111111111,
             "#46039f"
            ],
            [
             0.2222222222222222,
             "#7201a8"
            ],
            [
             0.3333333333333333,
             "#9c179e"
            ],
            [
             0.4444444444444444,
             "#bd3786"
            ],
            [
             0.5555555555555556,
             "#d8576b"
            ],
            [
             0.6666666666666666,
             "#ed7953"
            ],
            [
             0.7777777777777778,
             "#fb9f3a"
            ],
            [
             0.8888888888888888,
             "#fdca26"
            ],
            [
             1,
             "#f0f921"
            ]
           ]
          },
          "colorway": [
           "#636efa",
           "#EF553B",
           "#00cc96",
           "#ab63fa",
           "#FFA15A",
           "#19d3f3",
           "#FF6692",
           "#B6E880",
           "#FF97FF",
           "#FECB52"
          ],
          "font": {
           "color": "#f2f5fa"
          },
          "geo": {
           "bgcolor": "rgb(17,17,17)",
           "lakecolor": "rgb(17,17,17)",
           "landcolor": "rgb(17,17,17)",
           "showlakes": true,
           "showland": true,
           "subunitcolor": "#506784"
          },
          "hoverlabel": {
           "align": "left"
          },
          "hovermode": "closest",
          "mapbox": {
           "style": "dark"
          },
          "paper_bgcolor": "rgb(17,17,17)",
          "plot_bgcolor": "rgb(17,17,17)",
          "polar": {
           "angularaxis": {
            "gridcolor": "#506784",
            "linecolor": "#506784",
            "ticks": ""
           },
           "bgcolor": "rgb(17,17,17)",
           "radialaxis": {
            "gridcolor": "#506784",
            "linecolor": "#506784",
            "ticks": ""
           }
          },
          "scene": {
           "xaxis": {
            "backgroundcolor": "rgb(17,17,17)",
            "gridcolor": "#506784",
            "gridwidth": 2,
            "linecolor": "#506784",
            "showbackground": true,
            "ticks": "",
            "zerolinecolor": "#C8D4E3"
           },
           "yaxis": {
            "backgroundcolor": "rgb(17,17,17)",
            "gridcolor": "#506784",
            "gridwidth": 2,
            "linecolor": "#506784",
            "showbackground": true,
            "ticks": "",
            "zerolinecolor": "#C8D4E3"
           },
           "zaxis": {
            "backgroundcolor": "rgb(17,17,17)",
            "gridcolor": "#506784",
            "gridwidth": 2,
            "linecolor": "#506784",
            "showbackground": true,
            "ticks": "",
            "zerolinecolor": "#C8D4E3"
           }
          },
          "shapedefaults": {
           "line": {
            "color": "#f2f5fa"
           }
          },
          "sliderdefaults": {
           "bgcolor": "#C8D4E3",
           "bordercolor": "rgb(17,17,17)",
           "borderwidth": 1,
           "tickwidth": 0
          },
          "ternary": {
           "aaxis": {
            "gridcolor": "#506784",
            "linecolor": "#506784",
            "ticks": ""
           },
           "baxis": {
            "gridcolor": "#506784",
            "linecolor": "#506784",
            "ticks": ""
           },
           "bgcolor": "rgb(17,17,17)",
           "caxis": {
            "gridcolor": "#506784",
            "linecolor": "#506784",
            "ticks": ""
           }
          },
          "title": {
           "x": 0.05
          },
          "updatemenudefaults": {
           "bgcolor": "#506784",
           "borderwidth": 0
          },
          "xaxis": {
           "automargin": true,
           "gridcolor": "#283442",
           "linecolor": "#506784",
           "ticks": "",
           "zerolinecolor": "#283442",
           "zerolinewidth": 2
          },
          "yaxis": {
           "automargin": true,
           "gridcolor": "#283442",
           "linecolor": "#506784",
           "ticks": "",
           "zerolinecolor": "#283442",
           "zerolinewidth": 2
          }
         }
        },
        "title": {
         "text": "Visualization of ASEAN Cities Ranked by Annual Sunshine Hours Created by: Muhammad Sifa'ul Rizky"
        }
       }
      },
      "text/html": [
       "<div>\n",
       "        \n",
       "        \n",
       "            <div id=\"51bf52e9-66b8-443f-aacf-4f2681503c61\" class=\"plotly-graph-div\" style=\"height:600px; width:100%;\"></div>\n",
       "            <script type=\"text/javascript\">\n",
       "                require([\"plotly\"], function(Plotly) {\n",
       "                    window.PLOTLYENV=window.PLOTLYENV || {};\n",
       "                    \n",
       "                if (document.getElementById(\"51bf52e9-66b8-443f-aacf-4f2681503c61\")) {\n",
       "                    Plotly.newPlot(\n",
       "                        '51bf52e9-66b8-443f-aacf-4f2681503c61',\n",
       "                        [{\"hoverlabel\": {\"namelength\": 0}, \"hovertemplate\": \"City=Jakarta<br>Country=Indonesia<br>Value=%{r}<br>Month=%{theta}\", \"legendgroup\": \"City=Jakarta\", \"line\": {\"color\": \"#f0f0f0\", \"dash\": \"solid\"}, \"mode\": \"lines\", \"name\": \"City=Jakarta\", \"r\": [189.1, 180.8, 238.7, 255.0, 260.4, 255.0, 282.1, 294.5, 300.7, 279.0, 231.0, 217.0], \"showlegend\": true, \"subplot\": \"polar\", \"theta\": [\"Jan\", \"Feb\", \"Mar\", \"Apr\", \"May\", \"Jun\", \"Jul\", \"Aug\", \"Sep\", \"Oct\", \"Nov\", \"Dec\"], \"type\": \"scatterpolar\"}, {\"hoverlabel\": {\"namelength\": 0}, \"hovertemplate\": \"City=Singapore<br>Country=Singapore<br>Value=%{r}<br>Month=%{theta}\", \"legendgroup\": \"City=Singapore\", \"line\": {\"color\": \"#ed7953\", \"dash\": \"solid\"}, \"mode\": \"lines\", \"name\": \"City=Singapore\", \"r\": [172.4, 183.2, 192.7, 173.6, 179.8, 177.7, 187.9, 180.6, 156.2, 155.2, 129.6, 133.5], \"showlegend\": true, \"subplot\": \"polar\", \"theta\": [\"Jan\", \"Feb\", \"Mar\", \"Apr\", \"May\", \"Jun\", \"Jul\", \"Aug\", \"Sep\", \"Oct\", \"Nov\", \"Dec\"], \"type\": \"scatterpolar\"}, {\"hoverlabel\": {\"namelength\": 0}, \"hovertemplate\": \"City=Bangkok<br>Country=Thailand<br>Value=%{r}<br>Month=%{theta}\", \"legendgroup\": \"City=Bangkok\", \"line\": {\"color\": \"#ed7953\", \"dash\": \"solid\"}, \"mode\": \"lines\", \"name\": \"City=Bangkok\", \"r\": [272.5, 249.9, 269.0, 256.7, 216.4, 178.0, 171.8, 160.3, 154.9, 198.1, 234.2, 262.0], \"showlegend\": true, \"subplot\": \"polar\", \"theta\": [\"Jan\", \"Feb\", \"Mar\", \"Apr\", \"May\", \"Jun\", \"Jul\", \"Aug\", \"Sep\", \"Oct\", \"Nov\", \"Dec\"], \"type\": \"scatterpolar\"}, {\"hoverlabel\": {\"namelength\": 0}, \"hovertemplate\": \"City=Chiang Mai<br>Country=Thailand<br>Value=%{r}<br>Month=%{theta}\", \"legendgroup\": \"City=Chiang Mai\", \"line\": {\"color\": \"#ed7953\", \"dash\": \"solid\"}, \"mode\": \"lines\", \"name\": \"City=Chiang Mai\", \"r\": [272.8, 257.1, 294.5, 279.0, 198.4, 156.0, 120.9, 117.8, 144.0, 201.5, 216.0, 254.2], \"showlegend\": true, \"subplot\": \"polar\", \"theta\": [\"Jan\", \"Feb\", \"Mar\", \"Apr\", \"May\", \"Jun\", \"Jul\", \"Aug\", \"Sep\", \"Oct\", \"Nov\", \"Dec\"], \"type\": \"scatterpolar\"}, {\"hoverlabel\": {\"namelength\": 0}, \"hovertemplate\": \"City=Hat Yai<br>Country=Thailand<br>Value=%{r}<br>Month=%{theta}\", \"legendgroup\": \"City=Hat Yai\", \"line\": {\"color\": \"#ed7953\", \"dash\": \"solid\"}, \"mode\": \"lines\", \"name\": \"City=Hat Yai\", \"r\": [182.9, 166.7, 186.0, 144.0, 114.7, 111.0, 114.7, 114.7, 108.0, 111.6, 105.0, 108.5], \"showlegend\": true, \"subplot\": \"polar\", \"theta\": [\"Jan\", \"Feb\", \"Mar\", \"Apr\", \"May\", \"Jun\", \"Jul\", \"Aug\", \"Sep\", \"Oct\", \"Nov\", \"Dec\"], \"type\": \"scatterpolar\"}, {\"hoverlabel\": {\"namelength\": 0}, \"hovertemplate\": \"City=Nakhon Ratchasima<br>Country=Thailand<br>Value=%{r}<br>Month=%{theta}\", \"legendgroup\": \"City=Nakhon Ratchasima\", \"line\": {\"color\": \"#ed7953\", \"dash\": \"solid\"}, \"mode\": \"lines\", \"name\": \"City=Nakhon Ratchasima\", \"r\": [226.3, 211.9, 201.5, 186.0, 155.0, 114.0, 117.8, 117.8, 108.0, 145.7, 186.0, 226.3], \"showlegend\": true, \"subplot\": \"polar\", \"theta\": [\"Jan\", \"Feb\", \"Mar\", \"Apr\", \"May\", \"Jun\", \"Jul\", \"Aug\", \"Sep\", \"Oct\", \"Nov\", \"Dec\"], \"type\": \"scatterpolar\"}, {\"hoverlabel\": {\"namelength\": 0}, \"hovertemplate\": \"City=Da Lat<br>Country=Vietnam<br>Value=%{r}<br>Month=%{theta}\", \"legendgroup\": \"City=Da Lat\", \"line\": {\"color\": \"#ed7953\", \"dash\": \"solid\"}, \"mode\": \"lines\", \"name\": \"City=Da Lat\", \"r\": [255.0, 234.0, 255.0, 202.0, 190.0, 147.0, 157.0, 136.0, 133.0, 140.0, 172.0, 215.0], \"showlegend\": true, \"subplot\": \"polar\", \"theta\": [\"Jan\", \"Feb\", \"Mar\", \"Apr\", \"May\", \"Jun\", \"Jul\", \"Aug\", \"Sep\", \"Oct\", \"Nov\", \"Dec\"], \"type\": \"scatterpolar\"}, {\"hoverlabel\": {\"namelength\": 0}, \"hovertemplate\": \"City=Da Nang<br>Country=Vietnam<br>Value=%{r}<br>Month=%{theta}\", \"legendgroup\": \"City=Da Nang\", \"line\": {\"color\": \"#ed7953\", \"dash\": \"solid\"}, \"mode\": \"lines\", \"name\": \"City=Da Nang\", \"r\": [139.0, 145.0, 188.0, 209.0, 246.0, 239.0, 253.0, 218.0, 176.0, 145.0, 120.0, 103.0], \"showlegend\": true, \"subplot\": \"polar\", \"theta\": [\"Jan\", \"Feb\", \"Mar\", \"Apr\", \"May\", \"Jun\", \"Jul\", \"Aug\", \"Sep\", \"Oct\", \"Nov\", \"Dec\"], \"type\": \"scatterpolar\"}, {\"hoverlabel\": {\"namelength\": 0}, \"hovertemplate\": \"City=Hanoi<br>Country=Vietnam<br>Value=%{r}<br>Month=%{theta}\", \"legendgroup\": \"City=Hanoi\", \"line\": {\"color\": \"#ed7953\", \"dash\": \"solid\"}, \"mode\": \"lines\", \"name\": \"City=Hanoi\", \"r\": [74.0, 47.0, 47.0, 90.0, 183.0, 172.0, 195.0, 174.0, 176.0, 167.0, 137.0, 124.0], \"showlegend\": true, \"subplot\": \"polar\", \"theta\": [\"Jan\", \"Feb\", \"Mar\", \"Apr\", \"May\", \"Jun\", \"Jul\", \"Aug\", \"Sep\", \"Oct\", \"Nov\", \"Dec\"], \"type\": \"scatterpolar\"}, {\"hoverlabel\": {\"namelength\": 0}, \"hovertemplate\": \"City=Ho Chi Minh City<br>Country=Vietnam<br>Value=%{r}<br>Month=%{theta}\", \"legendgroup\": \"City=Ho Chi Minh City\", \"line\": {\"color\": \"#ed7953\", \"dash\": \"solid\"}, \"mode\": \"lines\", \"name\": \"City=Ho Chi Minh City\", \"r\": [245.0, 246.0, 272.0, 239.0, 195.0, 171.0, 180.0, 172.0, 162.0, 182.0, 200.0, 226.0], \"showlegend\": true, \"subplot\": \"polar\", \"theta\": [\"Jan\", \"Feb\", \"Mar\", \"Apr\", \"May\", \"Jun\", \"Jul\", \"Aug\", \"Sep\", \"Oct\", \"Nov\", \"Dec\"], \"type\": \"scatterpolar\"}],\n",
       "                        {\"height\": 600, \"legend\": {\"tracegroupgap\": 0}, \"polar\": {\"angularaxis\": {\"direction\": \"clockwise\", \"rotation\": 75}, \"domain\": {\"x\": [0.0, 0.98], \"y\": [0.0, 1.0]}}, \"template\": {\"data\": {\"bar\": [{\"error_x\": {\"color\": \"#f2f5fa\"}, \"error_y\": {\"color\": \"#f2f5fa\"}, \"marker\": {\"line\": {\"color\": \"rgb(17,17,17)\", \"width\": 0.5}}, \"type\": \"bar\"}], \"barpolar\": [{\"marker\": {\"line\": {\"color\": \"rgb(17,17,17)\", \"width\": 0.5}}, \"type\": \"barpolar\"}], \"carpet\": [{\"aaxis\": {\"endlinecolor\": \"#A2B1C6\", \"gridcolor\": \"#506784\", \"linecolor\": \"#506784\", \"minorgridcolor\": \"#506784\", \"startlinecolor\": \"#A2B1C6\"}, \"baxis\": {\"endlinecolor\": \"#A2B1C6\", \"gridcolor\": \"#506784\", \"linecolor\": \"#506784\", \"minorgridcolor\": \"#506784\", \"startlinecolor\": \"#A2B1C6\"}, \"type\": \"carpet\"}], \"choropleth\": [{\"colorbar\": {\"outlinewidth\": 0, \"ticks\": \"\"}, \"type\": \"choropleth\"}], \"contour\": [{\"colorbar\": {\"outlinewidth\": 0, \"ticks\": \"\"}, \"colorscale\": [[0.0, \"#0d0887\"], [0.1111111111111111, \"#46039f\"], [0.2222222222222222, \"#7201a8\"], [0.3333333333333333, \"#9c179e\"], [0.4444444444444444, \"#bd3786\"], [0.5555555555555556, \"#d8576b\"], [0.6666666666666666, \"#ed7953\"], [0.7777777777777778, \"#fb9f3a\"], [0.8888888888888888, \"#fdca26\"], [1.0, \"#f0f921\"]], \"type\": \"contour\"}], \"contourcarpet\": [{\"colorbar\": {\"outlinewidth\": 0, \"ticks\": \"\"}, \"type\": \"contourcarpet\"}], \"heatmap\": [{\"colorbar\": {\"outlinewidth\": 0, \"ticks\": \"\"}, \"colorscale\": [[0.0, \"#0d0887\"], [0.1111111111111111, \"#46039f\"], [0.2222222222222222, \"#7201a8\"], [0.3333333333333333, \"#9c179e\"], [0.4444444444444444, \"#bd3786\"], [0.5555555555555556, \"#d8576b\"], [0.6666666666666666, \"#ed7953\"], [0.7777777777777778, \"#fb9f3a\"], [0.8888888888888888, \"#fdca26\"], [1.0, \"#f0f921\"]], \"type\": \"heatmap\"}], \"heatmapgl\": [{\"colorbar\": {\"outlinewidth\": 0, \"ticks\": \"\"}, \"colorscale\": [[0.0, \"#0d0887\"], [0.1111111111111111, \"#46039f\"], [0.2222222222222222, \"#7201a8\"], [0.3333333333333333, \"#9c179e\"], [0.4444444444444444, \"#bd3786\"], [0.5555555555555556, \"#d8576b\"], [0.6666666666666666, \"#ed7953\"], [0.7777777777777778, \"#fb9f3a\"], [0.8888888888888888, \"#fdca26\"], [1.0, \"#f0f921\"]], \"type\": \"heatmapgl\"}], \"histogram\": [{\"marker\": {\"colorbar\": {\"outlinewidth\": 0, \"ticks\": \"\"}}, \"type\": \"histogram\"}], \"histogram2d\": [{\"colorbar\": {\"outlinewidth\": 0, \"ticks\": \"\"}, \"colorscale\": [[0.0, \"#0d0887\"], [0.1111111111111111, \"#46039f\"], [0.2222222222222222, \"#7201a8\"], [0.3333333333333333, \"#9c179e\"], [0.4444444444444444, \"#bd3786\"], [0.5555555555555556, \"#d8576b\"], [0.6666666666666666, \"#ed7953\"], [0.7777777777777778, \"#fb9f3a\"], [0.8888888888888888, \"#fdca26\"], [1.0, \"#f0f921\"]], \"type\": \"histogram2d\"}], \"histogram2dcontour\": [{\"colorbar\": {\"outlinewidth\": 0, \"ticks\": \"\"}, \"colorscale\": [[0.0, \"#0d0887\"], [0.1111111111111111, \"#46039f\"], [0.2222222222222222, \"#7201a8\"], [0.3333333333333333, \"#9c179e\"], [0.4444444444444444, \"#bd3786\"], [0.5555555555555556, \"#d8576b\"], [0.6666666666666666, \"#ed7953\"], [0.7777777777777778, \"#fb9f3a\"], [0.8888888888888888, \"#fdca26\"], [1.0, \"#f0f921\"]], \"type\": \"histogram2dcontour\"}], \"mesh3d\": [{\"colorbar\": {\"outlinewidth\": 0, \"ticks\": \"\"}, \"type\": \"mesh3d\"}], \"parcoords\": [{\"line\": {\"colorbar\": {\"outlinewidth\": 0, \"ticks\": \"\"}}, \"type\": \"parcoords\"}], \"scatter\": [{\"marker\": {\"line\": {\"color\": \"#283442\"}}, \"type\": \"scatter\"}], \"scatter3d\": [{\"line\": {\"colorbar\": {\"outlinewidth\": 0, \"ticks\": \"\"}}, \"marker\": {\"colorbar\": {\"outlinewidth\": 0, \"ticks\": \"\"}}, \"type\": \"scatter3d\"}], \"scattercarpet\": [{\"marker\": {\"colorbar\": {\"outlinewidth\": 0, \"ticks\": \"\"}}, \"type\": \"scattercarpet\"}], \"scattergeo\": [{\"marker\": {\"colorbar\": {\"outlinewidth\": 0, \"ticks\": \"\"}}, \"type\": \"scattergeo\"}], \"scattergl\": [{\"marker\": {\"line\": {\"color\": \"#283442\"}}, \"type\": \"scattergl\"}], \"scattermapbox\": [{\"marker\": {\"colorbar\": {\"outlinewidth\": 0, \"ticks\": \"\"}}, \"type\": \"scattermapbox\"}], \"scatterpolar\": [{\"marker\": {\"colorbar\": {\"outlinewidth\": 0, \"ticks\": \"\"}}, \"type\": \"scatterpolar\"}], \"scatterpolargl\": [{\"marker\": {\"colorbar\": {\"outlinewidth\": 0, \"ticks\": \"\"}}, \"type\": \"scatterpolargl\"}], \"scatterternary\": [{\"marker\": {\"colorbar\": {\"outlinewidth\": 0, \"ticks\": \"\"}}, \"type\": \"scatterternary\"}], \"surface\": [{\"colorbar\": {\"outlinewidth\": 0, \"ticks\": \"\"}, \"colorscale\": [[0.0, \"#0d0887\"], [0.1111111111111111, \"#46039f\"], [0.2222222222222222, \"#7201a8\"], [0.3333333333333333, \"#9c179e\"], [0.4444444444444444, \"#bd3786\"], [0.5555555555555556, \"#d8576b\"], [0.6666666666666666, \"#ed7953\"], [0.7777777777777778, \"#fb9f3a\"], [0.8888888888888888, \"#fdca26\"], [1.0, \"#f0f921\"]], \"type\": \"surface\"}], \"table\": [{\"cells\": {\"fill\": {\"color\": \"#506784\"}, \"line\": {\"color\": \"rgb(17,17,17)\"}}, \"header\": {\"fill\": {\"color\": \"#2a3f5f\"}, \"line\": {\"color\": \"rgb(17,17,17)\"}}, \"type\": \"table\"}]}, \"layout\": {\"annotationdefaults\": {\"arrowcolor\": \"#f2f5fa\", \"arrowhead\": 0, \"arrowwidth\": 1}, \"colorscale\": {\"diverging\": [[0, \"#8e0152\"], [0.1, \"#c51b7d\"], [0.2, \"#de77ae\"], [0.3, \"#f1b6da\"], [0.4, \"#fde0ef\"], [0.5, \"#f7f7f7\"], [0.6, \"#e6f5d0\"], [0.7, \"#b8e186\"], [0.8, \"#7fbc41\"], [0.9, \"#4d9221\"], [1, \"#276419\"]], \"sequential\": [[0.0, \"#0d0887\"], [0.1111111111111111, \"#46039f\"], [0.2222222222222222, \"#7201a8\"], [0.3333333333333333, \"#9c179e\"], [0.4444444444444444, \"#bd3786\"], [0.5555555555555556, \"#d8576b\"], [0.6666666666666666, \"#ed7953\"], [0.7777777777777778, \"#fb9f3a\"], [0.8888888888888888, \"#fdca26\"], [1.0, \"#f0f921\"]], \"sequentialminus\": [[0.0, \"#0d0887\"], [0.1111111111111111, \"#46039f\"], [0.2222222222222222, \"#7201a8\"], [0.3333333333333333, \"#9c179e\"], [0.4444444444444444, \"#bd3786\"], [0.5555555555555556, \"#d8576b\"], [0.6666666666666666, \"#ed7953\"], [0.7777777777777778, \"#fb9f3a\"], [0.8888888888888888, \"#fdca26\"], [1.0, \"#f0f921\"]]}, \"colorway\": [\"#636efa\", \"#EF553B\", \"#00cc96\", \"#ab63fa\", \"#FFA15A\", \"#19d3f3\", \"#FF6692\", \"#B6E880\", \"#FF97FF\", \"#FECB52\"], \"font\": {\"color\": \"#f2f5fa\"}, \"geo\": {\"bgcolor\": \"rgb(17,17,17)\", \"lakecolor\": \"rgb(17,17,17)\", \"landcolor\": \"rgb(17,17,17)\", \"showlakes\": true, \"showland\": true, \"subunitcolor\": \"#506784\"}, \"hoverlabel\": {\"align\": \"left\"}, \"hovermode\": \"closest\", \"mapbox\": {\"style\": \"dark\"}, \"paper_bgcolor\": \"rgb(17,17,17)\", \"plot_bgcolor\": \"rgb(17,17,17)\", \"polar\": {\"angularaxis\": {\"gridcolor\": \"#506784\", \"linecolor\": \"#506784\", \"ticks\": \"\"}, \"bgcolor\": \"rgb(17,17,17)\", \"radialaxis\": {\"gridcolor\": \"#506784\", \"linecolor\": \"#506784\", \"ticks\": \"\"}}, \"scene\": {\"xaxis\": {\"backgroundcolor\": \"rgb(17,17,17)\", \"gridcolor\": \"#506784\", \"gridwidth\": 2, \"linecolor\": \"#506784\", \"showbackground\": true, \"ticks\": \"\", \"zerolinecolor\": \"#C8D4E3\"}, \"yaxis\": {\"backgroundcolor\": \"rgb(17,17,17)\", \"gridcolor\": \"#506784\", \"gridwidth\": 2, \"linecolor\": \"#506784\", \"showbackground\": true, \"ticks\": \"\", \"zerolinecolor\": \"#C8D4E3\"}, \"zaxis\": {\"backgroundcolor\": \"rgb(17,17,17)\", \"gridcolor\": \"#506784\", \"gridwidth\": 2, \"linecolor\": \"#506784\", \"showbackground\": true, \"ticks\": \"\", \"zerolinecolor\": \"#C8D4E3\"}}, \"shapedefaults\": {\"line\": {\"color\": \"#f2f5fa\"}}, \"sliderdefaults\": {\"bgcolor\": \"#C8D4E3\", \"bordercolor\": \"rgb(17,17,17)\", \"borderwidth\": 1, \"tickwidth\": 0}, \"ternary\": {\"aaxis\": {\"gridcolor\": \"#506784\", \"linecolor\": \"#506784\", \"ticks\": \"\"}, \"baxis\": {\"gridcolor\": \"#506784\", \"linecolor\": \"#506784\", \"ticks\": \"\"}, \"bgcolor\": \"rgb(17,17,17)\", \"caxis\": {\"gridcolor\": \"#506784\", \"linecolor\": \"#506784\", \"ticks\": \"\"}}, \"title\": {\"x\": 0.05}, \"updatemenudefaults\": {\"bgcolor\": \"#506784\", \"borderwidth\": 0}, \"xaxis\": {\"automargin\": true, \"gridcolor\": \"#283442\", \"linecolor\": \"#506784\", \"ticks\": \"\", \"zerolinecolor\": \"#283442\", \"zerolinewidth\": 2}, \"yaxis\": {\"automargin\": true, \"gridcolor\": \"#283442\", \"linecolor\": \"#506784\", \"ticks\": \"\", \"zerolinecolor\": \"#283442\", \"zerolinewidth\": 2}}}, \"title\": {\"text\": \"Visualization of ASEAN Cities Ranked by Annual Sunshine Hours Created by: Muhammad Sifa'ul Rizky\"}},\n",
       "                        {\"responsive\": true}\n",
       "                    ).then(function(){\n",
       "                            \n",
       "var gd = document.getElementById('51bf52e9-66b8-443f-aacf-4f2681503c61');\n",
       "var x = new MutationObserver(function (mutations, observer) {{\n",
       "        var display = window.getComputedStyle(gd).display;\n",
       "        if (!display || display === 'none') {{\n",
       "            console.log([gd, 'removed!']);\n",
       "            Plotly.purge(gd);\n",
       "            observer.disconnect();\n",
       "        }}\n",
       "}});\n",
       "\n",
       "// Listen for the removal of the full notebook cells\n",
       "var notebookContainer = gd.closest('#notebook-container');\n",
       "if (notebookContainer) {{\n",
       "    x.observe(notebookContainer, {childList: true});\n",
       "}}\n",
       "\n",
       "// Listen for the clearing of the current output cell\n",
       "var outputEl = gd.closest('.output');\n",
       "if (outputEl) {{\n",
       "    x.observe(outputEl, {childList: true});\n",
       "}}\n",
       "\n",
       "                        })\n",
       "                };\n",
       "                });\n",
       "            </script>\n",
       "        </div>"
      ]
     },
     "metadata": {},
     "output_type": "display_data"
    }
   ],
   "source": []
  },
  {
   "cell_type": "code",
   "execution_count": 24,
   "metadata": {
    "ExecuteTime": {
     "end_time": "2019-10-29T04:08:05.306878Z",
     "start_time": "2019-10-29T04:08:05.211481Z"
    }
   },
   "outputs": [
    {
     "data": {
      "text/html": [
       "<div>\n",
       "<style scoped>\n",
       "    .dataframe tbody tr th:only-of-type {\n",
       "        vertical-align: middle;\n",
       "    }\n",
       "\n",
       "    .dataframe tbody tr th {\n",
       "        vertical-align: top;\n",
       "    }\n",
       "\n",
       "    .dataframe thead th {\n",
       "        text-align: right;\n",
       "    }\n",
       "</style>\n",
       "<table border=\"1\" class=\"dataframe\">\n",
       "  <thead>\n",
       "    <tr style=\"text-align: right;\">\n",
       "      <th></th>\n",
       "      <th>direction</th>\n",
       "      <th>strength</th>\n",
       "      <th>frequency</th>\n",
       "    </tr>\n",
       "  </thead>\n",
       "  <tbody>\n",
       "    <tr>\n",
       "      <th>0</th>\n",
       "      <td>N</td>\n",
       "      <td>0-1</td>\n",
       "      <td>0.50</td>\n",
       "    </tr>\n",
       "    <tr>\n",
       "      <th>1</th>\n",
       "      <td>NNE</td>\n",
       "      <td>0-1</td>\n",
       "      <td>0.60</td>\n",
       "    </tr>\n",
       "    <tr>\n",
       "      <th>2</th>\n",
       "      <td>NE</td>\n",
       "      <td>0-1</td>\n",
       "      <td>0.50</td>\n",
       "    </tr>\n",
       "    <tr>\n",
       "      <th>3</th>\n",
       "      <td>ENE</td>\n",
       "      <td>0-1</td>\n",
       "      <td>0.40</td>\n",
       "    </tr>\n",
       "    <tr>\n",
       "      <th>4</th>\n",
       "      <td>E</td>\n",
       "      <td>0-1</td>\n",
       "      <td>0.40</td>\n",
       "    </tr>\n",
       "    <tr>\n",
       "      <th>5</th>\n",
       "      <td>ESE</td>\n",
       "      <td>0-1</td>\n",
       "      <td>0.30</td>\n",
       "    </tr>\n",
       "    <tr>\n",
       "      <th>6</th>\n",
       "      <td>SE</td>\n",
       "      <td>0-1</td>\n",
       "      <td>0.40</td>\n",
       "    </tr>\n",
       "    <tr>\n",
       "      <th>7</th>\n",
       "      <td>SSE</td>\n",
       "      <td>0-1</td>\n",
       "      <td>0.40</td>\n",
       "    </tr>\n",
       "    <tr>\n",
       "      <th>8</th>\n",
       "      <td>S</td>\n",
       "      <td>0-1</td>\n",
       "      <td>0.60</td>\n",
       "    </tr>\n",
       "    <tr>\n",
       "      <th>9</th>\n",
       "      <td>SSW</td>\n",
       "      <td>0-1</td>\n",
       "      <td>0.40</td>\n",
       "    </tr>\n",
       "    <tr>\n",
       "      <th>10</th>\n",
       "      <td>SW</td>\n",
       "      <td>0-1</td>\n",
       "      <td>0.50</td>\n",
       "    </tr>\n",
       "    <tr>\n",
       "      <th>11</th>\n",
       "      <td>WSW</td>\n",
       "      <td>0-1</td>\n",
       "      <td>0.60</td>\n",
       "    </tr>\n",
       "    <tr>\n",
       "      <th>12</th>\n",
       "      <td>W</td>\n",
       "      <td>0-1</td>\n",
       "      <td>0.60</td>\n",
       "    </tr>\n",
       "    <tr>\n",
       "      <th>13</th>\n",
       "      <td>WNW</td>\n",
       "      <td>0-1</td>\n",
       "      <td>0.50</td>\n",
       "    </tr>\n",
       "    <tr>\n",
       "      <th>14</th>\n",
       "      <td>NW</td>\n",
       "      <td>0-1</td>\n",
       "      <td>0.40</td>\n",
       "    </tr>\n",
       "    <tr>\n",
       "      <th>15</th>\n",
       "      <td>NNW</td>\n",
       "      <td>0-1</td>\n",
       "      <td>0.10</td>\n",
       "    </tr>\n",
       "    <tr>\n",
       "      <th>16</th>\n",
       "      <td>N</td>\n",
       "      <td>1-2</td>\n",
       "      <td>1.60</td>\n",
       "    </tr>\n",
       "    <tr>\n",
       "      <th>17</th>\n",
       "      <td>NNE</td>\n",
       "      <td>1-2</td>\n",
       "      <td>1.80</td>\n",
       "    </tr>\n",
       "    <tr>\n",
       "      <th>18</th>\n",
       "      <td>NE</td>\n",
       "      <td>1-2</td>\n",
       "      <td>1.50</td>\n",
       "    </tr>\n",
       "    <tr>\n",
       "      <th>19</th>\n",
       "      <td>ENE</td>\n",
       "      <td>1-2</td>\n",
       "      <td>1.60</td>\n",
       "    </tr>\n",
       "    <tr>\n",
       "      <th>20</th>\n",
       "      <td>E</td>\n",
       "      <td>1-2</td>\n",
       "      <td>1.60</td>\n",
       "    </tr>\n",
       "    <tr>\n",
       "      <th>21</th>\n",
       "      <td>ESE</td>\n",
       "      <td>1-2</td>\n",
       "      <td>1.20</td>\n",
       "    </tr>\n",
       "    <tr>\n",
       "      <th>22</th>\n",
       "      <td>SE</td>\n",
       "      <td>1-2</td>\n",
       "      <td>1.50</td>\n",
       "    </tr>\n",
       "    <tr>\n",
       "      <th>23</th>\n",
       "      <td>SSE</td>\n",
       "      <td>1-2</td>\n",
       "      <td>1.70</td>\n",
       "    </tr>\n",
       "    <tr>\n",
       "      <th>24</th>\n",
       "      <td>S</td>\n",
       "      <td>1-2</td>\n",
       "      <td>2.20</td>\n",
       "    </tr>\n",
       "    <tr>\n",
       "      <th>25</th>\n",
       "      <td>SSW</td>\n",
       "      <td>1-2</td>\n",
       "      <td>2.00</td>\n",
       "    </tr>\n",
       "    <tr>\n",
       "      <th>26</th>\n",
       "      <td>SW</td>\n",
       "      <td>1-2</td>\n",
       "      <td>2.30</td>\n",
       "    </tr>\n",
       "    <tr>\n",
       "      <th>27</th>\n",
       "      <td>WSW</td>\n",
       "      <td>1-2</td>\n",
       "      <td>2.40</td>\n",
       "    </tr>\n",
       "    <tr>\n",
       "      <th>28</th>\n",
       "      <td>W</td>\n",
       "      <td>1-2</td>\n",
       "      <td>2.30</td>\n",
       "    </tr>\n",
       "    <tr>\n",
       "      <th>29</th>\n",
       "      <td>WNW</td>\n",
       "      <td>1-2</td>\n",
       "      <td>2.60</td>\n",
       "    </tr>\n",
       "    <tr>\n",
       "      <th>...</th>\n",
       "      <td>...</td>\n",
       "      <td>...</td>\n",
       "      <td>...</td>\n",
       "    </tr>\n",
       "    <tr>\n",
       "      <th>98</th>\n",
       "      <td>NE</td>\n",
       "      <td>5-6</td>\n",
       "      <td>0.10</td>\n",
       "    </tr>\n",
       "    <tr>\n",
       "      <th>99</th>\n",
       "      <td>ENE</td>\n",
       "      <td>5-6</td>\n",
       "      <td>0.10</td>\n",
       "    </tr>\n",
       "    <tr>\n",
       "      <th>100</th>\n",
       "      <td>E</td>\n",
       "      <td>5-6</td>\n",
       "      <td>0.10</td>\n",
       "    </tr>\n",
       "    <tr>\n",
       "      <th>101</th>\n",
       "      <td>ESE</td>\n",
       "      <td>5-6</td>\n",
       "      <td>0.10</td>\n",
       "    </tr>\n",
       "    <tr>\n",
       "      <th>102</th>\n",
       "      <td>SE</td>\n",
       "      <td>5-6</td>\n",
       "      <td>0.05</td>\n",
       "    </tr>\n",
       "    <tr>\n",
       "      <th>103</th>\n",
       "      <td>SSE</td>\n",
       "      <td>5-6</td>\n",
       "      <td>0.05</td>\n",
       "    </tr>\n",
       "    <tr>\n",
       "      <th>104</th>\n",
       "      <td>S</td>\n",
       "      <td>5-6</td>\n",
       "      <td>0.10</td>\n",
       "    </tr>\n",
       "    <tr>\n",
       "      <th>105</th>\n",
       "      <td>SSW</td>\n",
       "      <td>5-6</td>\n",
       "      <td>0.05</td>\n",
       "    </tr>\n",
       "    <tr>\n",
       "      <th>106</th>\n",
       "      <td>SW</td>\n",
       "      <td>5-6</td>\n",
       "      <td>0.20</td>\n",
       "    </tr>\n",
       "    <tr>\n",
       "      <th>107</th>\n",
       "      <td>WSW</td>\n",
       "      <td>5-6</td>\n",
       "      <td>0.20</td>\n",
       "    </tr>\n",
       "    <tr>\n",
       "      <th>108</th>\n",
       "      <td>W</td>\n",
       "      <td>5-6</td>\n",
       "      <td>0.40</td>\n",
       "    </tr>\n",
       "    <tr>\n",
       "      <th>109</th>\n",
       "      <td>WNW</td>\n",
       "      <td>5-6</td>\n",
       "      <td>0.70</td>\n",
       "    </tr>\n",
       "    <tr>\n",
       "      <th>110</th>\n",
       "      <td>NW</td>\n",
       "      <td>5-6</td>\n",
       "      <td>0.70</td>\n",
       "    </tr>\n",
       "    <tr>\n",
       "      <th>111</th>\n",
       "      <td>NNW</td>\n",
       "      <td>5-6</td>\n",
       "      <td>0.40</td>\n",
       "    </tr>\n",
       "    <tr>\n",
       "      <th>112</th>\n",
       "      <td>N</td>\n",
       "      <td>6+</td>\n",
       "      <td>0.10</td>\n",
       "    </tr>\n",
       "    <tr>\n",
       "      <th>113</th>\n",
       "      <td>NNE</td>\n",
       "      <td>6+</td>\n",
       "      <td>0.10</td>\n",
       "    </tr>\n",
       "    <tr>\n",
       "      <th>114</th>\n",
       "      <td>NE</td>\n",
       "      <td>6+</td>\n",
       "      <td>0.10</td>\n",
       "    </tr>\n",
       "    <tr>\n",
       "      <th>115</th>\n",
       "      <td>ENE</td>\n",
       "      <td>6+</td>\n",
       "      <td>0.10</td>\n",
       "    </tr>\n",
       "    <tr>\n",
       "      <th>116</th>\n",
       "      <td>E</td>\n",
       "      <td>6+</td>\n",
       "      <td>0.10</td>\n",
       "    </tr>\n",
       "    <tr>\n",
       "      <th>117</th>\n",
       "      <td>ESE</td>\n",
       "      <td>6+</td>\n",
       "      <td>0.05</td>\n",
       "    </tr>\n",
       "    <tr>\n",
       "      <th>118</th>\n",
       "      <td>SE</td>\n",
       "      <td>6+</td>\n",
       "      <td>0.05</td>\n",
       "    </tr>\n",
       "    <tr>\n",
       "      <th>119</th>\n",
       "      <td>SSE</td>\n",
       "      <td>6+</td>\n",
       "      <td>0.05</td>\n",
       "    </tr>\n",
       "    <tr>\n",
       "      <th>120</th>\n",
       "      <td>S</td>\n",
       "      <td>6+</td>\n",
       "      <td>0.05</td>\n",
       "    </tr>\n",
       "    <tr>\n",
       "      <th>121</th>\n",
       "      <td>SSW</td>\n",
       "      <td>6+</td>\n",
       "      <td>0.10</td>\n",
       "    </tr>\n",
       "    <tr>\n",
       "      <th>122</th>\n",
       "      <td>SW</td>\n",
       "      <td>6+</td>\n",
       "      <td>0.10</td>\n",
       "    </tr>\n",
       "    <tr>\n",
       "      <th>123</th>\n",
       "      <td>WSW</td>\n",
       "      <td>6+</td>\n",
       "      <td>0.10</td>\n",
       "    </tr>\n",
       "    <tr>\n",
       "      <th>124</th>\n",
       "      <td>W</td>\n",
       "      <td>6+</td>\n",
       "      <td>0.90</td>\n",
       "    </tr>\n",
       "    <tr>\n",
       "      <th>125</th>\n",
       "      <td>WNW</td>\n",
       "      <td>6+</td>\n",
       "      <td>2.20</td>\n",
       "    </tr>\n",
       "    <tr>\n",
       "      <th>126</th>\n",
       "      <td>NW</td>\n",
       "      <td>6+</td>\n",
       "      <td>1.50</td>\n",
       "    </tr>\n",
       "    <tr>\n",
       "      <th>127</th>\n",
       "      <td>NNW</td>\n",
       "      <td>6+</td>\n",
       "      <td>0.20</td>\n",
       "    </tr>\n",
       "  </tbody>\n",
       "</table>\n",
       "<p>128 rows × 3 columns</p>\n",
       "</div>"
      ],
      "text/plain": [
       "    direction strength  frequency\n",
       "0           N      0-1       0.50\n",
       "1         NNE      0-1       0.60\n",
       "2          NE      0-1       0.50\n",
       "3         ENE      0-1       0.40\n",
       "4           E      0-1       0.40\n",
       "5         ESE      0-1       0.30\n",
       "6          SE      0-1       0.40\n",
       "7         SSE      0-1       0.40\n",
       "8           S      0-1       0.60\n",
       "9         SSW      0-1       0.40\n",
       "10         SW      0-1       0.50\n",
       "11        WSW      0-1       0.60\n",
       "12          W      0-1       0.60\n",
       "13        WNW      0-1       0.50\n",
       "14         NW      0-1       0.40\n",
       "15        NNW      0-1       0.10\n",
       "16          N      1-2       1.60\n",
       "17        NNE      1-2       1.80\n",
       "18         NE      1-2       1.50\n",
       "19        ENE      1-2       1.60\n",
       "20          E      1-2       1.60\n",
       "21        ESE      1-2       1.20\n",
       "22         SE      1-2       1.50\n",
       "23        SSE      1-2       1.70\n",
       "24          S      1-2       2.20\n",
       "25        SSW      1-2       2.00\n",
       "26         SW      1-2       2.30\n",
       "27        WSW      1-2       2.40\n",
       "28          W      1-2       2.30\n",
       "29        WNW      1-2       2.60\n",
       "..        ...      ...        ...\n",
       "98         NE      5-6       0.10\n",
       "99        ENE      5-6       0.10\n",
       "100         E      5-6       0.10\n",
       "101       ESE      5-6       0.10\n",
       "102        SE      5-6       0.05\n",
       "103       SSE      5-6       0.05\n",
       "104         S      5-6       0.10\n",
       "105       SSW      5-6       0.05\n",
       "106        SW      5-6       0.20\n",
       "107       WSW      5-6       0.20\n",
       "108         W      5-6       0.40\n",
       "109       WNW      5-6       0.70\n",
       "110        NW      5-6       0.70\n",
       "111       NNW      5-6       0.40\n",
       "112         N       6+       0.10\n",
       "113       NNE       6+       0.10\n",
       "114        NE       6+       0.10\n",
       "115       ENE       6+       0.10\n",
       "116         E       6+       0.10\n",
       "117       ESE       6+       0.05\n",
       "118        SE       6+       0.05\n",
       "119       SSE       6+       0.05\n",
       "120         S       6+       0.05\n",
       "121       SSW       6+       0.10\n",
       "122        SW       6+       0.10\n",
       "123       WSW       6+       0.10\n",
       "124         W       6+       0.90\n",
       "125       WNW       6+       2.20\n",
       "126        NW       6+       1.50\n",
       "127       NNW       6+       0.20\n",
       "\n",
       "[128 rows x 3 columns]"
      ]
     },
     "execution_count": 24,
     "metadata": {},
     "output_type": "execute_result"
    }
   ],
   "source": [
    "wind = px.data.wind()\n",
    "wind"
   ]
  },
  {
   "cell_type": "code",
   "execution_count": null,
   "metadata": {},
   "outputs": [],
   "source": []
  }
 ],
 "metadata": {
  "kernelspec": {
   "display_name": "Python 3",
   "language": "python",
   "name": "python3"
  },
  "language_info": {
   "codemirror_mode": {
    "name": "ipython",
    "version": 3
   },
   "file_extension": ".py",
   "mimetype": "text/x-python",
   "name": "python",
   "nbconvert_exporter": "python",
   "pygments_lexer": "ipython3",
   "version": "3.7.3"
  },
  "toc": {
   "base_numbering": 1,
   "nav_menu": {},
   "number_sections": true,
   "sideBar": true,
   "skip_h1_title": false,
   "title_cell": "Table of Contents",
   "title_sidebar": "Contents",
   "toc_cell": false,
   "toc_position": {},
   "toc_section_display": true,
   "toc_window_display": false
  },
  "varInspector": {
   "cols": {
    "lenName": 16,
    "lenType": 16,
    "lenVar": 40
   },
   "kernels_config": {
    "python": {
     "delete_cmd_postfix": "",
     "delete_cmd_prefix": "del ",
     "library": "var_list.py",
     "varRefreshCmd": "print(var_dic_list())"
    },
    "r": {
     "delete_cmd_postfix": ") ",
     "delete_cmd_prefix": "rm(",
     "library": "var_list.r",
     "varRefreshCmd": "cat(var_dic_list()) "
    }
   },
   "types_to_exclude": [
    "module",
    "function",
    "builtin_function_or_method",
    "instance",
    "_Feature"
   ],
   "window_display": false
  }
 },
 "nbformat": 4,
 "nbformat_minor": 2
}
